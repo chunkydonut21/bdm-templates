{
 "cells": [
  {
   "cell_type": "markdown",
   "metadata": {},
   "source": [
    "## PROJECT 4 - Airline Delay and Cancellation Prediction with Spark ML"
   ]
  },
  {
   "cell_type": "markdown",
   "metadata": {},
   "source": [
    "###  Imports & Spark Session "
   ]
  },
  {
   "cell_type": "code",
   "execution_count": 1,
   "metadata": {},
   "outputs": [
    {
     "name": "stdout",
     "output_type": "stream",
     "text": [
      "Spark 3.5.3 initialised !\n"
     ]
    }
   ],
   "source": [
    "import pyspark\n",
    "from pyspark.sql import SparkSession, functions as F\n",
    "from pyspark.sql.types import (StructType, StructField, IntegerType, StringType,\n",
    "                               DoubleType, DateType)\n",
    "from pyspark.storagelevel import StorageLevel\n",
    "\n",
    "from pyspark.ml import Pipeline\n",
    "from pyspark.ml.feature import StringIndexer, OneHotEncoder, VectorAssembler\n",
    "from pyspark.ml.classification import (LogisticRegression, DecisionTreeClassifier,\n",
    "                                       RandomForestClassifier, GBTClassifier)\n",
    "from pyspark.ml.evaluation import (BinaryClassificationEvaluator,\n",
    "                                   MulticlassClassificationEvaluator)\n",
    "from pyspark.ml.tuning import CrossValidator, ParamGridBuilder\n",
    "\n",
    "# Start Spark session\n",
    "spark = SparkSession.builder \\\n",
    "    .appName(\"Airline_Delay_Cancel_Prediction\") \\\n",
    "    .config(\"spark.sql.shuffle.partitions\", \"8\") \\\n",
    "    .config(\"spark.executor.memory\", \"4g\") \\\n",
    "    .config(\"spark.driver.memory\", \"4g\") \\\n",
    "    .getOrCreate()\n",
    "\n",
    "print(f\"Spark {spark.version} initialised !\")"
   ]
  },
  {
   "cell_type": "markdown",
   "metadata": {},
   "source": [
    "### Data Ingestion"
   ]
  },
  {
   "cell_type": "code",
   "execution_count": 2,
   "metadata": {},
   "outputs": [
    {
     "name": "stdout",
     "output_type": "stream",
     "text": [
      "DataFrame Schema:\n",
      "root\n",
      " |-- FL_DATE: date (nullable = true)\n",
      " |-- OP_CARRIER: string (nullable = true)\n",
      " |-- OP_CARRIER_FL_NUM: integer (nullable = true)\n",
      " |-- ORIGIN: string (nullable = true)\n",
      " |-- DEST: string (nullable = true)\n",
      " |-- CRS_DEP_TIME: integer (nullable = true)\n",
      " |-- DEP_TIME: double (nullable = true)\n",
      " |-- DEP_DELAY: double (nullable = true)\n",
      " |-- TAXI_OUT: double (nullable = true)\n",
      " |-- WHEELS_OFF: double (nullable = true)\n",
      " |-- WHEELS_ON: double (nullable = true)\n",
      " |-- TAXI_IN: double (nullable = true)\n",
      " |-- CRS_ARR_TIME: integer (nullable = true)\n",
      " |-- ARR_TIME: double (nullable = true)\n",
      " |-- ARR_DELAY: double (nullable = true)\n",
      " |-- CANCELLED: double (nullable = true)\n",
      " |-- CANCELLATION_CODE: string (nullable = true)\n",
      " |-- DIVERTED: double (nullable = true)\n",
      " |-- CRS_ELAPSED_TIME: double (nullable = true)\n",
      " |-- ACTUAL_ELAPSED_TIME: double (nullable = true)\n",
      " |-- AIR_TIME: double (nullable = true)\n",
      " |-- DISTANCE: double (nullable = true)\n",
      " |-- CARRIER_DELAY: double (nullable = true)\n",
      " |-- WEATHER_DELAY: double (nullable = true)\n",
      " |-- NAS_DELAY: double (nullable = true)\n",
      " |-- SECURITY_DELAY: double (nullable = true)\n",
      " |-- LATE_AIRCRAFT_DELAY: double (nullable = true)\n",
      " |-- Unnamed: 27: string (nullable = true)\n",
      "\n"
     ]
    }
   ],
   "source": [
    "# Define schema based on cleaned names for explicit loading (alternative to inferSchema)\n",
    "# This provides more control and avoids an extra Spark job for inference.\n",
    "\n",
    "schema = StructType([\n",
    "    StructField(\"FL_DATE\", DateType(), True),\n",
    "    StructField(\"OP_CARRIER\", StringType(), True),\n",
    "    StructField(\"OP_CARRIER_FL_NUM\", IntegerType(), True),\n",
    "    StructField(\"ORIGIN\", StringType(), True),\n",
    "    StructField(\"DEST\", StringType(), True),\n",
    "    StructField(\"CRS_DEP_TIME\", IntegerType(), True),\n",
    "    StructField(\"DEP_TIME\", DoubleType(), True),\n",
    "    StructField(\"DEP_DELAY\", DoubleType(), True),\n",
    "    StructField(\"TAXI_OUT\", DoubleType(), True),\n",
    "    StructField(\"WHEELS_OFF\", DoubleType(), True),\n",
    "    StructField(\"WHEELS_ON\", DoubleType(), True),\n",
    "    StructField(\"TAXI_IN\", DoubleType(), True),\n",
    "    StructField(\"CRS_ARR_TIME\", IntegerType(), True),\n",
    "    StructField(\"ARR_TIME\", DoubleType(), True),\n",
    "    StructField(\"ARR_DELAY\", DoubleType(), True),\n",
    "    StructField(\"CANCELLED\", DoubleType(), True),\n",
    "    StructField(\"CANCELLATION_CODE\", StringType(), True),\n",
    "    StructField(\"DIVERTED\", DoubleType(), True),\n",
    "    StructField(\"CRS_ELAPSED_TIME\", DoubleType(), True),\n",
    "    StructField(\"ACTUAL_ELAPSED_TIME\", DoubleType(), True),\n",
    "    StructField(\"AIR_TIME\", DoubleType(), True),\n",
    "    StructField(\"DISTANCE\", DoubleType(), True),\n",
    "    StructField(\"CARRIER_DELAY\", DoubleType(), True),\n",
    "    StructField(\"WEATHER_DELAY\", DoubleType(), True),\n",
    "    StructField(\"NAS_DELAY\", DoubleType(), True),\n",
    "    StructField(\"SECURITY_DELAY\", DoubleType(), True),\n",
    "    StructField(\"LATE_AIRCRAFT_DELAY\", DoubleType(), True),\n",
    "    StructField(\"Unnamed: 27\", StringType(), True)\n",
    "])\n",
    "\n",
    "\n",
    "TRAIN_PATH = \"input/2009.csv\"\n",
    "TEST_PATH  = \"input/2010.csv\"\n",
    "\n",
    "flights_2009 = spark.read.format(\"csv\") \\\n",
    "    .option(\"header\", \"true\") \\\n",
    "    .option(\"ignoreLeadingWhiteSpace\", \"true\") \\\n",
    "    .option(\"ignoreTrailingWhiteSpace\", \"true\") \\\n",
    "    .schema(schema) \\\n",
    "    .load(TRAIN_PATH)\n",
    "\n",
    "test_df = spark.read.format(\"csv\") \\\n",
    "    .option(\"header\", \"true\") \\\n",
    "    .option(\"ignoreLeadingWhiteSpace\", \"true\") \\\n",
    "    .option(\"ignoreTrailingWhiteSpace\", \"true\") \\\n",
    "    .schema(schema) \\\n",
    "    .load(TEST_PATH)\n",
    "\n",
    "# Print the schema to verify data types\n",
    "print(\"DataFrame Schema:\")\n",
    "flights_2009.printSchema()"
   ]
  },
  {
   "cell_type": "code",
   "execution_count": 3,
   "metadata": {},
   "outputs": [],
   "source": [
    "# Data Writing as Partitioned Parquet for Scalability\n",
    "parquet_path = \"output/parquet/flight_2009_partitioned\"\n",
    "#flights_2009.write.mode(\"overwrite\").partitionBy(\"Month\", \"DayOfWeek\").parquet(parquet_path)\n"
   ]
  },
  {
   "cell_type": "markdown",
   "metadata": {},
   "source": [
    "### Cleaning & Preprocessing"
   ]
  },
  {
   "cell_type": "code",
   "execution_count": 4,
   "metadata": {},
   "outputs": [],
   "source": [
    "renamed_columns = [\n",
    "    \"Date\", \"UniqueCarrier\", \"FlightNumber\", \"Origin\", \"Destination\",\n",
    "    \"CRSDepTime\", \"DepartureTime\", \"DepartureDelay\", \"TaxiOut\", \"WheelsOff\",\n",
    "    \"WheelsOn\", \"TaxiIn\", \"CRSArrivalTime\", \"ArrivalTime\", \"ArrivalDelay\",\n",
    "    \"Cancelled\", \"CancellationCode\", \"Diverted\", \"CRSElapsedTime\",\n",
    "    \"ActualElapsedTime\", \"AirTime\", \"Distance\", \"CarrierDelay\",\n",
    "    \"WeatherDelay\", \"NASDelay\", \"SecurityDelay\", \"LateAircraftDelay\",\n",
    "    \"UnusedColumn\"\n",
    "]\n",
    "\n",
    "flights_2009 = flights_2009.toDF(*renamed_columns)\n",
    "\n",
    "test_df = test_df.toDF(*renamed_columns)"
   ]
  },
  {
   "cell_type": "code",
   "execution_count": 5,
   "metadata": {},
   "outputs": [],
   "source": [
    "flights_2009 = flights_2009.withColumn(\"DayofWeek\", F.dayofweek(\"Date\")) \\\n",
    "                     .withColumn(\"Month\", F.month(\"Date\"))\n",
    "\n",
    "test_df = test_df.withColumn(\"DayofWeek\", F.dayofweek(\"Date\")) \\\n",
    "                     .withColumn(\"Month\", F.month(\"Date\"))"
   ]
  },
  {
   "cell_type": "code",
   "execution_count": 6,
   "metadata": {},
   "outputs": [
    {
     "name": "stdout",
     "output_type": "stream",
     "text": [
      "+----+-------------+------------+------+-----------+----------+-------------+--------------+-------+---------+--------+------+--------------+-----------+------------+---------+----------------+--------+--------------+-----------------+-------+--------+------------+------------+--------+-------------+-----------------+------------+---------+-----+\n",
      "|Date|UniqueCarrier|FlightNumber|Origin|Destination|CRSDepTime|DepartureTime|DepartureDelay|TaxiOut|WheelsOff|WheelsOn|TaxiIn|CRSArrivalTime|ArrivalTime|ArrivalDelay|Cancelled|CancellationCode|Diverted|CRSElapsedTime|ActualElapsedTime|AirTime|Distance|CarrierDelay|WeatherDelay|NASDelay|SecurityDelay|LateAircraftDelay|UnusedColumn|DayofWeek|Month|\n",
      "+----+-------------+------------+------+-----------+----------+-------------+--------------+-------+---------+--------+------+--------------+-----------+------------+---------+----------------+--------+--------------+-----------------+-------+--------+------------+------------+--------+-------------+-----------------+------------+---------+-----+\n",
      "|   0|            0|           0|     0|          0|         0|        82867|         82867|  85787|    85787|   89322| 89321|             0|      89322|      102361|        0|         6342300|       0|             0|           102362| 102361|       0|     5258837|     5258837| 5258837|      5258837|          5258837|     6429338|        0|    0|\n",
      "+----+-------------+------------+------+-----------+----------+-------------+--------------+-------+---------+--------+------+--------------+-----------+------------+---------+----------------+--------+--------------+-----------------+-------+--------+------------+------------+--------+-------------+-----------------+------------+---------+-----+\n",
      "\n"
     ]
    }
   ],
   "source": [
    "flights_2009.select([\n",
    "    F.count(F.when(F.col(c).isNull() | (F.isnan(c) if dict(flights_2009.dtypes)[c] in ('double', 'float') else F.lit(False)), c)).alias(c)\n",
    "    for c in flights_2009.columns\n",
    "]).show()\n"
   ]
  },
  {
   "cell_type": "code",
   "execution_count": 7,
   "metadata": {},
   "outputs": [
    {
     "name": "stdout",
     "output_type": "stream",
     "text": [
      "+----+-------------+------------+------+-----------+----------+-------------+--------------+-------+---------+--------+------+--------------+-----------+------------+---------+----------------+--------+--------------+-----------------+-------+--------+------------+------------+--------+-------------+-----------------+------------+---------+-----+\n",
      "|Date|UniqueCarrier|FlightNumber|Origin|Destination|CRSDepTime|DepartureTime|DepartureDelay|TaxiOut|WheelsOff|WheelsOn|TaxiIn|CRSArrivalTime|ArrivalTime|ArrivalDelay|Cancelled|CancellationCode|Diverted|CRSElapsedTime|ActualElapsedTime|AirTime|Distance|CarrierDelay|WeatherDelay|NASDelay|SecurityDelay|LateAircraftDelay|UnusedColumn|DayofWeek|Month|\n",
      "+----+-------------+------------+------+-----------+----------+-------------+--------------+-------+---------+--------+------+--------------+-----------+------------+---------+----------------+--------+--------------+-----------------+-------+--------+------------+------------+--------+-------------+-----------------+------------+---------+-----+\n",
      "|   0|            0|           0|     0|          0|         0|       108777|        108777| 111949|   111949|  116060|116060|             0|     116060|      128729|        0|         6336862|       0|            17|           128729| 128729|       0|     5275233|     5275233| 5275233|      5275233|          5275233|     6450117|        0|    0|\n",
      "+----+-------------+------------+------+-----------+----------+-------------+--------------+-------+---------+--------+------+--------------+-----------+------------+---------+----------------+--------+--------------+-----------------+-------+--------+------------+------------+--------+-------------+-----------------+------------+---------+-----+\n",
      "\n"
     ]
    }
   ],
   "source": [
    "test_df.select([\n",
    "    F.count(F.when(F.col(c).isNull() | (F.isnan(c) if dict(test_df.dtypes)[c] in ('double', 'float') else F.lit(False)), c)).alias(c)\n",
    "    for c in test_df.columns\n",
    "]).show()"
   ]
  },
  {
   "cell_type": "code",
   "execution_count": 8,
   "metadata": {},
   "outputs": [
    {
     "name": "stdout",
     "output_type": "stream",
     "text": [
      "Cancelled flights: 87038\n",
      "+----+-------------+------------+------+-----------+----------+-------------+--------------+-------+---------+--------+------+--------------+-----------+------------+---------+----------------+--------+--------------+-----------------+-------+--------+------------+------------+--------+-------------+-----------------+------------+---------+-----+\n",
      "|Date|UniqueCarrier|FlightNumber|Origin|Destination|CRSDepTime|DepartureTime|DepartureDelay|TaxiOut|WheelsOff|WheelsOn|TaxiIn|CRSArrivalTime|ArrivalTime|ArrivalDelay|Cancelled|CancellationCode|Diverted|CRSElapsedTime|ActualElapsedTime|AirTime|Distance|CarrierDelay|WeatherDelay|NASDelay|SecurityDelay|LateAircraftDelay|UnusedColumn|DayofWeek|Month|\n",
      "+----+-------------+------------+------+-----------+----------+-------------+--------------+-------+---------+--------+------+--------------+-----------+------------+---------+----------------+--------+--------------+-----------------+-------+--------+------------+------------+--------+-------------+-----------------+------------+---------+-----+\n",
      "|   0|            0|           0|     0|          0|         0|        82867|         82867|  85787|    85787|   87038| 87038|             0|      87038|       87038|        0|               0|       0|             0|            87038|  87038|       0|       87038|       87038|   87038|        87038|            87038|       87038|        0|    0|\n",
      "+----+-------------+------------+------+-----------+----------+-------------+--------------+-------+---------+--------+------+--------------+-----------+------------+---------+----------------+--------+--------------+-----------------+-------+--------+------------+------------+--------+-------------+-----------------+------------+---------+-----+\n",
      "\n"
     ]
    }
   ],
   "source": [
    "cancelled_flights_df = flights_2009.filter(F.col(\"Cancelled\") == 1)\n",
    "\n",
    "print(\"Cancelled flights:\", cancelled_flights_df.count())\n",
    "\n",
    "cancelled_flights_df.select([\n",
    "    F.count(F.when(F.col(c).isNull() | (F.isnan(c) if dict(flights_2009.dtypes)[c] in ('double', 'float') else F.lit(False)), c)).alias(c)\n",
    "    for c in cancelled_flights_df.columns\n",
    "]).show()"
   ]
  },
  {
   "cell_type": "code",
   "execution_count": 9,
   "metadata": {},
   "outputs": [
    {
     "name": "stdout",
     "output_type": "stream",
     "text": [
      "Cancelled flights: 113255\n",
      "+----+-------------+------------+------+-----------+----------+-------------+--------------+-------+---------+--------+------+--------------+-----------+------------+---------+----------------+--------+--------------+-----------------+-------+--------+------------+------------+--------+-------------+-----------------+------------+---------+-----+\n",
      "|Date|UniqueCarrier|FlightNumber|Origin|Destination|CRSDepTime|DepartureTime|DepartureDelay|TaxiOut|WheelsOff|WheelsOn|TaxiIn|CRSArrivalTime|ArrivalTime|ArrivalDelay|Cancelled|CancellationCode|Diverted|CRSElapsedTime|ActualElapsedTime|AirTime|Distance|CarrierDelay|WeatherDelay|NASDelay|SecurityDelay|LateAircraftDelay|UnusedColumn|DayofWeek|Month|\n",
      "+----+-------------+------------+------+-----------+----------+-------------+--------------+-------+---------+--------+------+--------------+-----------+------------+---------+----------------+--------+--------------+-----------------+-------+--------+------------+------------+--------+-------------+-----------------+------------+---------+-----+\n",
      "|   0|            0|           0|     0|          0|         0|       108777|        108777| 111949|   111949|  113255|113255|             0|     113255|      113255|        0|               0|       0|             8|           113255| 113255|       0|      113255|      113255|  113255|       113255|           113255|      113255|        0|    0|\n",
      "+----+-------------+------------+------+-----------+----------+-------------+--------------+-------+---------+--------+------+--------------+-----------+------------+---------+----------------+--------+--------------+-----------------+-------+--------+------------+------------+--------+-------------+-----------------+------------+---------+-----+\n",
      "\n"
     ]
    }
   ],
   "source": [
    "cancelled_test_df = test_df.filter(F.col(\"Cancelled\") == 1)\n",
    "\n",
    "print(\"Cancelled flights:\", cancelled_test_df.count())\n",
    "\n",
    "cancelled_test_df.select([\n",
    "    F.count(F.when(F.col(c).isNull() | (F.isnan(c) if dict(test_df.dtypes)[c] in ('double', 'float') else F.lit(False)), c)).alias(c)\n",
    "    for c in cancelled_test_df.columns\n",
    "]).show()"
   ]
  },
  {
   "cell_type": "code",
   "execution_count": 10,
   "metadata": {},
   "outputs": [],
   "source": [
    "# Remove the columns with NULL values\n",
    "flights_2009 = flights_2009.drop(\"UnusedColumn\", \"LateAircraftDelay\", \"SecurityDelay\", \"NASDelay\", \"WeatherDelay\", \"CarrierDelay\", \"AirTime\", \"ActualElapsedTime\", \"ArrivalDelay\", \"ArrivalTime\", \"TaxiIn\", \"WheelsOn\")\n",
    "\n",
    "test_df =   test_df.drop(\"UnusedColumn\", \"LateAircraftDelay\", \"SecurityDelay\", \"NASDelay\", \"WeatherDelay\", \"CarrierDelay\", \"AirTime\", \"ActualElapsedTime\", \"ArrivalDelay\", \"ArrivalTime\", \"TaxiIn\", \"WheelsOn\")"
   ]
  },
  {
   "cell_type": "code",
   "execution_count": 11,
   "metadata": {},
   "outputs": [
    {
     "data": {
      "text/html": [
       "<div>\n",
       "<style scoped>\n",
       "    .dataframe tbody tr th:only-of-type {\n",
       "        vertical-align: middle;\n",
       "    }\n",
       "\n",
       "    .dataframe tbody tr th {\n",
       "        vertical-align: top;\n",
       "    }\n",
       "\n",
       "    .dataframe thead th {\n",
       "        text-align: right;\n",
       "    }\n",
       "</style>\n",
       "<table border=\"1\" class=\"dataframe\">\n",
       "  <thead>\n",
       "    <tr style=\"text-align: right;\">\n",
       "      <th></th>\n",
       "      <th>summary</th>\n",
       "      <th>UniqueCarrier</th>\n",
       "      <th>FlightNumber</th>\n",
       "      <th>Origin</th>\n",
       "      <th>Destination</th>\n",
       "      <th>CRSDepTime</th>\n",
       "      <th>DepartureTime</th>\n",
       "      <th>DepartureDelay</th>\n",
       "      <th>TaxiOut</th>\n",
       "      <th>WheelsOff</th>\n",
       "      <th>CRSArrivalTime</th>\n",
       "      <th>Cancelled</th>\n",
       "      <th>CancellationCode</th>\n",
       "      <th>Diverted</th>\n",
       "      <th>CRSElapsedTime</th>\n",
       "      <th>Distance</th>\n",
       "      <th>DayofWeek</th>\n",
       "      <th>Month</th>\n",
       "    </tr>\n",
       "  </thead>\n",
       "  <tbody>\n",
       "    <tr>\n",
       "      <th>0</th>\n",
       "      <td>count</td>\n",
       "      <td>6429338</td>\n",
       "      <td>6429338</td>\n",
       "      <td>6429338</td>\n",
       "      <td>6429338</td>\n",
       "      <td>6429338</td>\n",
       "      <td>6346471</td>\n",
       "      <td>6346471</td>\n",
       "      <td>6343551</td>\n",
       "      <td>6343551</td>\n",
       "      <td>6429338</td>\n",
       "      <td>6429338</td>\n",
       "      <td>87038</td>\n",
       "      <td>6429338</td>\n",
       "      <td>6429338</td>\n",
       "      <td>6429338</td>\n",
       "      <td>6429338</td>\n",
       "      <td>6429338</td>\n",
       "    </tr>\n",
       "    <tr>\n",
       "      <th>1</th>\n",
       "      <td>mean</td>\n",
       "      <td>None</td>\n",
       "      <td>2293.7116343859975</td>\n",
       "      <td>None</td>\n",
       "      <td>None</td>\n",
       "      <td>1319.4466834688112</td>\n",
       "      <td>1326.026277910984</td>\n",
       "      <td>7.598178735867539</td>\n",
       "      <td>16.036132759080836</td>\n",
       "      <td>1350.7975509300707</td>\n",
       "      <td>1496.7219118049168</td>\n",
       "      <td>0.013537630157257247</td>\n",
       "      <td>None</td>\n",
       "      <td>0.0023832935832584943</td>\n",
       "      <td>129.3446482359459</td>\n",
       "      <td>724.9700084207736</td>\n",
       "      <td>3.9334544240791196</td>\n",
       "      <td>6.403640779190641</td>\n",
       "    </tr>\n",
       "    <tr>\n",
       "      <th>2</th>\n",
       "      <td>stddev</td>\n",
       "      <td>None</td>\n",
       "      <td>2046.4974637636094</td>\n",
       "      <td>None</td>\n",
       "      <td>None</td>\n",
       "      <td>457.7529163543437</td>\n",
       "      <td>468.89401144957816</td>\n",
       "      <td>31.764943958809607</td>\n",
       "      <td>10.563825466907762</td>\n",
       "      <td>470.05145211129604</td>\n",
       "      <td>473.3177552778822</td>\n",
       "      <td>0.11556108689381757</td>\n",
       "      <td>None</td>\n",
       "      <td>0.04876078203599105</td>\n",
       "      <td>69.66364081735988</td>\n",
       "      <td>561.0229006051038</td>\n",
       "      <td>1.9522775240815613</td>\n",
       "      <td>3.337858994294268</td>\n",
       "    </tr>\n",
       "    <tr>\n",
       "      <th>3</th>\n",
       "      <td>min</td>\n",
       "      <td>9E</td>\n",
       "      <td>1</td>\n",
       "      <td>ABE</td>\n",
       "      <td>ABE</td>\n",
       "      <td>1</td>\n",
       "      <td>1.0</td>\n",
       "      <td>-96.0</td>\n",
       "      <td>1.0</td>\n",
       "      <td>1.0</td>\n",
       "      <td>1</td>\n",
       "      <td>0.0</td>\n",
       "      <td>A</td>\n",
       "      <td>0.0</td>\n",
       "      <td>1.0</td>\n",
       "      <td>11.0</td>\n",
       "      <td>1</td>\n",
       "      <td>1</td>\n",
       "    </tr>\n",
       "    <tr>\n",
       "      <th>4</th>\n",
       "      <td>max</td>\n",
       "      <td>YV</td>\n",
       "      <td>7829</td>\n",
       "      <td>YUM</td>\n",
       "      <td>YUM</td>\n",
       "      <td>2359</td>\n",
       "      <td>2400.0</td>\n",
       "      <td>2445.0</td>\n",
       "      <td>458.0</td>\n",
       "      <td>2400.0</td>\n",
       "      <td>2400</td>\n",
       "      <td>1.0</td>\n",
       "      <td>D</td>\n",
       "      <td>1.0</td>\n",
       "      <td>660.0</td>\n",
       "      <td>4962.0</td>\n",
       "      <td>7</td>\n",
       "      <td>12</td>\n",
       "    </tr>\n",
       "  </tbody>\n",
       "</table>\n",
       "</div>"
      ],
      "text/plain": [
       "  summary UniqueCarrier        FlightNumber   Origin Destination  \\\n",
       "0   count       6429338             6429338  6429338     6429338   \n",
       "1    mean          None  2293.7116343859975     None        None   \n",
       "2  stddev          None  2046.4974637636094     None        None   \n",
       "3     min            9E                   1      ABE         ABE   \n",
       "4     max            YV                7829      YUM         YUM   \n",
       "\n",
       "           CRSDepTime       DepartureTime      DepartureDelay  \\\n",
       "0             6429338             6346471             6346471   \n",
       "1  1319.4466834688112   1326.026277910984   7.598178735867539   \n",
       "2   457.7529163543437  468.89401144957816  31.764943958809607   \n",
       "3                   1                 1.0               -96.0   \n",
       "4                2359              2400.0              2445.0   \n",
       "\n",
       "              TaxiOut           WheelsOff      CRSArrivalTime  \\\n",
       "0             6343551             6343551             6429338   \n",
       "1  16.036132759080836  1350.7975509300707  1496.7219118049168   \n",
       "2  10.563825466907762  470.05145211129604   473.3177552778822   \n",
       "3                 1.0                 1.0                   1   \n",
       "4               458.0              2400.0                2400   \n",
       "\n",
       "              Cancelled CancellationCode               Diverted  \\\n",
       "0               6429338            87038                6429338   \n",
       "1  0.013537630157257247             None  0.0023832935832584943   \n",
       "2   0.11556108689381757             None    0.04876078203599105   \n",
       "3                   0.0                A                    0.0   \n",
       "4                   1.0                D                    1.0   \n",
       "\n",
       "      CRSElapsedTime           Distance           DayofWeek              Month  \n",
       "0            6429338            6429338             6429338            6429338  \n",
       "1  129.3446482359459  724.9700084207736  3.9334544240791196  6.403640779190641  \n",
       "2  69.66364081735988  561.0229006051038  1.9522775240815613  3.337858994294268  \n",
       "3                1.0               11.0                   1                  1  \n",
       "4              660.0             4962.0                   7                 12  "
      ]
     },
     "execution_count": 11,
     "metadata": {},
     "output_type": "execute_result"
    }
   ],
   "source": [
    "flights_2009.describe().toPandas()"
   ]
  },
  {
   "cell_type": "code",
   "execution_count": 12,
   "metadata": {},
   "outputs": [],
   "source": [
    "#Filter out Diverted = 1 \n",
    "flights_2009 = (\n",
    "    flights_2009\n",
    "    .filter(F.col(\"Diverted\") != 1)  # keep only non-diverted flights\n",
    "    .drop(\"Diverted\")                # remove the Diverted column\n",
    ")\n",
    "\n",
    "test_df = (\n",
    "    test_df\n",
    "    .filter(F.col(\"Diverted\") != 1)\n",
    "    .drop(\"Diverted\")\n",
    ")"
   ]
  },
  {
   "cell_type": "markdown",
   "metadata": {},
   "source": [
    "##  Exploratory Analysis"
   ]
  },
  {
   "cell_type": "code",
   "execution_count": 13,
   "metadata": {},
   "outputs": [
    {
     "name": "stdout",
     "output_type": "stream",
     "text": [
      "\n",
      " Top‑10 carriers by flight count (2009):\n",
      "+-------------+-------+\n",
      "|UniqueCarrier|  count|\n",
      "+-------------+-------+\n",
      "|           WN|1127045|\n",
      "|           AA| 548194|\n",
      "|           OO| 544843|\n",
      "|           MQ| 434577|\n",
      "|           DL| 424982|\n",
      "|           US| 411274|\n",
      "|           UA| 375501|\n",
      "|           XE| 308340|\n",
      "|           EV| 297874|\n",
      "|           NW| 291856|\n",
      "+-------------+-------+\n",
      "\n"
     ]
    }
   ],
   "source": [
    "# Top 10 carriers\n",
    "print(\"\\n Top‑10 carriers by flight count (2009):\")\n",
    "(flights_2009.groupBy(\"UniqueCarrier\")\n",
    "        .count()\n",
    "        .orderBy(F.desc(\"count\"))\n",
    "        .limit(10)\n",
    "        .show())\n"
   ]
  },
  {
   "cell_type": "code",
   "execution_count": 14,
   "metadata": {},
   "outputs": [
    {
     "name": "stdout",
     "output_type": "stream",
     "text": [
      "\n",
      " Cancellation reasons count (A=carrier, B=weather, C=NAS, D=security):\n",
      "+----------------+-----+\n",
      "|CancellationCode|count|\n",
      "+----------------+-----+\n",
      "|               B|36651|\n",
      "|               A|35568|\n",
      "|               C|14799|\n",
      "|               D|   20|\n",
      "+----------------+-----+\n",
      "\n"
     ]
    }
   ],
   "source": [
    "# Cancellation reasons\n",
    "print(\"\\n Cancellation reasons count (A=carrier, B=weather, C=NAS, D=security):\")\n",
    "(flights_2009.filter(F.col(\"Cancelled\") == 1)\n",
    "        .groupBy(\"CancellationCode\")\n",
    "        .count()\n",
    "        .orderBy(F.desc(\"count\"))\n",
    "        .show())\n",
    " "
   ]
  },
  {
   "cell_type": "code",
   "execution_count": 15,
   "metadata": {},
   "outputs": [
    {
     "name": "stdout",
     "output_type": "stream",
     "text": [
      "Imbalance ratio (0 : 1) = 72.69\n"
     ]
    }
   ],
   "source": [
    "# Class imbalance\n",
    "class_dist = flights_2009.groupBy(\"Cancelled\").count().collect()\n",
    "neg, pos = sorted(class_dist, key=lambda r: r[\"Cancelled\"])  # 0 then 1\n",
    "imbalance_ratio = round(neg[\"count\"] / pos[\"count\"], 2)\n",
    "print(f\"Imbalance ratio (0 : 1) = {imbalance_ratio}\")\n"
   ]
  },
  {
   "cell_type": "code",
   "execution_count": 16,
   "metadata": {},
   "outputs": [
    {
     "data": {
      "image/png": "[encoded data removed]",
      "text/plain": [
       "<Figure size 600x400 with 1 Axes>"
      ]
     },
     "metadata": {},
     "output_type": "display_data"
    }
   ],
   "source": [
    "import matplotlib.pyplot as plt\n",
    "\n",
    "# Prepare labels and counts\n",
    "labels = ['Not Cancelled', 'Cancelled']\n",
    "counts = [neg[\"count\"], pos[\"count\"]]\n",
    "\n",
    "# Plot\n",
    "plt.figure(figsize=(6, 4))\n",
    "plt.bar(labels, counts)\n",
    "plt.title('Class Distribution (Cancelled vs Not Cancelled)')\n",
    "plt.xlabel('Cancelled')\n",
    "plt.ylabel('Number of Flights')\n",
    "plt.grid(axis='y', linestyle='--', alpha=0.7)\n",
    "plt.tight_layout()\n",
    "plt.show()"
   ]
  },
  {
   "cell_type": "markdown",
   "metadata": {},
   "source": [
    "## Feature engineering"
   ]
  },
  {
   "cell_type": "markdown",
   "metadata": {},
   "source": [
    "#### Categorical feature processing with StringIndexer + OneHotEncoder(Indexing and Encoding)"
   ]
  },
  {
   "cell_type": "code",
   "execution_count": 17,
   "metadata": {},
   "outputs": [
    {
     "name": "stdout",
     "output_type": "stream",
     "text": [
      "Defining stages for categorical features:\n",
      "  Added StringIndexer (Origin -> Origin_Index)\n",
      "  Added OneHotEncoder (Origin_Index -> Origin_Vec)\n",
      "  Added StringIndexer (Destination -> Destination_Index)\n",
      "  Added OneHotEncoder (Destination_Index -> Destination_Vec)\n",
      "  Added StringIndexer (CRSDepTime -> CRSDepTime_Index)\n",
      "  Added OneHotEncoder (CRSDepTime_Index -> CRSDepTime_Vec)\n",
      "  Added StringIndexer (DayofWeek -> DayofWeek_Index)\n",
      "  Added OneHotEncoder (DayofWeek_Index -> DayofWeek_Vec)\n",
      "  Added StringIndexer (Month -> Month_Index)\n",
      "  Added OneHotEncoder (Month_Index -> Month_Vec)\n"
     ]
    }
   ],
   "source": [
    "# Processing categorical features with StringIndexer + OneHotEncoder\n",
    "\n",
    "categorical_cols = ['Origin', 'Destination', 'CRSDepTime', 'DayofWeek', 'Month'] \n",
    "\n",
    "indexers_and_encoders = []\n",
    "print(\"Defining stages for categorical features:\")\n",
    "for cat_col in categorical_cols:\n",
    "    index_col = cat_col + \"_Index\"\n",
    "    vec_col = cat_col + \"_Vec\"\n",
    "\n",
    "    # Indexer Stage\n",
    "    string_indexer = StringIndexer(inputCol=cat_col, outputCol=index_col, handleInvalid='keep')\n",
    "    indexers_and_encoders.append(string_indexer)\n",
    "    print(f\"  Added StringIndexer ({cat_col} -> {index_col})\")\n",
    "\n",
    "    # Encoder Stage\n",
    "    encoder = OneHotEncoder(inputCols=[index_col], outputCols=[vec_col])\n",
    "    indexers_and_encoders.append(encoder)\n",
    "    print(f\"  Added OneHotEncoder ({index_col} -> {vec_col})\")\n",
    "\n",
    "# Keep track of the output vector column names for the assembler\n",
    "categorical_vec_cols = [col + \"_Vec\" for col in categorical_cols]"
   ]
  },
  {
   "cell_type": "markdown",
   "metadata": {},
   "source": [
    "#### Label Indexing"
   ]
  },
  {
   "cell_type": "code",
   "execution_count": 18,
   "metadata": {},
   "outputs": [
    {
     "name": "stdout",
     "output_type": "stream",
     "text": [
      "Added StringIndexer for label (Cancelled -> label)\n"
     ]
    }
   ],
   "source": [
    "label_col = 'Cancelled'\n",
    "label_output_col = \"label\"\n",
    "\n",
    "label_indexer = StringIndexer(inputCol=label_col, outputCol=label_output_col)\n",
    "print(f\"Added StringIndexer for label ({label_col} -> {label_output_col})\")"
   ]
  },
  {
   "cell_type": "markdown",
   "metadata": {},
   "source": [
    "#### Feature Assembling"
   ]
  },
  {
   "cell_type": "code",
   "execution_count": 19,
   "metadata": {},
   "outputs": [
    {
     "name": "stdout",
     "output_type": "stream",
     "text": [
      "Added VectorAssembler to create 'features' from 8 columns\n"
     ]
    }
   ],
   "source": [
    "numerical_cols = ['CRSArrivalTime', 'CRSElapsedTime', 'Distance']\n",
    "feature_output_col = \"features\"\n",
    "assembler_inputs = categorical_vec_cols + numerical_cols\n",
    "\n",
    "vector_assembler = VectorAssembler(inputCols=assembler_inputs, outputCol=feature_output_col, handleInvalid='skip')\n",
    "print(f\"Added VectorAssembler to create '{feature_output_col}' from {len(assembler_inputs)} columns\")"
   ]
  },
  {
   "cell_type": "markdown",
   "metadata": {},
   "source": [
    "#### Applying the processing Pipeline"
   ]
  },
  {
   "cell_type": "code",
   "execution_count": 20,
   "metadata": {},
   "outputs": [],
   "source": [
    "from pyspark.ml import Pipeline\n",
    "preprocessing_pipeline = Pipeline(stages=indexers_and_encoders + [label_indexer, vector_assembler])\n",
    "preprocessing_model    = preprocessing_pipeline.fit(flights_2009)\n",
    "\n",
    "# Transform both 2009 and 2010\n",
    "processed_2009 = preprocessing_model.transform(flights_2009)\n",
    "processed_2010 = preprocessing_model.transform(test_df)\n",
    "\n",
    "# Select only label & features, cache\n",
    "model_input_df = processed_2009.select(\"label\", \"features\").cache()\n",
    "test_df_2010   = processed_2010.select(\"label\", \"features\").cache()\n"
   ]
  },
  {
   "cell_type": "markdown",
   "metadata": {},
   "source": [
    "## Modeling"
   ]
  },
  {
   "cell_type": "code",
   "execution_count": 21,
   "metadata": {},
   "outputs": [
    {
     "data": {
      "text/plain": [
       "DataFrame[label: double, features: vector]"
      ]
     },
     "execution_count": 21,
     "metadata": {},
     "output_type": "execute_result"
    }
   ],
   "source": [
    "# Split data (70% training, 30% testing)\n",
    "split_ratio = [0.7, 0.3]\n",
    "seed = 42 # Use a fixed seed for reproducibility\n",
    "\n",
    "train_data, test_data = model_input_df.randomSplit(split_ratio, seed=seed)\n",
    "\n",
    "# Cache the splits for performance during training and evaluation\n",
    "train_data.cache()\n",
    "test_data.cache()"
   ]
  },
  {
   "cell_type": "markdown",
   "metadata": {},
   "source": [
    "#### Train 4 models"
   ]
  },
  {
   "cell_type": "code",
   "execution_count": 23,
   "metadata": {},
   "outputs": [],
   "source": [
    "# Defining 4 models and their param‐grids:\n",
    "from pyspark.ml.classification import LogisticRegression, DecisionTreeClassifier, RandomForestClassifier, GBTClassifier\n",
    "from pyspark.ml.evaluation import BinaryClassificationEvaluator\n",
    "from pyspark.ml.tuning import CrossValidator, ParamGridBuilder\n",
    "\n",
    "lr  = LogisticRegression(labelCol=\"label\", featuresCol=\"features\")\n",
    "dt  = DecisionTreeClassifier(labelCol=\"label\", featuresCol=\"features\")\n",
    "rf  = RandomForestClassifier(labelCol=\"label\", featuresCol=\"features\")\n",
    "gbt = GBTClassifier(labelCol=\"label\", featuresCol=\"features\")\n",
    "\n",
    "lr_grid = ParamGridBuilder().addGrid(lr.regParam, [0.01, 0.1]).build()\n",
    "dt_grid = ParamGridBuilder().addGrid(dt.maxDepth, [3, 5, 10]).build()\n",
    "rf_grid = ParamGridBuilder().addGrid(rf.numTrees, [10, 20]).build()\n",
    "gbt_grid = ParamGridBuilder().addGrid(gbt.maxIter, [10, 20]).build()\n",
    "\n",
    "binary_eval = BinaryClassificationEvaluator(\n",
    "    labelCol=\"label\", rawPredictionCol=\"rawPrediction\", metricName=\"areaUnderROC\"\n",
    ")\n",
    "multi_eval = MulticlassClassificationEvaluator(\n",
    "    labelCol=\"label\", predictionCol=\"prediction\", metricName=\"accuracy\"\n",
    ")"
   ]
  },
  {
   "cell_type": "code",
   "execution_count": 24,
   "metadata": {},
   "outputs": [],
   "source": [
    "# 5. Set up CrossValidators\n",
    "def get_cv(model, grid):\n",
    "    return CrossValidator(estimator=model,\n",
    "                          estimatorParamMaps=grid,\n",
    "                          evaluator=binary_eval,\n",
    "                          numFolds=3)\n",
    "\n",
    "cv_lr = get_cv(lr, lr_grid)\n",
    "cv_dt = get_cv(dt, dt_grid)\n",
    "cv_rf = get_cv(rf, rf_grid)\n",
    "cv_gbt = get_cv(gbt, gbt_grid)"
   ]
  },
  {
   "cell_type": "code",
   "execution_count": 25,
   "metadata": {},
   "outputs": [
    {
     "name": "stdout",
     "output_type": "stream",
     "text": [
      "Training models, this may take a few minutes...\n",
      "Logistic regression model fitted\n"
     ]
    }
   ],
   "source": [
    "print(\"Training models, this may take a few minutes...\")\n",
    "\n",
    "lr_model = cv_lr.fit(train_data)\n",
    "print(\"Logistic regression model fitted\")"
   ]
  },
  {
   "cell_type": "code",
   "execution_count": 26,
   "metadata": {},
   "outputs": [
    {
     "name": "stdout",
     "output_type": "stream",
     "text": [
      "Decision tree model fitted\n"
     ]
    }
   ],
   "source": [
    "dt_model = cv_dt.fit(train_data)\n",
    "print(\"Decision tree model fitted\")"
   ]
  },
  {
   "cell_type": "code",
   "execution_count": 27,
   "metadata": {},
   "outputs": [
    {
     "name": "stdout",
     "output_type": "stream",
     "text": [
      "Random forest model fitted\n"
     ]
    }
   ],
   "source": [
    "rf_model = cv_rf.fit(train_data)\n",
    "print(\"Random forest model fitted\")"
   ]
  },
  {
   "cell_type": "code",
   "execution_count": 28,
   "metadata": {},
   "outputs": [
    {
     "name": "stdout",
     "output_type": "stream",
     "text": [
      "GBT model fitted\n"
     ]
    }
   ],
   "source": [
    "gbt_model = cv_gbt.fit(train_data)\n",
    "print(\"GBT model fitted\")"
   ]
  },
  {
   "cell_type": "markdown",
   "metadata": {},
   "source": [
    "#### Evaluate using both Accuracy and AUC metrics"
   ]
  },
  {
   "cell_type": "code",
   "execution_count": 30,
   "metadata": {},
   "outputs": [
    {
     "name": "stdout",
     "output_type": "stream",
     "text": [
      "\n",
      "Logistic Regression\n",
      "Accuracy: 0.9864\n",
      "AUC: 0.7428\n",
      "\n",
      "Decision Tree\n",
      "Accuracy: 0.9864\n",
      "AUC: 0.5000\n",
      "\n",
      "Random Forest\n",
      "Accuracy: 0.9864\n",
      "AUC: 0.5963\n",
      "\n",
      "Gradient Boosted Tree\n",
      "Accuracy: 0.9864\n",
      "AUC: 0.7139\n"
     ]
    }
   ],
   "source": [
    "# Evaluate models on test data\n",
    "models = [(\"Logistic Regression\", lr_model),\n",
    "          (\"Decision Tree\", dt_model),\n",
    "          (\"Random Forest\", rf_model),\n",
    "          (\"Gradient Boosted Tree\", gbt_model)]\n",
    "\n",
    "for name, model in models:\n",
    "    predictions = model.transform(test_data)\n",
    "    auc = binary_eval.evaluate(predictions)\n",
    "    acc = multi_eval.evaluate(predictions)\n",
    "    print(f\"\\n{name}\")\n",
    "    print(f\"Accuracy: {acc:.4f}\")\n",
    "    print(f\"AUC: {auc:.4f}\")"
   ]
  },
  {
   "cell_type": "code",
   "execution_count": null,
   "metadata": {},
   "outputs": [],
   "source": []
  },
  {
   "cell_type": "markdown",
   "metadata": {},
   "source": [
    "## Explainability"
   ]
  },
  {
   "cell_type": "markdown",
   "metadata": {},
   "source": [
    "#### Extract and visualize feature importances from your best tree-based model."
   ]
  },
  {
   "cell_type": "code",
   "execution_count": 33,
   "metadata": {},
   "outputs": [
    {
     "data": {
      "image/png": "[encoded data removed]",
      "text/plain": [
       "<Figure size 1000x800 with 1 Axes>"
      ]
     },
     "metadata": {},
     "output_type": "display_data"
    }
   ],
   "source": [
    "import pandas as pd\n",
    "import matplotlib.pyplot as plt\n",
    "\n",
    "# Grab the best GBT model\n",
    "best_tree_model = gbt_model.bestModel\n",
    "\n",
    "# Get the raw importance vector\n",
    "importances = best_tree_model.featureImportances.toArray()\n",
    "\n",
    "# Recover feature names from the VectorAssembler metadata\n",
    "#    We assume `train_data` (or any DataFrame with `features`) is still in scope\n",
    "feat_meta = train_data.schema[\"features\"].metadata[\"ml_attr\"][\"attrs\"]\n",
    "feature_names = [attr[\"name\"] \n",
    "                 for attr_list in feat_meta.values() \n",
    "                 for attr in attr_list]\n",
    "\n",
    "# Build a Pandas DataFrame and sort by importance\n",
    "imp_df = (\n",
    "    pd.DataFrame({\n",
    "        \"feature\": feature_names,\n",
    "        \"importance\": importances\n",
    "    })\n",
    "    .sort_values(\"importance\", ascending=False)\n",
    "    .reset_index(drop=True)\n",
    ")\n",
    "\n",
    "# Plot the top 20\n",
    "top_n = 20\n",
    "top_df = imp_df.head(top_n)\n",
    "\n",
    "plt.figure(figsize=(10, 8))\n",
    "plt.barh(top_df[\"feature\"][::-1], top_df[\"importance\"][::-1])\n",
    "plt.xlabel(\"Feature Importance\")\n",
    "plt.title(\"Top 20 Feature Importances (GBT)\")\n",
    "plt.tight_layout()\n",
    "plt.show()\n"
   ]
  },
  {
   "cell_type": "markdown",
   "metadata": {},
   "source": [
    "## Model Persistence and Inference "
   ]
  },
  {
   "cell_type": "markdown",
   "metadata": {},
   "source": [
    "#### Save the best model"
   ]
  },
  {
   "cell_type": "code",
   "execution_count": 37,
   "metadata": {},
   "outputs": [],
   "source": [
    "best_tree_model.write().overwrite().save(\"./best_model/\")"
   ]
  },
  {
   "cell_type": "markdown",
   "metadata": {},
   "source": [
    "#### Run inference on 2010 test data"
   ]
  },
  {
   "cell_type": "code",
   "execution_count": 39,
   "metadata": {},
   "outputs": [
    {
     "name": "stdout",
     "output_type": "stream",
     "text": [
      "\n",
      "2010 Data --> AUC = 0.6403, Accuracy = 0.9824\n"
     ]
    }
   ],
   "source": [
    "preds2010 = best_tree_model.transform(test_df_2010)\n",
    "auc2010   = binary_eval.evaluate(preds2010)\n",
    "acc2010   = multi_eval.evaluate(preds2010)\n",
    "print(f\"\\n2010 Data --> AUC = {auc2010:.4f}, Accuracy = {acc2010:.4f}\")"
   ]
  }
 ],
 "metadata": {
  "kernelspec": {
   "display_name": "Python 3 (ipykernel)",
   "language": "python",
   "name": "python3"
  },
  "language_info": {
   "codemirror_mode": {
    "name": "ipython",
    "version": 3
   },
   "file_extension": ".py",
   "mimetype": "text/x-python",
   "name": "python",
   "nbconvert_exporter": "python",
   "pygments_lexer": "ipython3",
   "version": "3.11.10"
  }
 },
 "nbformat": 4,
 "nbformat_minor": 4
}
