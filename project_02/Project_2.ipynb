{
 "cells": [
  {
   "cell_type": "code",
   "execution_count": 1,
   "id": "8e289bcd-b4af-43e7-8dc7-01cfc9375b8d",
   "metadata": {},
   "outputs": [
    {
     "name": "stdout",
     "output_type": "stream",
     "text": [
      "Requirement already satisfied: pyspark in /usr/local/spark/python (3.5.3)\n",
      "Requirement already satisfied: kafka-python in /opt/conda/lib/python3.11/site-packages (2.1.2)\n",
      "Requirement already satisfied: delta-spark in /opt/conda/lib/python3.11/site-packages (3.3.0)\n",
      "Requirement already satisfied: py4j==0.10.9.7 in /opt/conda/lib/python3.11/site-packages (from pyspark) (0.10.9.7)\n",
      "Requirement already satisfied: importlib-metadata>=1.0.0 in /opt/conda/lib/python3.11/site-packages (from delta-spark) (8.5.0)\n",
      "Requirement already satisfied: zipp>=3.20 in /opt/conda/lib/python3.11/site-packages (from importlib-metadata>=1.0.0->delta-spark) (3.20.2)\n"
     ]
    }
   ],
   "source": [
    "!pip install pyspark kafka-python delta-spark"
   ]
  },
  {
   "cell_type": "code",
   "execution_count": 2,
   "id": "5434832f-8512-4dcb-bab8-c328017c04fe",
   "metadata": {},
   "outputs": [],
   "source": [
    "from pyspark.sql import SparkSession\n",
    "from delta import configure_spark_with_delta_pip\n",
    "from pyspark.sql.types import *\n",
    "from pyspark.sql.functions import col, to_timestamp, year, month, dayofmonth, lit, udf, floor, concat, lit, window, desc\n",
    "from datetime import timedelta\n",
    "\n",
    "import os\n",
    "import math\n",
    "import datetime\n",
    "import time\n",
    "from pyspark.sql.types import StringType\n"
   ]
  },
  {
   "cell_type": "code",
   "execution_count": 3,
   "id": "088dd067-6e25-4890-aad1-4a4114798eef",
   "metadata": {},
   "outputs": [],
   "source": [
    "builder = SparkSession.builder.appName(\"project2_debs_grand_challenge\") \\\n",
    "    .config(\"spark.jars.packages\", \"io.delta:delta-core_2.12:2.4.0\") \\\n",
    "    .config(\"spark.sql.extensions\", \"io.delta.sql.DeltaSparkSessionExtension\") \\\n",
    "    .config(\"spark.sql.catalog.spark_catalog\", \"org.apache.spark.sql.delta.catalog.DeltaCatalog\")\n",
    "\n",
    "spark = configure_spark_with_delta_pip(builder).getOrCreate()"
   ]
  },
  {
   "cell_type": "markdown",
   "id": "1389aefd-cb41-45c2-a3f3-dbbaa8f52c8c",
   "metadata": {},
   "source": [
    "#### Load data"
   ]
  },
  {
   "cell_type": "code",
   "execution_count": 4,
   "id": "41374ac2-c8d6-4ad0-8d36-7af0441f1d50",
   "metadata": {},
   "outputs": [
    {
     "name": "stdout",
     "output_type": "stream",
     "text": [
      "root\n",
      " |-- medallion: string (nullable = true)\n",
      " |-- hack_license: string (nullable = true)\n",
      " |-- pickup_datetime: string (nullable = true)\n",
      " |-- dropoff_datetime: string (nullable = true)\n",
      " |-- trip_time_in_secs: string (nullable = true)\n",
      " |-- trip_distance: string (nullable = true)\n",
      " |-- pickup_longitude: string (nullable = true)\n",
      " |-- pickup_latitude: string (nullable = true)\n",
      " |-- dropoff_longitude: string (nullable = true)\n",
      " |-- dropoff_latitude: string (nullable = true)\n",
      " |-- payment_type: string (nullable = true)\n",
      " |-- fare_amount: string (nullable = true)\n",
      " |-- surcharge: string (nullable = true)\n",
      " |-- mta_tax: string (nullable = true)\n",
      " |-- tip_amount: string (nullable = true)\n",
      " |-- tolls_amount: string (nullable = true)\n",
      " |-- total_amount: string (nullable = true)\n",
      "\n"
     ]
    }
   ],
   "source": [
    "columns = [\n",
    "    \"medallion\", \"hack_license\", \"pickup_datetime\", \"dropoff_datetime\",\n",
    "    \"trip_time_in_secs\", \"trip_distance\", \"pickup_longitude\", \"pickup_latitude\",\n",
    "    \"dropoff_longitude\", \"dropoff_latitude\", \"payment_type\", \"fare_amount\",\n",
    "    \"surcharge\", \"mta_tax\", \"tip_amount\", \"tolls_amount\", \"total_amount\"\n",
    "]\n",
    "\n",
    "\n",
    "df = spark.read.option(\"header\", \"false\").csv(\"data/sorted_data.csv\")\n",
    "df = df.toDF(*columns)\n",
    "df.printSchema()\n",
    "\n",
    "df_sample = df.sample(withReplacement=False, fraction=0.03)"
   ]
  },
  {
   "cell_type": "markdown",
   "id": "8a4ece2f-6aa2-4bfd-9d73-40d737e7891a",
   "metadata": {},
   "source": [
    "#### Query 0: Data cleaninig and set up"
   ]
  },
  {
   "cell_type": "code",
   "execution_count": 5,
   "id": "75bf8722-2a49-4115-9d02-f721404c53af",
   "metadata": {},
   "outputs": [
    {
     "name": "stdout",
     "output_type": "stream",
     "text": [
      "+--------------------+--------------------+-------------------+-------------------+-----------------+-------------+----------------+---------------+-----------------+----------------+------------+-----------+---------+-------+----------+------------+------------+\n",
      "|           medallion|        hack_license|    pickup_datetime|   dropoff_datetime|trip_time_in_secs|trip_distance|pickup_longitude|pickup_latitude|dropoff_longitude|dropoff_latitude|payment_type|fare_amount|surcharge|mta_tax|tip_amount|tolls_amount|total_amount|\n",
      "+--------------------+--------------------+-------------------+-------------------+-----------------+-------------+----------------+---------------+-----------------+----------------+------------+-----------+---------+-------+----------+------------+------------+\n",
      "|3E7DB7D3DC9961BA3...|452B322CA3BB3132F...|2013-01-01 00:00:00|2013-01-01 00:03:00|              180|         1.52|      -73.954117|      40.778343|       -73.941818|       40.795479|         CSH|        6.0|      0.5|    0.5|       0.0|         0.0|        7.00|\n",
      "|0B57B9633A2FECD3D...|DC47AE0CDBCEC1B97...|2013-01-01 00:02:39|2013-01-01 00:07:51|              311|          1.1|      -73.948708|      40.711220|       -73.966774|       40.710503|         CSH|        6.0|      0.5|    0.5|       0.0|         0.0|        7.00|\n",
      "|6B129E331EDE126B4...|79D0A7B682ABC516B...|2013-01-01 00:00:00|2013-01-01 00:08:00|              480|         2.73|      -73.973907|      40.747868|       -73.948898|       40.776649|         CRD|        9.5|      0.5|    0.5|       2.0|         0.0|       12.50|\n",
      "|A02946A94C960AF04...|87B3034249BC9D673...|2013-01-01 00:01:00|2013-01-01 00:08:00|              420|         2.26|      -73.989853|      40.738632|       -73.966682|       40.753292|         CRD|        8.5|      0.5|    0.5|       1.8|         0.0|       11.30|\n",
      "|144FAAC33016FED75...|39C3B7A9B551A9716...|2013-01-01 00:00:53|2013-01-01 00:08:02|              428|          1.9|      -73.975189|      40.792675|       -73.992767|       40.768612|         CSH|        8.5|      0.5|    0.5|       0.0|         0.0|        9.50|\n",
      "+--------------------+--------------------+-------------------+-------------------+-----------------+-------------+----------------+---------------+-----------------+----------------+------------+-----------+---------+-------+----------+------------+------------+\n",
      "only showing top 5 rows\n",
      "\n"
     ]
    }
   ],
   "source": [
    "# Data Cleansing\n",
    "df_sample = df_sample.withColumn(\"pickup_datetime\", to_timestamp(col(\"pickup_datetime\"), \"yyyy-MM-dd HH:mm:ss\")) \\\n",
    "                     .withColumn(\"dropoff_datetime\", to_timestamp(col(\"dropoff_datetime\"), \"yyyy-MM-dd HH:mm:ss\"))\n",
    "\n",
    "df_clean = df_sample.filter(\n",
    "    (col(\"medallion\").isNotNull()) & (col(\"medallion\") != \"0\") &\n",
    "    (col(\"hack_license\").isNotNull()) & (col(\"hack_license\") != \"0\") &\n",
    "    (col(\"pickup_datetime\").isNotNull()) &\n",
    "    (col(\"dropoff_datetime\").isNotNull()) &\n",
    "    (col(\"trip_time_in_secs\").isNotNull()) & (col(\"trip_time_in_secs\") != 0) &\n",
    "    (col(\"trip_distance\").isNotNull()) & (col(\"trip_distance\") != 0) &\n",
    "    (col(\"pickup_longitude\").isNotNull()) & (col(\"pickup_longitude\") != 0.0) &\n",
    "    (col(\"pickup_latitude\").isNotNull()) & (col(\"pickup_latitude\") != 0.0) &\n",
    "    (col(\"dropoff_longitude\").isNotNull()) & (col(\"dropoff_longitude\") != 0.0) &\n",
    "    (col(\"dropoff_latitude\").isNotNull()) & (col(\"dropoff_latitude\") != 0.0) &\n",
    "    (col(\"trip_distance\").cast(\"float\") > 0) &\n",
    "    (col(\"fare_amount\").cast(\"float\") > 0)\n",
    ")\n",
    "\n",
    "df_clean = df_clean.withColumn(\"trip_time_in_secs\", col(\"trip_time_in_secs\").cast(\"int\")) \\\n",
    "                   .withColumn(\"trip_distance\", col(\"trip_distance\").cast(\"float\")) \\\n",
    "                   .withColumn(\"fare_amount\", col(\"fare_amount\").cast(\"float\")) \\\n",
    "                   .withColumn(\"surcharge\", col(\"surcharge\").cast(\"float\")) \\\n",
    "                   .withColumn(\"mta_tax\", col(\"mta_tax\").cast(\"float\")) \\\n",
    "                   .withColumn(\"tip_amount\", col(\"tip_amount\").cast(\"float\")) \\\n",
    "                   .withColumn(\"tolls_amount\", col(\"tolls_amount\").cast(\"float\"))\n",
    "\n",
    "df_clean.show(5)"
   ]
  },
  {
   "cell_type": "code",
   "execution_count": 6,
   "id": "4306e748-9ed2-43ed-8f39-397565ad6166",
   "metadata": {},
   "outputs": [],
   "source": [
    "#df_clean.count()"
   ]
  },
  {
   "cell_type": "code",
   "execution_count": 7,
   "id": "f8cd7c99-6510-4a7d-9449-2bfe2a39ba07",
   "metadata": {},
   "outputs": [
    {
     "name": "stdout",
     "output_type": "stream",
     "text": [
      "+--------------------+--------------------+-------------------+-------------------+-----------------+-------------+----------------+---------------+-----------------+----------------+------------+-----------+---------+-------+----------+------------+------------+-----------+------------+----------+\n",
      "|           medallion|        hack_license|    pickup_datetime|   dropoff_datetime|trip_time_in_secs|trip_distance|pickup_longitude|pickup_latitude|dropoff_longitude|dropoff_latitude|payment_type|fare_amount|surcharge|mta_tax|tip_amount|tolls_amount|total_amount|pickup_year|pickup_month|pickup_day|\n",
      "+--------------------+--------------------+-------------------+-------------------+-----------------+-------------+----------------+---------------+-----------------+----------------+------------+-----------+---------+-------+----------+------------+------------+-----------+------------+----------+\n",
      "|3E7DB7D3DC9961BA3...|452B322CA3BB3132F...|2013-01-01 00:00:00|2013-01-01 00:03:00|              180|         1.52|      -73.954117|      40.778343|       -73.941818|       40.795479|         CSH|        6.0|      0.5|    0.5|       0.0|         0.0|        7.00|       2013|           1|         1|\n",
      "|0B57B9633A2FECD3D...|DC47AE0CDBCEC1B97...|2013-01-01 00:02:39|2013-01-01 00:07:51|              311|          1.1|      -73.948708|      40.711220|       -73.966774|       40.710503|         CSH|        6.0|      0.5|    0.5|       0.0|         0.0|        7.00|       2013|           1|         1|\n",
      "|6B129E331EDE126B4...|79D0A7B682ABC516B...|2013-01-01 00:00:00|2013-01-01 00:08:00|              480|         2.73|      -73.973907|      40.747868|       -73.948898|       40.776649|         CRD|        9.5|      0.5|    0.5|       2.0|         0.0|       12.50|       2013|           1|         1|\n",
      "|A02946A94C960AF04...|87B3034249BC9D673...|2013-01-01 00:01:00|2013-01-01 00:08:00|              420|         2.26|      -73.989853|      40.738632|       -73.966682|       40.753292|         CRD|        8.5|      0.5|    0.5|       1.8|         0.0|       11.30|       2013|           1|         1|\n",
      "|144FAAC33016FED75...|39C3B7A9B551A9716...|2013-01-01 00:00:53|2013-01-01 00:08:02|              428|          1.9|      -73.975189|      40.792675|       -73.992767|       40.768612|         CSH|        8.5|      0.5|    0.5|       0.0|         0.0|        9.50|       2013|           1|         1|\n",
      "+--------------------+--------------------+-------------------+-------------------+-----------------+-------------+----------------+---------------+-----------------+----------------+------------+-----------+---------+-------+----------+------------+------------+-----------+------------+----------+\n",
      "only showing top 5 rows\n",
      "\n"
     ]
    }
   ],
   "source": [
    "# Build the Time Model\n",
    "# Convert the pickup datetime to extract year, month, and day.\n",
    "df_clean = df_clean.withColumn(\"pickup_year\", year(\"pickup_datetime\")) \\\n",
    "                   .withColumn(\"pickup_month\", month(\"pickup_datetime\")) \\\n",
    "                   .withColumn(\"pickup_day\", dayofmonth(\"pickup_datetime\"))\n",
    "\n",
    "df_clean.show(5)"
   ]
  },
  {
   "cell_type": "code",
   "execution_count": 7,
   "id": "6a0da2d4-2dae-449b-ab89-7637e87da193",
   "metadata": {},
   "outputs": [],
   "source": [
    "# Write Cleansed Data with File Partitioning (e.g., Parquet format)\n",
    "output_path = \"output/cleansed_taxi_data\"\n",
    "df_clean.write.partitionBy(\"pickup_year\", \"pickup_month\", \"pickup_day\") \\\n",
    "    .format(\"parquet\") \\\n",
    "    .mode(\"overwrite\") \\\n",
    "    .save(output_path)"
   ]
  },
  {
   "cell_type": "markdown",
   "id": "77fdd52a-5653-4ce5-91aa-e2cddd50e918",
   "metadata": {},
   "source": [
    "#### Query 1"
   ]
  },
  {
   "cell_type": "markdown",
   "id": "cee6239c-1070-4d5f-b2a2-380453c279b1",
   "metadata": {},
   "source": [
    "##### Part 1"
   ]
  },
  {
   "cell_type": "code",
   "execution_count": 31,
   "id": "57137ebc-97f5-40b9-a1e9-cf146c0cd83e",
   "metadata": {},
   "outputs": [
    {
     "name": "stdout",
     "output_type": "stream",
     "text": [
      "Max dropoff datetime: 2014-01-01 00:15:48\n",
      "+----------+----------+---------------+\n",
      "|start_cell|end_cell  |Number_of_Rides|\n",
      "+----------+----------+---------------+\n",
      "|4073_-7401|4072_-7399|3              |\n",
      "|4077_-7396|4078_-7398|2              |\n",
      "|4074_-7398|4077_-7395|2              |\n",
      "|4076_-7399|4077_-7395|2              |\n",
      "|4070_-7402|4076_-7393|1              |\n",
      "|4077_-7398|4074_-7401|1              |\n",
      "|4078_-7398|4080_-7397|1              |\n",
      "|4076_-7398|4079_-7394|1              |\n",
      "|4071_-7397|4075_-7400|1              |\n",
      "|4076_-7398|4075_-7393|1              |\n",
      "+----------+----------+---------------+\n",
      "\n"
     ]
    }
   ],
   "source": [
    "# 1. Compute the maximum dropoff datetime in the dataset\n",
    "max_dropoff = df_clean.agg({\"dropoff_datetime\": \"max\"}).collect()[0][0]\n",
    "print(\"Max dropoff datetime:\", max_dropoff)\n",
    "\n",
    "# 2. Define a reference time (30 minutes before max_dropoff)\n",
    "ref_time = max_dropoff - timedelta(minutes=30)\n",
    "\n",
    "# 3. Define grid cell size (here, 0.01 degrees is used as an approximation)\n",
    "cell_size = 0.01\n",
    "\n",
    "# 4. Create grid cell identifiers for pickup (start_cell) and drop-off (end_cell)\n",
    "df_routes = df_clean.withColumn(\n",
    "    \"start_cell\",\n",
    "    concat(\n",
    "        floor(col(\"pickup_latitude\") / lit(cell_size)),\n",
    "        lit(\"_\"),\n",
    "        floor(col(\"pickup_longitude\") / lit(cell_size))\n",
    "    )\n",
    ").withColumn(\n",
    "    \"end_cell\",\n",
    "    concat(\n",
    "        floor(col(\"dropoff_latitude\") / lit(cell_size)),\n",
    "        lit(\"_\"),\n",
    "        floor(col(\"dropoff_longitude\") / lit(cell_size))\n",
    "    )\n",
    ")\n",
    "\n",
    "# 5. Filter the DataFrame to include only trips whose dropoff time is within the last 30 minutes\n",
    "df_last30 = df_routes.filter(col(\"dropoff_datetime\") >= lit(ref_time))\n",
    "\n",
    "# 6. Group by start and end cells and count the number of rides,\n",
    "#    then rename the count column for clarity.\n",
    "df_frequent_routes = df_last30.groupBy(\"start_cell\", \"end_cell\").count() \\\n",
    "    .withColumnRenamed(\"count\", \"Number_of_Rides\")\n",
    "\n",
    "# 7. Order the routes by descending ride counts and take the top 10\n",
    "top10_routes = df_frequent_routes.orderBy(col(\"Number_of_Rides\").desc()).limit(10)\n",
    "\n",
    "# 8. Show the results\n",
    "top10_routes.show(truncate=False)\n"
   ]
  },
  {
   "cell_type": "code",
   "execution_count": null,
   "id": "301518fd-0e82-496e-a5b4-2e3555a45f15",
   "metadata": {},
   "outputs": [],
   "source": []
  },
  {
   "cell_type": "markdown",
   "id": "0bb34ee3-e4b8-429e-b4c8-ce5964bf2e05",
   "metadata": {},
   "source": [
    "#### Part 2:"
   ]
  },
  {
   "cell_type": "code",
   "execution_count": null,
   "id": "b318e276-59e9-4da6-9ecb-6eac10eb2de4",
   "metadata": {},
   "outputs": [],
   "source": []
  },
  {
   "cell_type": "code",
   "execution_count": null,
   "id": "a0728fed-dfbe-4fdf-b3b5-f695a8365c28",
   "metadata": {},
   "outputs": [],
   "source": []
  },
  {
   "cell_type": "code",
   "execution_count": null,
   "id": "2168f515-fb6e-422e-9ece-703e17dc6c54",
   "metadata": {},
   "outputs": [],
   "source": []
  }
 ],
 "metadata": {
  "kernelspec": {
   "display_name": "Python 3 (ipykernel)",
   "language": "python",
   "name": "python3"
  },
  "language_info": {
   "codemirror_mode": {
    "name": "ipython",
    "version": 3
   },
   "file_extension": ".py",
   "mimetype": "text/x-python",
   "name": "python",
   "nbconvert_exporter": "python",
   "pygments_lexer": "ipython3",
   "version": "3.11.10"
  }
 },
 "nbformat": 4,
 "nbformat_minor": 5
}
