{
 "cells": [
  {
   "cell_type": "markdown",
   "metadata": {},
   "source": [
    "## PROJECT 3"
   ]
  },
  {
   "cell_type": "code",
   "execution_count": 1,
   "metadata": {},
   "outputs": [],
   "source": [
    "import pyspark\n",
    "from delta import configure_spark_with_delta_pip\n",
    "\n",
    "# Prepare the Spark builder\n",
    "builder = pyspark.sql.SparkSession.builder.appName(\"Project3\") \\\n",
    "    .config(\"spark.sql.extensions\", \"io.delta.sql.DeltaSparkSessionExtension\") \\\n",
    "    .config(\"spark.sql.catalog.spark_catalog\", \"org.apache.spark.sql.delta.catalog.DeltaCatalog\")\n",
    "\n",
    "spark = configure_spark_with_delta_pip(builder,extra_packages=[\"graphframes:graphframes:0.8.4-spark3.5-s_2.12\"]).getOrCreate()\n",
    "spark.conf.set(\"spark.sql.shuffle.partitions\", spark._sc.defaultParallelism)\n",
    "\n",
    "spark.conf.set(\"spark.sql.repl.eagerEval.enabled\",True) # OK for exploration, not great for performance\n",
    "spark.conf.set(\"spark.sql.repl.eagerEval.truncate\", 500)\n",
    "\n",
    "import graphframes as gf\n",
    "import pyspark.sql.functions as F"
   ]
  },
  {
   "cell_type": "markdown",
   "metadata": {},
   "source": [
    "### Load data and Data preprocessing"
   ]
  },
  {
   "cell_type": "code",
   "execution_count": 2,
   "metadata": {},
   "outputs": [
    {
     "data": {
      "text/html": [
       "<table border='1'>\n",
       "<tr><th>FL_DATE</th><th>OP_CARRIER</th><th>OP_CARRIER_FL_NUM</th><th>ORIGIN</th><th>DEST</th><th>CRS_DEP_TIME</th><th>DEP_TIME</th><th>DEP_DELAY</th><th>TAXI_OUT</th><th>WHEELS_OFF</th><th>WHEELS_ON</th><th>TAXI_IN</th><th>CRS_ARR_TIME</th><th>ARR_TIME</th><th>ARR_DELAY</th><th>CANCELLED</th><th>CANCELLATION_CODE</th><th>DIVERTED</th><th>CRS_ELAPSED_TIME</th><th>ACTUAL_ELAPSED_TIME</th><th>AIR_TIME</th><th>DISTANCE</th><th>CARRIER_DELAY</th><th>WEATHER_DELAY</th><th>NAS_DELAY</th><th>SECURITY_DELAY</th><th>LATE_AIRCRAFT_DELAY</th><th>Unnamed: 27</th></tr>\n",
       "<tr><td>2009-01-01</td><td>XE</td><td>1204</td><td>DCA</td><td>EWR</td><td>1100</td><td>1058.0</td><td>-2.0</td><td>18.0</td><td>1116.0</td><td>1158.0</td><td>8.0</td><td>1202</td><td>1206.0</td><td>4.0</td><td>0.0</td><td>NULL</td><td>0.0</td><td>62.0</td><td>68.0</td><td>42.0</td><td>199.0</td><td>NULL</td><td>NULL</td><td>NULL</td><td>NULL</td><td>NULL</td><td>NULL</td></tr>\n",
       "<tr><td>2009-01-01</td><td>XE</td><td>1206</td><td>EWR</td><td>IAD</td><td>1510</td><td>1509.0</td><td>-1.0</td><td>28.0</td><td>1537.0</td><td>1620.0</td><td>4.0</td><td>1632</td><td>1624.0</td><td>-8.0</td><td>0.0</td><td>NULL</td><td>0.0</td><td>82.0</td><td>75.0</td><td>43.0</td><td>213.0</td><td>NULL</td><td>NULL</td><td>NULL</td><td>NULL</td><td>NULL</td><td>NULL</td></tr>\n",
       "<tr><td>2009-01-01</td><td>XE</td><td>1207</td><td>EWR</td><td>DCA</td><td>1100</td><td>1059.0</td><td>-1.0</td><td>20.0</td><td>1119.0</td><td>1155.0</td><td>6.0</td><td>1210</td><td>1201.0</td><td>-9.0</td><td>0.0</td><td>NULL</td><td>0.0</td><td>70.0</td><td>62.0</td><td>36.0</td><td>199.0</td><td>NULL</td><td>NULL</td><td>NULL</td><td>NULL</td><td>NULL</td><td>NULL</td></tr>\n",
       "<tr><td>2009-01-01</td><td>XE</td><td>1208</td><td>DCA</td><td>EWR</td><td>1240</td><td>1249.0</td><td>9.0</td><td>10.0</td><td>1259.0</td><td>1336.0</td><td>9.0</td><td>1357</td><td>1345.0</td><td>-12.0</td><td>0.0</td><td>NULL</td><td>0.0</td><td>77.0</td><td>56.0</td><td>37.0</td><td>199.0</td><td>NULL</td><td>NULL</td><td>NULL</td><td>NULL</td><td>NULL</td><td>NULL</td></tr>\n",
       "<tr><td>2009-01-01</td><td>XE</td><td>1209</td><td>IAD</td><td>EWR</td><td>1715</td><td>1705.0</td><td>-10.0</td><td>24.0</td><td>1729.0</td><td>1809.0</td><td>13.0</td><td>1900</td><td>1822.0</td><td>-38.0</td><td>0.0</td><td>NULL</td><td>0.0</td><td>105.0</td><td>77.0</td><td>40.0</td><td>213.0</td><td>NULL</td><td>NULL</td><td>NULL</td><td>NULL</td><td>NULL</td><td>NULL</td></tr>\n",
       "<tr><td>2009-01-01</td><td>XE</td><td>1212</td><td>ATL</td><td>EWR</td><td>1915</td><td>1913.0</td><td>-2.0</td><td>19.0</td><td>1932.0</td><td>2108.0</td><td>15.0</td><td>2142</td><td>2123.0</td><td>-19.0</td><td>0.0</td><td>NULL</td><td>0.0</td><td>147.0</td><td>130.0</td><td>96.0</td><td>745.0</td><td>NULL</td><td>NULL</td><td>NULL</td><td>NULL</td><td>NULL</td><td>NULL</td></tr>\n",
       "<tr><td>2009-01-01</td><td>XE</td><td>1212</td><td>CLE</td><td>ATL</td><td>1645</td><td>1637.0</td><td>-8.0</td><td>12.0</td><td>1649.0</td><td>1820.0</td><td>5.0</td><td>1842</td><td>1825.0</td><td>-17.0</td><td>0.0</td><td>NULL</td><td>0.0</td><td>117.0</td><td>108.0</td><td>91.0</td><td>554.0</td><td>NULL</td><td>NULL</td><td>NULL</td><td>NULL</td><td>NULL</td><td>NULL</td></tr>\n",
       "<tr><td>2009-01-01</td><td>XE</td><td>1214</td><td>DCA</td><td>EWR</td><td>1915</td><td>1908.0</td><td>-7.0</td><td>9.0</td><td>1917.0</td><td>1953.0</td><td>34.0</td><td>2035</td><td>2027.0</td><td>-8.0</td><td>0.0</td><td>NULL</td><td>0.0</td><td>80.0</td><td>79.0</td><td>36.0</td><td>199.0</td><td>NULL</td><td>NULL</td><td>NULL</td><td>NULL</td><td>NULL</td><td>NULL</td></tr>\n",
       "<tr><td>2009-01-01</td><td>XE</td><td>1215</td><td>EWR</td><td>DCA</td><td>1715</td><td>1710.0</td><td>-5.0</td><td>28.0</td><td>1738.0</td><td>1819.0</td><td>4.0</td><td>1838</td><td>1823.0</td><td>-15.0</td><td>0.0</td><td>NULL</td><td>0.0</td><td>83.0</td><td>73.0</td><td>41.0</td><td>199.0</td><td>NULL</td><td>NULL</td><td>NULL</td><td>NULL</td><td>NULL</td><td>NULL</td></tr>\n",
       "<tr><td>2009-01-01</td><td>XE</td><td>1217</td><td>EWR</td><td>DCA</td><td>1300</td><td>1255.0</td><td>-5.0</td><td>15.0</td><td>1310.0</td><td>1349.0</td><td>7.0</td><td>1408</td><td>1356.0</td><td>-12.0</td><td>0.0</td><td>NULL</td><td>0.0</td><td>68.0</td><td>61.0</td><td>39.0</td><td>199.0</td><td>NULL</td><td>NULL</td><td>NULL</td><td>NULL</td><td>NULL</td><td>NULL</td></tr>\n",
       "<tr><td>2009-01-01</td><td>XE</td><td>1218</td><td>DCA</td><td>EWR</td><td>1500</td><td>1457.0</td><td>-3.0</td><td>14.0</td><td>1511.0</td><td>1552.0</td><td>7.0</td><td>1620</td><td>1559.0</td><td>-21.0</td><td>0.0</td><td>NULL</td><td>0.0</td><td>80.0</td><td>62.0</td><td>41.0</td><td>199.0</td><td>NULL</td><td>NULL</td><td>NULL</td><td>NULL</td><td>NULL</td><td>NULL</td></tr>\n",
       "<tr><td>2009-01-01</td><td>XE</td><td>1219</td><td>EWR</td><td>DCA</td><td>2135</td><td>2131.0</td><td>-4.0</td><td>21.0</td><td>2152.0</td><td>2232.0</td><td>3.0</td><td>2252</td><td>2235.0</td><td>-17.0</td><td>0.0</td><td>NULL</td><td>0.0</td><td>77.0</td><td>64.0</td><td>40.0</td><td>199.0</td><td>NULL</td><td>NULL</td><td>NULL</td><td>NULL</td><td>NULL</td><td>NULL</td></tr>\n",
       "<tr><td>2009-01-01</td><td>XE</td><td>1220</td><td>CLE</td><td>DCA</td><td>1905</td><td>1855.0</td><td>-10.0</td><td>10.0</td><td>1905.0</td><td>1956.0</td><td>5.0</td><td>2025</td><td>2001.0</td><td>-24.0</td><td>0.0</td><td>NULL</td><td>0.0</td><td>80.0</td><td>66.0</td><td>51.0</td><td>310.0</td><td>NULL</td><td>NULL</td><td>NULL</td><td>NULL</td><td>NULL</td><td>NULL</td></tr>\n",
       "<tr><td>2009-01-01</td><td>XE</td><td>1220</td><td>DCA</td><td>EWR</td><td>2100</td><td>2049.0</td><td>-11.0</td><td>10.0</td><td>2059.0</td><td>2133.0</td><td>10.0</td><td>2217</td><td>2143.0</td><td>-34.0</td><td>0.0</td><td>NULL</td><td>0.0</td><td>77.0</td><td>54.0</td><td>34.0</td><td>199.0</td><td>NULL</td><td>NULL</td><td>NULL</td><td>NULL</td><td>NULL</td><td>NULL</td></tr>\n",
       "<tr><td>2009-01-01</td><td>XE</td><td>1232</td><td>ORD</td><td>EWR</td><td>905</td><td>900.0</td><td>-5.0</td><td>16.0</td><td>916.0</td><td>1144.0</td><td>6.0</td><td>1212</td><td>1150.0</td><td>-22.0</td><td>0.0</td><td>NULL</td><td>0.0</td><td>127.0</td><td>110.0</td><td>88.0</td><td>719.0</td><td>NULL</td><td>NULL</td><td>NULL</td><td>NULL</td><td>NULL</td><td>NULL</td></tr>\n",
       "<tr><td>2009-01-01</td><td>XE</td><td>1233</td><td>EWR</td><td>ORD</td><td>1000</td><td>1035.0</td><td>35.0</td><td>14.0</td><td>1049.0</td><td>1156.0</td><td>10.0</td><td>1139</td><td>1206.0</td><td>27.0</td><td>0.0</td><td>NULL</td><td>0.0</td><td>159.0</td><td>151.0</td><td>127.0</td><td>719.0</td><td>0.0</td><td>27.0</td><td>0.0</td><td>0.0</td><td>0.0</td><td>NULL</td></tr>\n",
       "<tr><td>2009-01-01</td><td>XE</td><td>1234</td><td>ORD</td><td>EWR</td><td>1230</td><td>1234.0</td><td>4.0</td><td>8.0</td><td>1242.0</td><td>1511.0</td><td>14.0</td><td>1559</td><td>1525.0</td><td>-34.0</td><td>0.0</td><td>NULL</td><td>0.0</td><td>149.0</td><td>111.0</td><td>89.0</td><td>719.0</td><td>NULL</td><td>NULL</td><td>NULL</td><td>NULL</td><td>NULL</td><td>NULL</td></tr>\n",
       "<tr><td>2009-01-01</td><td>XE</td><td>1235</td><td>EWR</td><td>ORD</td><td>1343</td><td>1406.0</td><td>23.0</td><td>13.0</td><td>1419.0</td><td>1523.0</td><td>7.0</td><td>1523</td><td>1530.0</td><td>7.0</td><td>0.0</td><td>NULL</td><td>0.0</td><td>160.0</td><td>144.0</td><td>124.0</td><td>719.0</td><td>NULL</td><td>NULL</td><td>NULL</td><td>NULL</td><td>NULL</td><td>NULL</td></tr>\n",
       "<tr><td>2009-01-01</td><td>XE</td><td>1236</td><td>ORD</td><td>EWR</td><td>1630</td><td>1619.0</td><td>-11.0</td><td>19.0</td><td>1638.0</td><td>1906.0</td><td>35.0</td><td>2002</td><td>1941.0</td><td>-21.0</td><td>0.0</td><td>NULL</td><td>0.0</td><td>152.0</td><td>142.0</td><td>88.0</td><td>719.0</td><td>NULL</td><td>NULL</td><td>NULL</td><td>NULL</td><td>NULL</td><td>NULL</td></tr>\n",
       "<tr><td>2009-01-01</td><td>XE</td><td>1237</td><td>EWR</td><td>ORD</td><td>1930</td><td>1927.0</td><td>-3.0</td><td>16.0</td><td>1943.0</td><td>2049.0</td><td>8.0</td><td>2123</td><td>2057.0</td><td>-26.0</td><td>0.0</td><td>NULL</td><td>0.0</td><td>173.0</td><td>150.0</td><td>126.0</td><td>719.0</td><td>NULL</td><td>NULL</td><td>NULL</td><td>NULL</td><td>NULL</td><td>NULL</td></tr>\n",
       "</table>\n",
       "only showing top 20 rows\n"
      ],
      "text/plain": [
       "+----------+----------+-----------------+------+----+------------+--------+---------+--------+----------+---------+-------+------------+--------+---------+---------+-----------------+--------+----------------+-------------------+--------+--------+-------------+-------------+---------+--------------+-------------------+-----------+\n",
       "|   FL_DATE|OP_CARRIER|OP_CARRIER_FL_NUM|ORIGIN|DEST|CRS_DEP_TIME|DEP_TIME|DEP_DELAY|TAXI_OUT|WHEELS_OFF|WHEELS_ON|TAXI_IN|CRS_ARR_TIME|ARR_TIME|ARR_DELAY|CANCELLED|CANCELLATION_CODE|DIVERTED|CRS_ELAPSED_TIME|ACTUAL_ELAPSED_TIME|AIR_TIME|DISTANCE|CARRIER_DELAY|WEATHER_DELAY|NAS_DELAY|SECURITY_DELAY|LATE_AIRCRAFT_DELAY|Unnamed: 27|\n",
       "+----------+----------+-----------------+------+----+------------+--------+---------+--------+----------+---------+-------+------------+--------+---------+---------+-----------------+--------+----------------+-------------------+--------+--------+-------------+-------------+---------+--------------+-------------------+-----------+\n",
       "|2009-01-01|        XE|             1204|   DCA| EWR|        1100|  1058.0|     -2.0|    18.0|    1116.0|   1158.0|    8.0|        1202|  1206.0|      4.0|      0.0|             NULL|     0.0|            62.0|               68.0|    42.0|   199.0|         NULL|         NULL|     NULL|          NULL|               NULL|       NULL|\n",
       "|2009-01-01|        XE|             1206|   EWR| IAD|        1510|  1509.0|     -1.0|    28.0|    1537.0|   1620.0|    4.0|        1632|  1624.0|     -8.0|      0.0|             NULL|     0.0|            82.0|               75.0|    43.0|   213.0|         NULL|         NULL|     NULL|          NULL|               NULL|       NULL|\n",
       "|2009-01-01|        XE|             1207|   EWR| DCA|        1100|  1059.0|     -1.0|    20.0|    1119.0|   1155.0|    6.0|        1210|  1201.0|     -9.0|      0.0|             NULL|     0.0|            70.0|               62.0|    36.0|   199.0|         NULL|         NULL|     NULL|          NULL|               NULL|       NULL|\n",
       "|2009-01-01|        XE|             1208|   DCA| EWR|        1240|  1249.0|      9.0|    10.0|    1259.0|   1336.0|    9.0|        1357|  1345.0|    -12.0|      0.0|             NULL|     0.0|            77.0|               56.0|    37.0|   199.0|         NULL|         NULL|     NULL|          NULL|               NULL|       NULL|\n",
       "|2009-01-01|        XE|             1209|   IAD| EWR|        1715|  1705.0|    -10.0|    24.0|    1729.0|   1809.0|   13.0|        1900|  1822.0|    -38.0|      0.0|             NULL|     0.0|           105.0|               77.0|    40.0|   213.0|         NULL|         NULL|     NULL|          NULL|               NULL|       NULL|\n",
       "|2009-01-01|        XE|             1212|   ATL| EWR|        1915|  1913.0|     -2.0|    19.0|    1932.0|   2108.0|   15.0|        2142|  2123.0|    -19.0|      0.0|             NULL|     0.0|           147.0|              130.0|    96.0|   745.0|         NULL|         NULL|     NULL|          NULL|               NULL|       NULL|\n",
       "|2009-01-01|        XE|             1212|   CLE| ATL|        1645|  1637.0|     -8.0|    12.0|    1649.0|   1820.0|    5.0|        1842|  1825.0|    -17.0|      0.0|             NULL|     0.0|           117.0|              108.0|    91.0|   554.0|         NULL|         NULL|     NULL|          NULL|               NULL|       NULL|\n",
       "|2009-01-01|        XE|             1214|   DCA| EWR|        1915|  1908.0|     -7.0|     9.0|    1917.0|   1953.0|   34.0|        2035|  2027.0|     -8.0|      0.0|             NULL|     0.0|            80.0|               79.0|    36.0|   199.0|         NULL|         NULL|     NULL|          NULL|               NULL|       NULL|\n",
       "|2009-01-01|        XE|             1215|   EWR| DCA|        1715|  1710.0|     -5.0|    28.0|    1738.0|   1819.0|    4.0|        1838|  1823.0|    -15.0|      0.0|             NULL|     0.0|            83.0|               73.0|    41.0|   199.0|         NULL|         NULL|     NULL|          NULL|               NULL|       NULL|\n",
       "|2009-01-01|        XE|             1217|   EWR| DCA|        1300|  1255.0|     -5.0|    15.0|    1310.0|   1349.0|    7.0|        1408|  1356.0|    -12.0|      0.0|             NULL|     0.0|            68.0|               61.0|    39.0|   199.0|         NULL|         NULL|     NULL|          NULL|               NULL|       NULL|\n",
       "|2009-01-01|        XE|             1218|   DCA| EWR|        1500|  1457.0|     -3.0|    14.0|    1511.0|   1552.0|    7.0|        1620|  1559.0|    -21.0|      0.0|             NULL|     0.0|            80.0|               62.0|    41.0|   199.0|         NULL|         NULL|     NULL|          NULL|               NULL|       NULL|\n",
       "|2009-01-01|        XE|             1219|   EWR| DCA|        2135|  2131.0|     -4.0|    21.0|    2152.0|   2232.0|    3.0|        2252|  2235.0|    -17.0|      0.0|             NULL|     0.0|            77.0|               64.0|    40.0|   199.0|         NULL|         NULL|     NULL|          NULL|               NULL|       NULL|\n",
       "|2009-01-01|        XE|             1220|   CLE| DCA|        1905|  1855.0|    -10.0|    10.0|    1905.0|   1956.0|    5.0|        2025|  2001.0|    -24.0|      0.0|             NULL|     0.0|            80.0|               66.0|    51.0|   310.0|         NULL|         NULL|     NULL|          NULL|               NULL|       NULL|\n",
       "|2009-01-01|        XE|             1220|   DCA| EWR|        2100|  2049.0|    -11.0|    10.0|    2059.0|   2133.0|   10.0|        2217|  2143.0|    -34.0|      0.0|             NULL|     0.0|            77.0|               54.0|    34.0|   199.0|         NULL|         NULL|     NULL|          NULL|               NULL|       NULL|\n",
       "|2009-01-01|        XE|             1232|   ORD| EWR|         905|   900.0|     -5.0|    16.0|     916.0|   1144.0|    6.0|        1212|  1150.0|    -22.0|      0.0|             NULL|     0.0|           127.0|              110.0|    88.0|   719.0|         NULL|         NULL|     NULL|          NULL|               NULL|       NULL|\n",
       "|2009-01-01|        XE|             1233|   EWR| ORD|        1000|  1035.0|     35.0|    14.0|    1049.0|   1156.0|   10.0|        1139|  1206.0|     27.0|      0.0|             NULL|     0.0|           159.0|              151.0|   127.0|   719.0|          0.0|         27.0|      0.0|           0.0|                0.0|       NULL|\n",
       "|2009-01-01|        XE|             1234|   ORD| EWR|        1230|  1234.0|      4.0|     8.0|    1242.0|   1511.0|   14.0|        1559|  1525.0|    -34.0|      0.0|             NULL|     0.0|           149.0|              111.0|    89.0|   719.0|         NULL|         NULL|     NULL|          NULL|               NULL|       NULL|\n",
       "|2009-01-01|        XE|             1235|   EWR| ORD|        1343|  1406.0|     23.0|    13.0|    1419.0|   1523.0|    7.0|        1523|  1530.0|      7.0|      0.0|             NULL|     0.0|           160.0|              144.0|   124.0|   719.0|         NULL|         NULL|     NULL|          NULL|               NULL|       NULL|\n",
       "|2009-01-01|        XE|             1236|   ORD| EWR|        1630|  1619.0|    -11.0|    19.0|    1638.0|   1906.0|   35.0|        2002|  1941.0|    -21.0|      0.0|             NULL|     0.0|           152.0|              142.0|    88.0|   719.0|         NULL|         NULL|     NULL|          NULL|               NULL|       NULL|\n",
       "|2009-01-01|        XE|             1237|   EWR| ORD|        1930|  1927.0|     -3.0|    16.0|    1943.0|   2049.0|    8.0|        2123|  2057.0|    -26.0|      0.0|             NULL|     0.0|           173.0|              150.0|   126.0|   719.0|         NULL|         NULL|     NULL|          NULL|               NULL|       NULL|\n",
       "+----------+----------+-----------------+------+----+------------+--------+---------+--------+----------+---------+-------+------------+--------+---------+---------+-----------------+--------+----------------+-------------------+--------+--------+-------------+-------------+---------+--------------+-------------------+-----------+\n",
       "only showing top 20 rows"
      ]
     },
     "metadata": {},
     "output_type": "display_data"
    }
   ],
   "source": [
    "# Let's load in some sample data\n",
    "flight_df = spark.read.csv(\"input/2009.csv\", header=True, inferSchema=True)\n",
    "display(flight_df)"
   ]
  },
  {
   "cell_type": "code",
   "execution_count": 3,
   "metadata": {},
   "outputs": [
    {
     "name": "stdout",
     "output_type": "stream",
     "text": [
      "root\n",
      " |-- FL_DATE: date (nullable = true)\n",
      " |-- OP_CARRIER: string (nullable = true)\n",
      " |-- OP_CARRIER_FL_NUM: integer (nullable = true)\n",
      " |-- ORIGIN: string (nullable = true)\n",
      " |-- DEST: string (nullable = true)\n",
      " |-- CRS_DEP_TIME: integer (nullable = true)\n",
      " |-- DEP_TIME: double (nullable = true)\n",
      " |-- DEP_DELAY: double (nullable = true)\n",
      " |-- TAXI_OUT: double (nullable = true)\n",
      " |-- WHEELS_OFF: double (nullable = true)\n",
      " |-- WHEELS_ON: double (nullable = true)\n",
      " |-- TAXI_IN: double (nullable = true)\n",
      " |-- CRS_ARR_TIME: integer (nullable = true)\n",
      " |-- ARR_TIME: double (nullable = true)\n",
      " |-- ARR_DELAY: double (nullable = true)\n",
      " |-- CANCELLED: double (nullable = true)\n",
      " |-- CANCELLATION_CODE: string (nullable = true)\n",
      " |-- DIVERTED: double (nullable = true)\n",
      " |-- CRS_ELAPSED_TIME: double (nullable = true)\n",
      " |-- ACTUAL_ELAPSED_TIME: double (nullable = true)\n",
      " |-- AIR_TIME: double (nullable = true)\n",
      " |-- DISTANCE: double (nullable = true)\n",
      " |-- CARRIER_DELAY: double (nullable = true)\n",
      " |-- WEATHER_DELAY: double (nullable = true)\n",
      " |-- NAS_DELAY: double (nullable = true)\n",
      " |-- SECURITY_DELAY: double (nullable = true)\n",
      " |-- LATE_AIRCRAFT_DELAY: double (nullable = true)\n",
      " |-- Unnamed: 27: string (nullable = true)\n",
      "\n"
     ]
    }
   ],
   "source": [
    "flight_df.printSchema()"
   ]
  },
  {
   "cell_type": "code",
   "execution_count": 4,
   "metadata": {},
   "outputs": [
    {
     "data": {
      "text/html": [
       "<table border='1'>\n",
       "<tr><th>FL_DATE</th><th>OP_CARRIER</th><th>OP_CARRIER_FL_NUM</th><th>ORIGIN</th><th>DEST</th><th>CRS_DEP_TIME</th><th>DEP_TIME</th><th>DEP_DELAY</th><th>TAXI_OUT</th><th>WHEELS_OFF</th><th>WHEELS_ON</th><th>TAXI_IN</th><th>CRS_ARR_TIME</th><th>ARR_TIME</th><th>ARR_DELAY</th><th>CANCELLED</th><th>CANCELLATION_CODE</th><th>DIVERTED</th><th>CRS_ELAPSED_TIME</th><th>ACTUAL_ELAPSED_TIME</th><th>AIR_TIME</th><th>DISTANCE</th><th>CARRIER_DELAY</th><th>WEATHER_DELAY</th><th>NAS_DELAY</th><th>SECURITY_DELAY</th><th>LATE_AIRCRAFT_DELAY</th><th>Unnamed: 27</th></tr>\n",
       "<tr><td>0</td><td>0</td><td>0</td><td>0</td><td>0</td><td>0</td><td>82867</td><td>82867</td><td>85787</td><td>85787</td><td>89322</td><td>89321</td><td>0</td><td>89322</td><td>102361</td><td>0</td><td>6342300</td><td>0</td><td>0</td><td>102362</td><td>102361</td><td>0</td><td>5258837</td><td>5258837</td><td>5258837</td><td>5258837</td><td>5258837</td><td>6429338</td></tr>\n",
       "</table>\n"
      ],
      "text/plain": [
       "+-------+----------+-----------------+------+----+------------+--------+---------+--------+----------+---------+-------+------------+--------+---------+---------+-----------------+--------+----------------+-------------------+--------+--------+-------------+-------------+---------+--------------+-------------------+-----------+\n",
       "|FL_DATE|OP_CARRIER|OP_CARRIER_FL_NUM|ORIGIN|DEST|CRS_DEP_TIME|DEP_TIME|DEP_DELAY|TAXI_OUT|WHEELS_OFF|WHEELS_ON|TAXI_IN|CRS_ARR_TIME|ARR_TIME|ARR_DELAY|CANCELLED|CANCELLATION_CODE|DIVERTED|CRS_ELAPSED_TIME|ACTUAL_ELAPSED_TIME|AIR_TIME|DISTANCE|CARRIER_DELAY|WEATHER_DELAY|NAS_DELAY|SECURITY_DELAY|LATE_AIRCRAFT_DELAY|Unnamed: 27|\n",
       "+-------+----------+-----------------+------+----+------------+--------+---------+--------+----------+---------+-------+------------+--------+---------+---------+-----------------+--------+----------------+-------------------+--------+--------+-------------+-------------+---------+--------------+-------------------+-----------+\n",
       "|      0|         0|                0|     0|   0|           0|   82867|    82867|   85787|     85787|    89322|  89321|           0|   89322|   102361|        0|          6342300|       0|               0|             102362|  102361|       0|      5258837|      5258837|  5258837|       5258837|            5258837|    6429338|\n",
       "+-------+----------+-----------------+------+----+------------+--------+---------+--------+----------+---------+-------+------------+--------+---------+---------+-----------------+--------+----------------+-------------------+--------+--------+-------------+-------------+---------+--------------+-------------------+-----------+"
      ]
     },
     "execution_count": 4,
     "metadata": {},
     "output_type": "execute_result"
    }
   ],
   "source": [
    "#Counting the null values\n",
    "null_counts = flight_df.select([F.sum(F.col(c).isNull().cast(\"int\")).alias(c) for c in flight_df.columns])\n",
    "null_counts"
   ]
  },
  {
   "cell_type": "code",
   "execution_count": 7,
   "metadata": {},
   "outputs": [
    {
     "data": {
      "text/html": [
       "<table border='1'>\n",
       "<tr><th>id</th></tr>\n",
       "<tr><td>GRR</td></tr>\n",
       "<tr><td>MFE</td></tr>\n",
       "<tr><td>DAL</td></tr>\n",
       "<tr><td>ICT</td></tr>\n",
       "<tr><td>AVL</td></tr>\n",
       "<tr><td>PBI</td></tr>\n",
       "<tr><td>XNA</td></tr>\n",
       "<tr><td>BFL</td></tr>\n",
       "<tr><td>JFK</td></tr>\n",
       "<tr><td>LGB</td></tr>\n",
       "<tr><td>MRY</td></tr>\n",
       "<tr><td>SNA</td></tr>\n",
       "<tr><td>MDW</td></tr>\n",
       "<tr><td>AZO</td></tr>\n",
       "<tr><td>RDD</td></tr>\n",
       "<tr><td>CAK</td></tr>\n",
       "<tr><td>EKO</td></tr>\n",
       "<tr><td>PIH</td></tr>\n",
       "<tr><td>ANC</td></tr>\n",
       "<tr><td>MYR</td></tr>\n",
       "</table>\n",
       "only showing top 20 rows\n"
      ],
      "text/plain": [
       "+---+\n",
       "| id|\n",
       "+---+\n",
       "|GRR|\n",
       "|MFE|\n",
       "|DAL|\n",
       "|ICT|\n",
       "|AVL|\n",
       "|PBI|\n",
       "|XNA|\n",
       "|BFL|\n",
       "|JFK|\n",
       "|LGB|\n",
       "|MRY|\n",
       "|SNA|\n",
       "|MDW|\n",
       "|AZO|\n",
       "|RDD|\n",
       "|CAK|\n",
       "|EKO|\n",
       "|PIH|\n",
       "|ANC|\n",
       "|MYR|\n",
       "+---+\n",
       "only showing top 20 rows"
      ]
     },
     "metadata": {},
     "output_type": "display_data"
    }
   ],
   "source": [
    "# Creating vertices\n",
    "# Get unique airport codes from both origin and destination.\n",
    "origins = flight_df.select(F.col(\"ORIGIN\").alias(\"id\"))\n",
    "destinations = flight_df.select(F.col(\"DEST\").alias(\"id\"))\n",
    "flight_vertices = origins.union(destinations).distinct()\n",
    "\n",
    "display(flight_vertices)"
   ]
  },
  {
   "cell_type": "code",
   "execution_count": 8,
   "metadata": {},
   "outputs": [
    {
     "data": {
      "text/html": [
       "<table border='1'>\n",
       "<tr><th>src</th><th>dst</th><th>FL_DATE</th><th>CANCELLED</th><th>ARR_TIME</th><th>DISTANCE</th></tr>\n",
       "<tr><td>DCA</td><td>EWR</td><td>2009-01-01</td><td>0.0</td><td>1206.0</td><td>199.0</td></tr>\n",
       "<tr><td>EWR</td><td>IAD</td><td>2009-01-01</td><td>0.0</td><td>1624.0</td><td>213.0</td></tr>\n",
       "<tr><td>EWR</td><td>DCA</td><td>2009-01-01</td><td>0.0</td><td>1201.0</td><td>199.0</td></tr>\n",
       "<tr><td>DCA</td><td>EWR</td><td>2009-01-01</td><td>0.0</td><td>1345.0</td><td>199.0</td></tr>\n",
       "<tr><td>IAD</td><td>EWR</td><td>2009-01-01</td><td>0.0</td><td>1822.0</td><td>213.0</td></tr>\n",
       "<tr><td>ATL</td><td>EWR</td><td>2009-01-01</td><td>0.0</td><td>2123.0</td><td>745.0</td></tr>\n",
       "<tr><td>CLE</td><td>ATL</td><td>2009-01-01</td><td>0.0</td><td>1825.0</td><td>554.0</td></tr>\n",
       "<tr><td>DCA</td><td>EWR</td><td>2009-01-01</td><td>0.0</td><td>2027.0</td><td>199.0</td></tr>\n",
       "<tr><td>EWR</td><td>DCA</td><td>2009-01-01</td><td>0.0</td><td>1823.0</td><td>199.0</td></tr>\n",
       "<tr><td>EWR</td><td>DCA</td><td>2009-01-01</td><td>0.0</td><td>1356.0</td><td>199.0</td></tr>\n",
       "<tr><td>DCA</td><td>EWR</td><td>2009-01-01</td><td>0.0</td><td>1559.0</td><td>199.0</td></tr>\n",
       "<tr><td>EWR</td><td>DCA</td><td>2009-01-01</td><td>0.0</td><td>2235.0</td><td>199.0</td></tr>\n",
       "<tr><td>CLE</td><td>DCA</td><td>2009-01-01</td><td>0.0</td><td>2001.0</td><td>310.0</td></tr>\n",
       "<tr><td>DCA</td><td>EWR</td><td>2009-01-01</td><td>0.0</td><td>2143.0</td><td>199.0</td></tr>\n",
       "<tr><td>ORD</td><td>EWR</td><td>2009-01-01</td><td>0.0</td><td>1150.0</td><td>719.0</td></tr>\n",
       "<tr><td>EWR</td><td>ORD</td><td>2009-01-01</td><td>0.0</td><td>1206.0</td><td>719.0</td></tr>\n",
       "<tr><td>ORD</td><td>EWR</td><td>2009-01-01</td><td>0.0</td><td>1525.0</td><td>719.0</td></tr>\n",
       "<tr><td>EWR</td><td>ORD</td><td>2009-01-01</td><td>0.0</td><td>1530.0</td><td>719.0</td></tr>\n",
       "<tr><td>ORD</td><td>EWR</td><td>2009-01-01</td><td>0.0</td><td>1941.0</td><td>719.0</td></tr>\n",
       "<tr><td>EWR</td><td>ORD</td><td>2009-01-01</td><td>0.0</td><td>2057.0</td><td>719.0</td></tr>\n",
       "</table>\n",
       "only showing top 20 rows\n"
      ],
      "text/plain": [
       "+---+---+----------+---------+--------+--------+\n",
       "|src|dst|   FL_DATE|CANCELLED|ARR_TIME|DISTANCE|\n",
       "+---+---+----------+---------+--------+--------+\n",
       "|DCA|EWR|2009-01-01|      0.0|  1206.0|   199.0|\n",
       "|EWR|IAD|2009-01-01|      0.0|  1624.0|   213.0|\n",
       "|EWR|DCA|2009-01-01|      0.0|  1201.0|   199.0|\n",
       "|DCA|EWR|2009-01-01|      0.0|  1345.0|   199.0|\n",
       "|IAD|EWR|2009-01-01|      0.0|  1822.0|   213.0|\n",
       "|ATL|EWR|2009-01-01|      0.0|  2123.0|   745.0|\n",
       "|CLE|ATL|2009-01-01|      0.0|  1825.0|   554.0|\n",
       "|DCA|EWR|2009-01-01|      0.0|  2027.0|   199.0|\n",
       "|EWR|DCA|2009-01-01|      0.0|  1823.0|   199.0|\n",
       "|EWR|DCA|2009-01-01|      0.0|  1356.0|   199.0|\n",
       "|DCA|EWR|2009-01-01|      0.0|  1559.0|   199.0|\n",
       "|EWR|DCA|2009-01-01|      0.0|  2235.0|   199.0|\n",
       "|CLE|DCA|2009-01-01|      0.0|  2001.0|   310.0|\n",
       "|DCA|EWR|2009-01-01|      0.0|  2143.0|   199.0|\n",
       "|ORD|EWR|2009-01-01|      0.0|  1150.0|   719.0|\n",
       "|EWR|ORD|2009-01-01|      0.0|  1206.0|   719.0|\n",
       "|ORD|EWR|2009-01-01|      0.0|  1525.0|   719.0|\n",
       "|EWR|ORD|2009-01-01|      0.0|  1530.0|   719.0|\n",
       "|ORD|EWR|2009-01-01|      0.0|  1941.0|   719.0|\n",
       "|EWR|ORD|2009-01-01|      0.0|  2057.0|   719.0|\n",
       "+---+---+----------+---------+--------+--------+\n",
       "only showing top 20 rows"
      ]
     },
     "metadata": {},
     "output_type": "display_data"
    }
   ],
   "source": [
    "# Creating edges\n",
    "flight_edges = (flight_df.filter(\n",
    "        F.column(\"ORIGIN\").isNotNull() & F.column(\"DEST\").isNotNull())\n",
    "    .select(\n",
    "        F.column(\"ORIGIN\").alias(\"src\"), \n",
    "        F.column(\"DEST\").alias(\"dst\"), \n",
    "        F.column(\"FL_DATE\"), \n",
    "        F.column(\"CANCELLED\"), \n",
    "        F.column(\"ARR_TIME\"), \n",
    "        F.column(\"DISTANCE\"), \n",
    "    )\n",
    ")\n",
    "display(flight_edges)"
   ]
  },
  {
   "cell_type": "markdown",
   "metadata": {},
   "source": [
    "#### Create a GraphFrame"
   ]
  },
  {
   "cell_type": "code",
   "execution_count": 9,
   "metadata": {},
   "outputs": [
    {
     "data": {
      "text/plain": [
       "GraphFrame(v:[id: string], e:[src: string, dst: string ... 4 more fields])"
      ]
     },
     "metadata": {},
     "output_type": "display_data"
    }
   ],
   "source": [
    "#Creating GraphFrame\n",
    "flight_graph = gf.GraphFrame(flight_vertices, flight_edges)\n",
    "\n",
    "flight_vertices.cache()\n",
    "flight_edges.cache()\n",
    "\n",
    "display(flight_graph)"
   ]
  },
  {
   "cell_type": "code",
   "execution_count": 8,
   "metadata": {},
   "outputs": [
    {
     "data": {
      "text/plain": [
       "6429338"
      ]
     },
     "execution_count": 8,
     "metadata": {},
     "output_type": "execute_result"
    }
   ],
   "source": [
    "#flight_vertices.count()\n",
    "flight_edges.count()"
   ]
  },
  {
   "cell_type": "markdown",
   "metadata": {},
   "source": [
    "### Query 1: Compute different statistics : in-degree, out-degree, total degree and triangle count."
   ]
  },
  {
   "cell_type": "markdown",
   "metadata": {},
   "source": [
    "#### 1A. in-degree, out-degree, total degree"
   ]
  },
  {
   "cell_type": "code",
   "execution_count": 10,
   "metadata": {},
   "outputs": [
    {
     "data": {
      "text/html": [
       "<table border='1'>\n",
       "<tr><th>id</th><th>in_degree</th><th>out_degree</th><th>total_degree</th></tr>\n",
       "<tr><td>GRR</td><td>13970</td><td>13973</td><td>27943</td></tr>\n",
       "<tr><td>MFE</td><td>4528</td><td>4529</td><td>9057</td></tr>\n",
       "<tr><td>DAL</td><td>48209</td><td>48207</td><td>96416</td></tr>\n",
       "<tr><td>ICT</td><td>13263</td><td>13266</td><td>26529</td></tr>\n",
       "<tr><td>AVL</td><td>4585</td><td>4584</td><td>9169</td></tr>\n",
       "<tr><td>PBI</td><td>25496</td><td>25500</td><td>50996</td></tr>\n",
       "<tr><td>XNA</td><td>13764</td><td>13755</td><td>27519</td></tr>\n",
       "<tr><td>BFL</td><td>3411</td><td>3412</td><td>6823</td></tr>\n",
       "<tr><td>JFK</td><td>119571</td><td>119574</td><td>239145</td></tr>\n",
       "<tr><td>LGB</td><td>14533</td><td>14529</td><td>29062</td></tr>\n",
       "<tr><td>MRY</td><td>6089</td><td>6087</td><td>12176</td></tr>\n",
       "<tr><td>SNA</td><td>45880</td><td>45876</td><td>91756</td></tr>\n",
       "<tr><td>MDW</td><td>84046</td><td>84047</td><td>168093</td></tr>\n",
       "<tr><td>AZO</td><td>2953</td><td>2953</td><td>5906</td></tr>\n",
       "<tr><td>RDD</td><td>1433</td><td>1433</td><td>2866</td></tr>\n",
       "<tr><td>CAK</td><td>8843</td><td>8845</td><td>17688</td></tr>\n",
       "<tr><td>EKO</td><td>1416</td><td>1416</td><td>2832</td></tr>\n",
       "<tr><td>PIH</td><td>1436</td><td>1436</td><td>2872</td></tr>\n",
       "<tr><td>ANC</td><td>17788</td><td>17791</td><td>35579</td></tr>\n",
       "<tr><td>MYR</td><td>4515</td><td>4511</td><td>9026</td></tr>\n",
       "</table>\n",
       "only showing top 20 rows\n"
      ],
      "text/plain": [
       "+---+---------+----------+------------+\n",
       "| id|in_degree|out_degree|total_degree|\n",
       "+---+---------+----------+------------+\n",
       "|GRR|    13970|     13973|       27943|\n",
       "|MFE|     4528|      4529|        9057|\n",
       "|DAL|    48209|     48207|       96416|\n",
       "|ICT|    13263|     13266|       26529|\n",
       "|AVL|     4585|      4584|        9169|\n",
       "|PBI|    25496|     25500|       50996|\n",
       "|XNA|    13764|     13755|       27519|\n",
       "|BFL|     3411|      3412|        6823|\n",
       "|JFK|   119571|    119574|      239145|\n",
       "|LGB|    14533|     14529|       29062|\n",
       "|MRY|     6089|      6087|       12176|\n",
       "|SNA|    45880|     45876|       91756|\n",
       "|MDW|    84046|     84047|      168093|\n",
       "|AZO|     2953|      2953|        5906|\n",
       "|RDD|     1433|      1433|        2866|\n",
       "|CAK|     8843|      8845|       17688|\n",
       "|EKO|     1416|      1416|        2832|\n",
       "|PIH|     1436|      1436|        2872|\n",
       "|ANC|    17788|     17791|       35579|\n",
       "|MYR|     4515|      4511|        9026|\n",
       "+---+---------+----------+------------+\n",
       "only showing top 20 rows"
      ]
     },
     "metadata": {},
     "output_type": "display_data"
    }
   ],
   "source": [
    "# Compute out-degrees: count of edges where airport is the source.\n",
    "out_degrees = flight_edges.groupBy(\"src\").agg(F.count(\"dst\").alias(\"out_degree\"))\n",
    "\n",
    "# Compute in-degrees: count of edges where airport is the destination.\n",
    "in_degrees = flight_edges.groupBy(\"dst\").agg(F.count(\"src\").alias(\"in_degree\"))\n",
    "\n",
    "# Join these counts with the vertices so that every airport gets degree values.\n",
    "total_degree = (flight_vertices\n",
    "                  .join(in_degrees, flight_vertices.id == in_degrees.dst, \"left\")\n",
    "                  .join(out_degrees, flight_vertices.id == out_degrees.src, \"left\")\n",
    "                  .select(flight_vertices.id,\n",
    "                          F.coalesce(in_degrees[\"in_degree\"], F.lit(0)).alias(\"in_degree\"),\n",
    "                          F.coalesce(out_degrees[\"out_degree\"], F.lit(0)).alias(\"out_degree\")))\n",
    "                          \n",
    "# Compute total degree (simply the sum of in_degree and out_degree).\n",
    "total_degree = total_degree.withColumn(\"total_degree\", F.col(\"in_degree\") + F.col(\"out_degree\"))\n",
    "\n",
    "display(total_degree)"
   ]
  },
  {
   "cell_type": "code",
   "execution_count": 11,
   "metadata": {},
   "outputs": [
    {
     "data": {
      "text/html": [
       "<table border='1'>\n",
       "<tr><th>id</th><th>in_degree</th><th>out_degree</th><th>total_degree</th></tr>\n",
       "<tr><td>GRR</td><td>13970</td><td>13973</td><td>27943</td></tr>\n",
       "<tr><td>MFE</td><td>4528</td><td>4529</td><td>9057</td></tr>\n",
       "<tr><td>DAL</td><td>48209</td><td>48207</td><td>96416</td></tr>\n",
       "<tr><td>ICT</td><td>13263</td><td>13266</td><td>26529</td></tr>\n",
       "<tr><td>AVL</td><td>4585</td><td>4584</td><td>9169</td></tr>\n",
       "<tr><td>PBI</td><td>25496</td><td>25500</td><td>50996</td></tr>\n",
       "<tr><td>XNA</td><td>13764</td><td>13755</td><td>27519</td></tr>\n",
       "<tr><td>BFL</td><td>3411</td><td>3412</td><td>6823</td></tr>\n",
       "<tr><td>JFK</td><td>119571</td><td>119574</td><td>239145</td></tr>\n",
       "<tr><td>LGB</td><td>14533</td><td>14529</td><td>29062</td></tr>\n",
       "<tr><td>MRY</td><td>6089</td><td>6087</td><td>12176</td></tr>\n",
       "<tr><td>SNA</td><td>45880</td><td>45876</td><td>91756</td></tr>\n",
       "<tr><td>MDW</td><td>84046</td><td>84047</td><td>168093</td></tr>\n",
       "<tr><td>AZO</td><td>2953</td><td>2953</td><td>5906</td></tr>\n",
       "<tr><td>RDD</td><td>1433</td><td>1433</td><td>2866</td></tr>\n",
       "<tr><td>CAK</td><td>8843</td><td>8845</td><td>17688</td></tr>\n",
       "<tr><td>EKO</td><td>1416</td><td>1416</td><td>2832</td></tr>\n",
       "<tr><td>PIH</td><td>1436</td><td>1436</td><td>2872</td></tr>\n",
       "<tr><td>ANC</td><td>17788</td><td>17791</td><td>35579</td></tr>\n",
       "<tr><td>MYR</td><td>4515</td><td>4511</td><td>9026</td></tr>\n",
       "</table>\n",
       "only showing top 20 rows\n"
      ],
      "text/plain": [
       "+---+---------+----------+------------+\n",
       "| id|in_degree|out_degree|total_degree|\n",
       "+---+---------+----------+------------+\n",
       "|GRR|    13970|     13973|       27943|\n",
       "|MFE|     4528|      4529|        9057|\n",
       "|DAL|    48209|     48207|       96416|\n",
       "|ICT|    13263|     13266|       26529|\n",
       "|AVL|     4585|      4584|        9169|\n",
       "|PBI|    25496|     25500|       50996|\n",
       "|XNA|    13764|     13755|       27519|\n",
       "|BFL|     3411|      3412|        6823|\n",
       "|JFK|   119571|    119574|      239145|\n",
       "|LGB|    14533|     14529|       29062|\n",
       "|MRY|     6089|      6087|       12176|\n",
       "|SNA|    45880|     45876|       91756|\n",
       "|MDW|    84046|     84047|      168093|\n",
       "|AZO|     2953|      2953|        5906|\n",
       "|RDD|     1433|      1433|        2866|\n",
       "|CAK|     8843|      8845|       17688|\n",
       "|EKO|     1416|      1416|        2832|\n",
       "|PIH|     1436|      1436|        2872|\n",
       "|ANC|    17788|     17791|       35579|\n",
       "|MYR|     4515|      4511|        9026|\n",
       "+---+---------+----------+------------+\n",
       "only showing top 20 rows"
      ]
     },
     "metadata": {},
     "output_type": "display_data"
    }
   ],
   "source": [
    "# Let's verify the results using inbuilt functions\n",
    "out_degrees_inbuilt = flight_graph.outDegrees\n",
    "\n",
    "in_degrees_inbuilt = flight_graph.inDegrees\n",
    "\n",
    "total_degrees_inbuilt = flight_graph.degrees\n",
    "\n",
    "degree_df = (flight_graph.vertices\n",
    "    .join(in_degrees_inbuilt, \"id\", \"left\")\n",
    "    .join(out_degrees_inbuilt, \"id\", \"left\")\n",
    "    .join(total_degrees_inbuilt, \"id\", \"left\")\n",
    "    .select(\n",
    "        \"id\",\n",
    "        F.coalesce(in_degrees_inbuilt[\"inDegree\"], F.lit(0)).alias(\"in_degree\"),\n",
    "        F.coalesce(out_degrees_inbuilt[\"outDegree\"], F.lit(0)).alias(\"out_degree\"),\n",
    "        F.coalesce(total_degrees_inbuilt[\"degree\"], F.lit(0)).alias(\"total_degree\")\n",
    "    )\n",
    ")\n",
    "\n",
    "display(degree_df)\n"
   ]
  },
  {
   "cell_type": "markdown",
   "metadata": {},
   "source": [
    "#### 1B. triangle count"
   ]
  },
  {
   "cell_type": "code",
   "execution_count": 12,
   "metadata": {},
   "outputs": [],
   "source": [
    "# Create an undirected view of the edges by ordering the airport codes.\n",
    "undirected_edges = (flight_edges\n",
    "                    .select(\n",
    "                        F.when(F.col(\"src\") < F.col(\"dst\"), F.col(\"src\")).otherwise(F.col(\"dst\")).alias(\"v1\"),\n",
    "                        F.when(F.col(\"src\") < F.col(\"dst\"), F.col(\"dst\")).otherwise(F.col(\"src\")).alias(\"v2\")\n",
    "                    )\n",
    "                    .dropDuplicates())\n",
    "#display(undirected_edges)"
   ]
  },
  {
   "cell_type": "code",
   "execution_count": 13,
   "metadata": {},
   "outputs": [],
   "source": [
    "# Alias the undirected edges for the self-join.\n",
    "e1 = undirected_edges.alias(\"e1\")\n",
    "e2 = undirected_edges.alias(\"e2\")\n",
    "e3 = undirected_edges.alias(\"e3\")\n",
    "\n",
    "# Join e1 and e2 to form potential chains: v1 - v2 - v3\n",
    "triangle_candidates = e1.join(e2, F.col(\"e1.v2\") == F.col(\"e2.v1\"))\n",
    "\n",
    "# Now join with e3 to check if an edge exists between v1 and v3 to close the triangle.\n",
    "triangles = triangle_candidates.join(\n",
    "    e3,\n",
    "    (F.col(\"e1.v1\") == F.col(\"e3.v1\")) & (F.col(\"e2.v2\") == F.col(\"e3.v2\"))\n",
    ")\n",
    "\n",
    "# Filter triangles to remove duplicates (v1 < v2 < v3)\n",
    "triangles = triangles.filter(\n",
    "    (F.col(\"e1.v1\") < F.col(\"e1.v2\")) &\n",
    "    (F.col(\"e1.v2\") < F.col(\"e2.v2\"))\n",
    ")\n"
   ]
  },
  {
   "cell_type": "code",
   "execution_count": 14,
   "metadata": {},
   "outputs": [
    {
     "data": {
      "text/html": [
       "<table border='1'>\n",
       "<tr><th>id</th><th>in_degree</th><th>out_degree</th><th>total_degree</th><th>triangle_count</th></tr>\n",
       "<tr><td>GRR</td><td>13970</td><td>13973</td><td>27943</td><td>96</td></tr>\n",
       "<tr><td>MFE</td><td>4528</td><td>4529</td><td>9057</td><td>3</td></tr>\n",
       "<tr><td>DAL</td><td>48209</td><td>48207</td><td>96416</td><td>73</td></tr>\n",
       "<tr><td>ICT</td><td>13263</td><td>13266</td><td>26529</td><td>52</td></tr>\n",
       "<tr><td>AVL</td><td>4585</td><td>4584</td><td>9169</td><td>27</td></tr>\n",
       "<tr><td>PBI</td><td>25496</td><td>25500</td><td>50996</td><td>168</td></tr>\n",
       "<tr><td>XNA</td><td>13764</td><td>13755</td><td>27519</td><td>97</td></tr>\n",
       "<tr><td>BFL</td><td>3411</td><td>3412</td><td>6823</td><td>6</td></tr>\n",
       "<tr><td>JFK</td><td>119571</td><td>119574</td><td>239145</td><td>942</td></tr>\n",
       "<tr><td>LGB</td><td>14533</td><td>14529</td><td>29062</td><td>89</td></tr>\n",
       "<tr><td>MRY</td><td>6089</td><td>6087</td><td>12176</td><td>13</td></tr>\n",
       "<tr><td>SNA</td><td>45880</td><td>45876</td><td>91756</td><td>133</td></tr>\n",
       "<tr><td>MDW</td><td>84046</td><td>84047</td><td>168093</td><td>621</td></tr>\n",
       "<tr><td>AZO</td><td>2953</td><td>2953</td><td>5906</td><td>6</td></tr>\n",
       "<tr><td>RDD</td><td>1433</td><td>1433</td><td>2866</td><td>1</td></tr>\n",
       "<tr><td>CAK</td><td>8843</td><td>8845</td><td>17688</td><td>42</td></tr>\n",
       "<tr><td>EKO</td><td>1416</td><td>1416</td><td>2832</td><td>0</td></tr>\n",
       "<tr><td>PIH</td><td>1436</td><td>1436</td><td>2872</td><td>0</td></tr>\n",
       "<tr><td>ANC</td><td>17788</td><td>17791</td><td>35579</td><td>122</td></tr>\n",
       "<tr><td>MYR</td><td>4515</td><td>4511</td><td>9026</td><td>20</td></tr>\n",
       "</table>\n",
       "only showing top 20 rows\n"
      ],
      "text/plain": [
       "+---+---------+----------+------------+--------------+\n",
       "| id|in_degree|out_degree|total_degree|triangle_count|\n",
       "+---+---------+----------+------------+--------------+\n",
       "|GRR|    13970|     13973|       27943|            96|\n",
       "|MFE|     4528|      4529|        9057|             3|\n",
       "|DAL|    48209|     48207|       96416|            73|\n",
       "|ICT|    13263|     13266|       26529|            52|\n",
       "|AVL|     4585|      4584|        9169|            27|\n",
       "|PBI|    25496|     25500|       50996|           168|\n",
       "|XNA|    13764|     13755|       27519|            97|\n",
       "|BFL|     3411|      3412|        6823|             6|\n",
       "|JFK|   119571|    119574|      239145|           942|\n",
       "|LGB|    14533|     14529|       29062|            89|\n",
       "|MRY|     6089|      6087|       12176|            13|\n",
       "|SNA|    45880|     45876|       91756|           133|\n",
       "|MDW|    84046|     84047|      168093|           621|\n",
       "|AZO|     2953|      2953|        5906|             6|\n",
       "|RDD|     1433|      1433|        2866|             1|\n",
       "|CAK|     8843|      8845|       17688|            42|\n",
       "|EKO|     1416|      1416|        2832|             0|\n",
       "|PIH|     1436|      1436|        2872|             0|\n",
       "|ANC|    17788|     17791|       35579|           122|\n",
       "|MYR|     4515|      4511|        9026|            20|\n",
       "+---+---------+----------+------------+--------------+\n",
       "only showing top 20 rows"
      ]
     },
     "metadata": {},
     "output_type": "display_data"
    }
   ],
   "source": [
    "# Compute per-vertex triangle counts: each triangle involves three airports.\n",
    "# Union the vertices from each triangle and then count how many times each airport appears.\n",
    "triangle_vertices = (triangles.select(F.col(\"e1.v1\").alias(\"id\"))\n",
    "                     .union(triangles.select(F.col(\"e1.v2\").alias(\"id\")))\n",
    "                     .union(triangles.select(F.col(\"e2.v2\").alias(\"id\"))))\n",
    "\n",
    "vertex_triangle_counts = triangle_vertices.groupBy(\"id\").agg(F.count(\"*\").alias(\"triangle_count\"))\n",
    "\n",
    "# Join with the vertex degrees so you have one table with all stats.\n",
    "vertex_stats = total_degree.join(vertex_triangle_counts, \"id\", \"left\").fillna(0, subset=[\"triangle_count\"])\n",
    "display(vertex_stats)"
   ]
  },
  {
   "cell_type": "code",
   "execution_count": 15,
   "metadata": {},
   "outputs": [
    {
     "data": {
      "text/html": [
       "<table border='1'>\n",
       "<tr><th>count</th><th>id</th></tr>\n",
       "<tr><td>96</td><td>GRR</td></tr>\n",
       "<tr><td>3</td><td>MFE</td></tr>\n",
       "<tr><td>73</td><td>DAL</td></tr>\n",
       "<tr><td>52</td><td>ICT</td></tr>\n",
       "<tr><td>27</td><td>AVL</td></tr>\n",
       "<tr><td>168</td><td>PBI</td></tr>\n",
       "<tr><td>97</td><td>XNA</td></tr>\n",
       "<tr><td>6</td><td>BFL</td></tr>\n",
       "<tr><td>942</td><td>JFK</td></tr>\n",
       "<tr><td>89</td><td>LGB</td></tr>\n",
       "<tr><td>13</td><td>MRY</td></tr>\n",
       "<tr><td>133</td><td>SNA</td></tr>\n",
       "<tr><td>621</td><td>MDW</td></tr>\n",
       "<tr><td>6</td><td>AZO</td></tr>\n",
       "<tr><td>1</td><td>RDD</td></tr>\n",
       "<tr><td>42</td><td>CAK</td></tr>\n",
       "<tr><td>0</td><td>EKO</td></tr>\n",
       "<tr><td>0</td><td>PIH</td></tr>\n",
       "<tr><td>122</td><td>ANC</td></tr>\n",
       "<tr><td>20</td><td>MYR</td></tr>\n",
       "</table>\n",
       "only showing top 20 rows\n"
      ],
      "text/plain": [
       "+-----+---+\n",
       "|count| id|\n",
       "+-----+---+\n",
       "|   96|GRR|\n",
       "|    3|MFE|\n",
       "|   73|DAL|\n",
       "|   52|ICT|\n",
       "|   27|AVL|\n",
       "|  168|PBI|\n",
       "|   97|XNA|\n",
       "|    6|BFL|\n",
       "|  942|JFK|\n",
       "|   89|LGB|\n",
       "|   13|MRY|\n",
       "|  133|SNA|\n",
       "|  621|MDW|\n",
       "|    6|AZO|\n",
       "|    1|RDD|\n",
       "|   42|CAK|\n",
       "|    0|EKO|\n",
       "|    0|PIH|\n",
       "|  122|ANC|\n",
       "|   20|MYR|\n",
       "+-----+---+\n",
       "only showing top 20 rows"
      ]
     },
     "metadata": {},
     "output_type": "display_data"
    }
   ],
   "source": [
    "#Let's verify the above results with inbuilt function triangleCount\n",
    "tcount = flight_graph.triangleCount()\n",
    "display(tcount)"
   ]
  },
  {
   "cell_type": "markdown",
   "metadata": {},
   "source": [
    "### Query 2 – Total Number of Triangles in the Graph"
   ]
  },
  {
   "cell_type": "code",
   "execution_count": 16,
   "metadata": {},
   "outputs": [
    {
     "name": "stdout",
     "output_type": "stream",
     "text": [
      "Total number of triangles (overall): 16015\n"
     ]
    }
   ],
   "source": [
    "# Note: This we computed already in the above query 1B\n",
    "# Count of triangles in the graph (each triangle counted once).\n",
    "triangle_total_count = triangles.count()\n",
    "print(\"Total number of triangles (overall):\", triangle_total_count)"
   ]
  },
  {
   "cell_type": "markdown",
   "metadata": {},
   "source": [
    "### Query 3 –  centrality measure of your choice natively on Spark using Graphframes.\n"
   ]
  },
  {
   "cell_type": "code",
   "execution_count": 16,
   "metadata": {},
   "outputs": [
    {
     "name": "stdout",
     "output_type": "stream",
     "text": [
      "Iteration 0 max change: 0.9999995333889741\n",
      "Iteration 1 max change: 0.03363152333320294\n",
      "Iteration 2 max change: 0.008680665250809683\n",
      "Iteration 3 max change: 0.003152686947788093\n",
      "Iteration 4 max change: 0.0009518548396991663\n",
      "Iteration 5 max change: 0.0003445798118187002\n",
      "Iteration 6 max change: 0.00010000117637908035\n",
      "Iteration 7 max change: 3.9087763740001946e-05\n",
      "Eigenvector Centrality Scores:\n",
      "+---+--------------------+\n",
      "| id|                rank|\n",
      "+---+--------------------+\n",
      "|ATL| 0.03753374418630434|\n",
      "|ORD| 0.03420041245905581|\n",
      "|DFW| 0.02919545387978359|\n",
      "|DEN| 0.02846066233421178|\n",
      "|LAX| 0.02757145710733077|\n",
      "|PHX| 0.02469136002748761|\n",
      "|LAS|  0.0233244439405244|\n",
      "|IAH|0.020739376543622005|\n",
      "|SFO| 0.01988898809777288|\n",
      "|BOS|0.018799291422729483|\n",
      "+---+--------------------+\n",
      "only showing top 10 rows\n",
      "\n"
     ]
    }
   ],
   "source": [
    "# Initialize each vertex with a rank (centrality) of 1.0.\n",
    "ranks = flight_vertices.select(\"id\").withColumn(\"rank\", F.lit(1.0))\n",
    "\n",
    "# Set parameters for the power iteration.\n",
    "max_iter = 10\n",
    "epsilon = 1e-4\n",
    "\n",
    "for i in range(max_iter):\n",
    "    # Each vertex's rank is distributed to its destination neighbors.\n",
    "    contribs = flight_edges.join(ranks, flight_edges.src == ranks.id) \\\n",
    "                    .groupBy(\"dst\") \\\n",
    "                    .agg(F.sum(\"rank\").alias(\"contrib\"))\n",
    "    \n",
    "    # Create new ranks by joining these contributions to the vertices.\n",
    "    new_ranks = flight_vertices.join(contribs, flight_vertices.id == contribs.dst, \"left\") \\\n",
    "                        .select(flight_vertices.id,\n",
    "                                F.coalesce(F.col(\"contrib\"), F.lit(0.0)).alias(\"new_rank\"))\n",
    "    \n",
    "    # Normalize the new ranks so that the sum of ranks equals 1.\n",
    "    total_rank = new_ranks.agg(F.sum(\"new_rank\")).first()[0]\n",
    "    new_ranks = new_ranks.withColumn(\"new_rank\", F.col(\"new_rank\") / total_rank)\n",
    "    \n",
    "    # Check convergence.\n",
    "    joined = ranks.join(new_ranks, \"id\")\n",
    "    diff = joined.withColumn(\"diff\", F.abs(F.col(\"rank\") - F.col(\"new_rank\")))\n",
    "    max_diff_value = diff.agg(F.max(\"diff\")).first()[0]\n",
    "    print(\"Iteration\", i, \"max change:\", max_diff_value)\n",
    "    \n",
    "    if max_diff_value < epsilon:\n",
    "        break\n",
    "    \n",
    "    # Update the ranks for the next iteration.\n",
    "    ranks = new_ranks.withColumnRenamed(\"new_rank\", \"rank\")\n",
    "\n",
    "# Display the computed eigenvector centrality scores.\n",
    "print(\"Eigenvector Centrality Scores:\")\n",
    "ranks.orderBy(F.col(\"rank\").desc()).show(10)\n"
   ]
  },
  {
   "cell_type": "markdown",
   "metadata": {},
   "source": [
    "### Query 4 –  Implement the PageRank algorithm natively on Spark using Graphframes"
   ]
  },
  {
   "cell_type": "code",
   "execution_count": 17,
   "metadata": {},
   "outputs": [
    {
     "name": "stdout",
     "output_type": "stream",
     "text": [
      "Iteration 0 max change: 37.871000762263726\n",
      "Iteration 1 max change: 26.092607763304223\n",
      "Iteration 2 max change: 9.466411593974177\n",
      "Iteration 3 max change: 4.944223546565226\n",
      "Iteration 4 max change: 2.2046881070030047\n",
      "Iteration 5 max change: 0.998699902937723\n",
      "Iteration 6 max change: 0.51081928935427\n",
      "Iteration 7 max change: 0.19801791533111057\n",
      "Iteration 8 max change: 0.12155779308112358\n",
      "Iteration 9 max change: 0.03591800430051251\n",
      "PageRank Scores:\n",
      "+---+------------------+\n",
      "| id|              rank|\n",
      "+---+------------------+\n",
      "|ATL| 18.90501041323751|\n",
      "|ORD|12.927110422702702|\n",
      "|DFW|11.735613068886071|\n",
      "|DEN| 9.998483451764905|\n",
      "|LAX| 7.726101869875372|\n",
      "|IAH| 7.159305038124591|\n",
      "|PHX| 7.065371562599747|\n",
      "|SLC| 7.038754134167395|\n",
      "|DTW| 7.019968536748612|\n",
      "|SFO| 5.904248175402509|\n",
      "+---+------------------+\n",
      "only showing top 10 rows\n",
      "\n"
     ]
    }
   ],
   "source": [
    "damping = 0.85\n",
    "max_iter = 10\n",
    "epsilon = 1e-4\n",
    "\n",
    "# Pre-compute out-degrees for normalization.\n",
    "out_degrees = flight_edges.groupBy(\"src\").agg(F.count(\"dst\").alias(\"out_degree\"))\n",
    "\n",
    "# Initialize PageRank values.\n",
    "pranks = flight_vertices.select(\"id\").withColumn(\"rank\", F.lit(1.0))\n",
    "\n",
    "for i in range(max_iter):\n",
    "    # Calculate contributions from each vertex to its neighbors.\n",
    "    edge_contribs = (flight_edges\n",
    "                     .join(pranks, flight_edges.src == pranks.id)\n",
    "                     .join(out_degrees, flight_edges.src == out_degrees.src)\n",
    "                     .select(flight_edges.dst,\n",
    "                             (F.col(\"rank\") / F.col(\"out_degree\")).alias(\"contrib\")))\n",
    "    \n",
    "    # Sum contributions by destination vertex.\n",
    "    summed_contribs = edge_contribs.groupBy(\"dst\") \\\n",
    "                                   .agg(F.sum(\"contrib\").alias(\"total_contrib\"))\n",
    "    \n",
    "    # Apply the PageRank update rule.\n",
    "    new_pranks = (flight_vertices\n",
    "                  .join(summed_contribs, flight_vertices.id == summed_contribs.dst, \"left\")\n",
    "                  .select(flight_vertices.id,\n",
    "                          ((1 - damping) + damping * F.coalesce(F.col(\"total_contrib\"), F.lit(0.0)))\n",
    "                           .alias(\"new_rank\")))\n",
    "    \n",
    "    # Check convergence.\n",
    "    joined_ranks = pranks.join(new_pranks, \"id\")\n",
    "    diff = joined_ranks.withColumn(\"diff\", F.abs(F.col(\"rank\") - F.col(\"new_rank\")))\n",
    "    max_diff_value = diff.agg(F.max(\"diff\")).first()[0]\n",
    "    print(\"Iteration\", i, \"max change:\", max_diff_value)\n",
    "    \n",
    "    if max_diff_value < epsilon:\n",
    "        break\n",
    "        \n",
    "    pranks = new_pranks.withColumnRenamed(\"new_rank\", \"rank\")\n",
    "\n",
    "print(\"PageRank Scores:\")\n",
    "pranks.orderBy(F.col(\"rank\").desc()).show(10)\n"
   ]
  },
  {
   "cell_type": "code",
   "execution_count": null,
   "metadata": {},
   "outputs": [],
   "source": [
    "# !!DO NOT RUN THIS CELL IT MIGHT CRASH SPARK SESSION\n",
    "#Let's verify the above results with inbuilt function pageRank \n",
    "#g_pagerank = flight_graph.pageRank(resetProbability=0.15, maxIter=10)\n",
    "#display(g_pagerank.vertices)\n",
    "#g_pagerank.vertices.orderBy('pagerank', ascending=False).show(10)"
   ]
  },
  {
   "cell_type": "markdown",
   "metadata": {},
   "source": [
    "### Query 5 – Finding the Group of the Most Connected Airports"
   ]
  },
  {
   "cell_type": "code",
   "execution_count": 17,
   "metadata": {},
   "outputs": [
    {
     "name": "stdout",
     "output_type": "stream",
     "text": [
      "Undirected edges sample:\n",
      "+---+---+\n",
      "|src|dst|\n",
      "+---+---+\n",
      "|EWR|ATL|\n",
      "|IAH|CVG|\n",
      "|OKC|IAH|\n",
      "|PIT|EWR|\n",
      "|IAH|BHM|\n",
      "+---+---+\n",
      "only showing top 5 rows\n",
      "\n"
     ]
    }
   ],
   "source": [
    "# Create an Undirected Edges DataFrame \n",
    "# For connectivity, treat the graph as undirected by unioning edges with their reverse.\n",
    "undirected_edges = (flight_edges.select(\"src\", \"dst\")\n",
    "                    .union(flight_edges.select(F.col(\"dst\").alias(\"src\"), F.col(\"src\").alias(\"dst\")))\n",
    "                    .dropDuplicates())\n",
    "\n",
    "print(\"Undirected edges sample:\")\n",
    "undirected_edges.show(5)"
   ]
  },
  {
   "cell_type": "code",
   "execution_count": 18,
   "metadata": {},
   "outputs": [
    {
     "name": "stdout",
     "output_type": "stream",
     "text": [
      "Initial vertices with component labels:\n",
      "+---+---------+\n",
      "| id|component|\n",
      "+---+---------+\n",
      "|GRR|      GRR|\n",
      "|MFE|      MFE|\n",
      "|DAL|      DAL|\n",
      "|ICT|      ICT|\n",
      "|AVL|      AVL|\n",
      "+---+---------+\n",
      "only showing top 5 rows\n",
      "\n"
     ]
    }
   ],
   "source": [
    "# Initialize Vertices with Component Labels\n",
    "# Initially, each vertex is its own component.\n",
    "vertices_df = flight_vertices.withColumn(\"component\", F.col(\"id\"))\n",
    "\n",
    "print(\"Initial vertices with component labels:\")\n",
    "vertices_df.show(5)\n"
   ]
  },
  {
   "cell_type": "code",
   "execution_count": 19,
   "metadata": {},
   "outputs": [
    {
     "name": "stdout",
     "output_type": "stream",
     "text": [
      "Iteration 0 number of component updates: 246\n",
      "Iteration 1 number of component updates: 283\n",
      "Iteration 2 number of component updates: 96\n",
      "Iteration 3 number of component updates: 4\n",
      "Iteration 4 number of component updates: 0\n",
      "Final vertices with computed connected component labels (using custom union-find):\n",
      "+---+---------+\n",
      "|id |component|\n",
      "+---+---------+\n",
      "|CLE|ABE      |\n",
      "|MAF|ABE      |\n",
      "|ORD|ABE      |\n",
      "|DTW|ABE      |\n",
      "|DCA|ABE      |\n",
      "|LGA|ABE      |\n",
      "|IAH|ABE      |\n",
      "|DAY|ABE      |\n",
      "|ATL|ABE      |\n",
      "|PNS|ABE      |\n",
      "|COS|ABE      |\n",
      "|SDF|ABE      |\n",
      "|LFT|ABE      |\n",
      "|ROC|ABE      |\n",
      "|LIT|ABE      |\n",
      "|COD|ABE      |\n",
      "|DFW|ABE      |\n",
      "|GCC|ABE      |\n",
      "|OMA|ABE      |\n",
      "|KOA|ABE      |\n",
      "+---+---------+\n",
      "only showing top 20 rows\n",
      "\n"
     ]
    }
   ],
   "source": [
    "# Iterative Union-Find (Label Propagation)\n",
    "max_iter = 10  \n",
    "iteration = 0\n",
    "converged = False\n",
    "\n",
    "while not converged and iteration < max_iter:\n",
    "    # For each vertex, get the minimum component label among its neighbors.\n",
    "    # Join undirected_edges with vertices_df so we can retrieve neighbor's current component.\n",
    "    neighbor_components = undirected_edges.join(\n",
    "        vertices_df, undirected_edges.dst == vertices_df.id, \"left\"\n",
    "    ).groupBy(\"src\") \\\n",
    "     .agg(F.min(\"component\").alias(\"min_neighbor_component\"))\n",
    "    \n",
    "    # Now, for each vertex, update its component to the minimum of its current value and the minimum found among neighbors.\n",
    "    updated_vertices = vertices_df.join(\n",
    "        neighbor_components, vertices_df.id == neighbor_components.src, \"left\"\n",
    "    ).withColumn(\n",
    "        \"new_component\",\n",
    "        F.when(F.col(\"min_neighbor_component\").isNotNull(),\n",
    "               F.least(F.col(\"component\"), F.col(\"min_neighbor_component\"))\n",
    "              ).otherwise(F.col(\"component\"))\n",
    "    ).select(\"id\", \"new_component\")\n",
    "    \n",
    "    # Check for convergence: count how many vertices change their component label.\n",
    "    diff_count = updated_vertices.filter(F.col(\"new_component\") != vertices_df.component).count()\n",
    "    print(\"Iteration\", iteration, \"number of component updates:\", diff_count)\n",
    "    \n",
    "    if diff_count == 0:\n",
    "        converged = True\n",
    "    else:\n",
    "        # Prepare for next iteration: rename new_component to component.\n",
    "        vertices_df = updated_vertices.withColumnRenamed(\"new_component\", \"component\")\n",
    "        iteration += 1\n",
    "\n",
    "# Show the Connected Components\n",
    "\n",
    "print(\"Final vertices with computed connected component labels (using custom union-find):\")\n",
    "vertices_df.orderBy(\"component\").show(20, truncate=False)\n"
   ]
  },
  {
   "cell_type": "code",
   "execution_count": 20,
   "metadata": {},
   "outputs": [
    {
     "name": "stdout",
     "output_type": "stream",
     "text": [
      "Connected component groups:\n",
      "+---------+-----+\n",
      "|component|count|\n",
      "+---------+-----+\n",
      "|ABE      |296  |\n",
      "+---------+-----+\n",
      "\n"
     ]
    }
   ],
   "source": [
    "# Group vertices by component and count the number of vertices in each component.\n",
    "components_group = vertices_df.groupBy(\"component\").count().orderBy(\"count\", ascending=False)\n",
    "print(\"Connected component groups:\")\n",
    "components_group.show(truncate=False)"
   ]
  },
  {
   "cell_type": "code",
   "execution_count": null,
   "metadata": {},
   "outputs": [],
   "source": []
  }
 ],
 "metadata": {
  "kernelspec": {
   "display_name": "Python 3 (ipykernel)",
   "language": "python",
   "name": "python3"
  },
  "language_info": {
   "codemirror_mode": {
    "name": "ipython",
    "version": 3
   },
   "file_extension": ".py",
   "mimetype": "text/x-python",
   "name": "python",
   "nbconvert_exporter": "python",
   "pygments_lexer": "ipython3",
   "version": "3.11.10"
  }
 },
 "nbformat": 4,
 "nbformat_minor": 4
}
