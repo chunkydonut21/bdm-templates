{
 "cells": [
  {
   "cell_type": "code",
   "execution_count": 8,
   "id": "41baebb0-8ae6-462a-81ea-d794b4f6f23d",
   "metadata": {
    "collapsed": true,
    "jupyter": {
     "outputs_hidden": true
    }
   },
   "outputs": [
    {
     "name": "stdout",
     "output_type": "stream",
     "text": [
      "Collecting graphframes\n",
      "  Downloading graphframes-0.6-py2.py3-none-any.whl.metadata (934 bytes)\n",
      "Requirement already satisfied: numpy in /opt/conda/lib/python3.11/site-packages (from graphframes) (1.26.4)\n",
      "Collecting nose (from graphframes)\n",
      "  Downloading nose-1.3.7-py3-none-any.whl.metadata (1.7 kB)\n",
      "Downloading graphframes-0.6-py2.py3-none-any.whl (18 kB)\n",
      "Downloading nose-1.3.7-py3-none-any.whl (154 kB)\n",
      "Installing collected packages: nose, graphframes\n",
      "Successfully installed graphframes-0.6 nose-1.3.7\n"
     ]
    }
   ],
   "source": [
    "!pip3 install graphframes"
   ]
  },
  {
   "cell_type": "code",
   "execution_count": 3,
   "id": "75a2bfd4-9462-455e-9513-0ff9c9549866",
   "metadata": {},
   "outputs": [],
   "source": [
    "from pyspark.sql.types import StructType, StructField, StringType, IntegerType, TimestampType\n",
    "from pyspark.sql import SparkSession\n",
    "from delta import *\n",
    "\n",
    "import pyspark.sql.functions as F\n",
    "import os\n",
    "import time"
   ]
  },
  {
   "cell_type": "markdown",
   "id": "e837059c-6bf5-4432-a42d-1dfcac9a0f61",
   "metadata": {},
   "source": [
    "## Spark Session"
   ]
  },
  {
   "cell_type": "code",
   "execution_count": 5,
   "id": "12fefb3f-d891-4ade-935d-054cb9712651",
   "metadata": {},
   "outputs": [],
   "source": [
    "# Create SparkSession with Delta Lake support\n",
    "# Prepare the Spark builder\n",
    "builder = SparkSession.builder.appName(\"project_3\") \\\n",
    "    .config(\"spark.sql.extensions\", \"io.delta.sql.DeltaSparkSessionExtension\") \\\n",
    "    .config(\"spark.sql.catalog.spark_catalog\", \"org.apache.spark.sql.delta.catalog.DeltaCatalog\")\n",
    "\n",
    "spark = configure_spark_with_delta_pip(builder,extra_packages=[\"graphframes:graphframes:0.8.4-spark3.5-s_2.12\"]).getOrCreate()\n",
    "spark.conf.set(\"spark.sql.shuffle.partitions\", spark._sc.defaultParallelism)\n",
    "\n",
    "spark.conf.set(\"spark.sql.repl.eagerEval.enabled\",True) # OK for exploration, not great for performance\n",
    "spark.conf.set(\"spark.sql.repl.eagerEval.truncate\", 500)\n",
    "\n",
    "import graphframes as gf\n"
   ]
  },
  {
   "cell_type": "markdown",
   "id": "257ef56f-97e4-4e9c-aac8-1a80eba7f012",
   "metadata": {},
   "source": [
    "## Dataset read"
   ]
  },
  {
   "cell_type": "code",
   "execution_count": 6,
   "id": "765e401d-e8e9-418d-955e-db3ed258048d",
   "metadata": {
    "scrolled": true
   },
   "outputs": [
    {
     "data": {
      "text/html": [
       "<table border='1'>\n",
       "<tr><th>FL_DATE</th><th>OP_CARRIER</th><th>OP_CARRIER_FL_NUM</th><th>ORIGIN</th><th>DEST</th><th>CRS_DEP_TIME</th><th>DEP_TIME</th><th>DEP_DELAY</th><th>TAXI_OUT</th><th>WHEELS_OFF</th><th>WHEELS_ON</th><th>TAXI_IN</th><th>CRS_ARR_TIME</th><th>ARR_TIME</th><th>ARR_DELAY</th><th>CANCELLED</th><th>CANCELLATION_CODE</th><th>DIVERTED</th><th>CRS_ELAPSED_TIME</th><th>ACTUAL_ELAPSED_TIME</th><th>AIR_TIME</th><th>DISTANCE</th><th>CARRIER_DELAY</th><th>WEATHER_DELAY</th><th>NAS_DELAY</th><th>SECURITY_DELAY</th><th>LATE_AIRCRAFT_DELAY</th><th>Unnamed: 27</th></tr>\n",
       "<tr><td>2009-01-01</td><td>XE</td><td>1204</td><td>DCA</td><td>EWR</td><td>1100</td><td>1058.0</td><td>-2.0</td><td>18.0</td><td>1116.0</td><td>1158.0</td><td>8.0</td><td>1202</td><td>1206.0</td><td>4.0</td><td>0.0</td><td>NULL</td><td>0.0</td><td>62.0</td><td>68.0</td><td>42.0</td><td>199.0</td><td>NULL</td><td>NULL</td><td>NULL</td><td>NULL</td><td>NULL</td><td>NULL</td></tr>\n",
       "<tr><td>2009-01-01</td><td>XE</td><td>1206</td><td>EWR</td><td>IAD</td><td>1510</td><td>1509.0</td><td>-1.0</td><td>28.0</td><td>1537.0</td><td>1620.0</td><td>4.0</td><td>1632</td><td>1624.0</td><td>-8.0</td><td>0.0</td><td>NULL</td><td>0.0</td><td>82.0</td><td>75.0</td><td>43.0</td><td>213.0</td><td>NULL</td><td>NULL</td><td>NULL</td><td>NULL</td><td>NULL</td><td>NULL</td></tr>\n",
       "<tr><td>2009-01-01</td><td>XE</td><td>1207</td><td>EWR</td><td>DCA</td><td>1100</td><td>1059.0</td><td>-1.0</td><td>20.0</td><td>1119.0</td><td>1155.0</td><td>6.0</td><td>1210</td><td>1201.0</td><td>-9.0</td><td>0.0</td><td>NULL</td><td>0.0</td><td>70.0</td><td>62.0</td><td>36.0</td><td>199.0</td><td>NULL</td><td>NULL</td><td>NULL</td><td>NULL</td><td>NULL</td><td>NULL</td></tr>\n",
       "<tr><td>2009-01-01</td><td>XE</td><td>1208</td><td>DCA</td><td>EWR</td><td>1240</td><td>1249.0</td><td>9.0</td><td>10.0</td><td>1259.0</td><td>1336.0</td><td>9.0</td><td>1357</td><td>1345.0</td><td>-12.0</td><td>0.0</td><td>NULL</td><td>0.0</td><td>77.0</td><td>56.0</td><td>37.0</td><td>199.0</td><td>NULL</td><td>NULL</td><td>NULL</td><td>NULL</td><td>NULL</td><td>NULL</td></tr>\n",
       "<tr><td>2009-01-01</td><td>XE</td><td>1209</td><td>IAD</td><td>EWR</td><td>1715</td><td>1705.0</td><td>-10.0</td><td>24.0</td><td>1729.0</td><td>1809.0</td><td>13.0</td><td>1900</td><td>1822.0</td><td>-38.0</td><td>0.0</td><td>NULL</td><td>0.0</td><td>105.0</td><td>77.0</td><td>40.0</td><td>213.0</td><td>NULL</td><td>NULL</td><td>NULL</td><td>NULL</td><td>NULL</td><td>NULL</td></tr>\n",
       "<tr><td>2009-01-01</td><td>XE</td><td>1212</td><td>ATL</td><td>EWR</td><td>1915</td><td>1913.0</td><td>-2.0</td><td>19.0</td><td>1932.0</td><td>2108.0</td><td>15.0</td><td>2142</td><td>2123.0</td><td>-19.0</td><td>0.0</td><td>NULL</td><td>0.0</td><td>147.0</td><td>130.0</td><td>96.0</td><td>745.0</td><td>NULL</td><td>NULL</td><td>NULL</td><td>NULL</td><td>NULL</td><td>NULL</td></tr>\n",
       "<tr><td>2009-01-01</td><td>XE</td><td>1212</td><td>CLE</td><td>ATL</td><td>1645</td><td>1637.0</td><td>-8.0</td><td>12.0</td><td>1649.0</td><td>1820.0</td><td>5.0</td><td>1842</td><td>1825.0</td><td>-17.0</td><td>0.0</td><td>NULL</td><td>0.0</td><td>117.0</td><td>108.0</td><td>91.0</td><td>554.0</td><td>NULL</td><td>NULL</td><td>NULL</td><td>NULL</td><td>NULL</td><td>NULL</td></tr>\n",
       "<tr><td>2009-01-01</td><td>XE</td><td>1214</td><td>DCA</td><td>EWR</td><td>1915</td><td>1908.0</td><td>-7.0</td><td>9.0</td><td>1917.0</td><td>1953.0</td><td>34.0</td><td>2035</td><td>2027.0</td><td>-8.0</td><td>0.0</td><td>NULL</td><td>0.0</td><td>80.0</td><td>79.0</td><td>36.0</td><td>199.0</td><td>NULL</td><td>NULL</td><td>NULL</td><td>NULL</td><td>NULL</td><td>NULL</td></tr>\n",
       "<tr><td>2009-01-01</td><td>XE</td><td>1215</td><td>EWR</td><td>DCA</td><td>1715</td><td>1710.0</td><td>-5.0</td><td>28.0</td><td>1738.0</td><td>1819.0</td><td>4.0</td><td>1838</td><td>1823.0</td><td>-15.0</td><td>0.0</td><td>NULL</td><td>0.0</td><td>83.0</td><td>73.0</td><td>41.0</td><td>199.0</td><td>NULL</td><td>NULL</td><td>NULL</td><td>NULL</td><td>NULL</td><td>NULL</td></tr>\n",
       "<tr><td>2009-01-01</td><td>XE</td><td>1217</td><td>EWR</td><td>DCA</td><td>1300</td><td>1255.0</td><td>-5.0</td><td>15.0</td><td>1310.0</td><td>1349.0</td><td>7.0</td><td>1408</td><td>1356.0</td><td>-12.0</td><td>0.0</td><td>NULL</td><td>0.0</td><td>68.0</td><td>61.0</td><td>39.0</td><td>199.0</td><td>NULL</td><td>NULL</td><td>NULL</td><td>NULL</td><td>NULL</td><td>NULL</td></tr>\n",
       "<tr><td>2009-01-01</td><td>XE</td><td>1218</td><td>DCA</td><td>EWR</td><td>1500</td><td>1457.0</td><td>-3.0</td><td>14.0</td><td>1511.0</td><td>1552.0</td><td>7.0</td><td>1620</td><td>1559.0</td><td>-21.0</td><td>0.0</td><td>NULL</td><td>0.0</td><td>80.0</td><td>62.0</td><td>41.0</td><td>199.0</td><td>NULL</td><td>NULL</td><td>NULL</td><td>NULL</td><td>NULL</td><td>NULL</td></tr>\n",
       "<tr><td>2009-01-01</td><td>XE</td><td>1219</td><td>EWR</td><td>DCA</td><td>2135</td><td>2131.0</td><td>-4.0</td><td>21.0</td><td>2152.0</td><td>2232.0</td><td>3.0</td><td>2252</td><td>2235.0</td><td>-17.0</td><td>0.0</td><td>NULL</td><td>0.0</td><td>77.0</td><td>64.0</td><td>40.0</td><td>199.0</td><td>NULL</td><td>NULL</td><td>NULL</td><td>NULL</td><td>NULL</td><td>NULL</td></tr>\n",
       "<tr><td>2009-01-01</td><td>XE</td><td>1220</td><td>CLE</td><td>DCA</td><td>1905</td><td>1855.0</td><td>-10.0</td><td>10.0</td><td>1905.0</td><td>1956.0</td><td>5.0</td><td>2025</td><td>2001.0</td><td>-24.0</td><td>0.0</td><td>NULL</td><td>0.0</td><td>80.0</td><td>66.0</td><td>51.0</td><td>310.0</td><td>NULL</td><td>NULL</td><td>NULL</td><td>NULL</td><td>NULL</td><td>NULL</td></tr>\n",
       "<tr><td>2009-01-01</td><td>XE</td><td>1220</td><td>DCA</td><td>EWR</td><td>2100</td><td>2049.0</td><td>-11.0</td><td>10.0</td><td>2059.0</td><td>2133.0</td><td>10.0</td><td>2217</td><td>2143.0</td><td>-34.0</td><td>0.0</td><td>NULL</td><td>0.0</td><td>77.0</td><td>54.0</td><td>34.0</td><td>199.0</td><td>NULL</td><td>NULL</td><td>NULL</td><td>NULL</td><td>NULL</td><td>NULL</td></tr>\n",
       "<tr><td>2009-01-01</td><td>XE</td><td>1232</td><td>ORD</td><td>EWR</td><td>905</td><td>900.0</td><td>-5.0</td><td>16.0</td><td>916.0</td><td>1144.0</td><td>6.0</td><td>1212</td><td>1150.0</td><td>-22.0</td><td>0.0</td><td>NULL</td><td>0.0</td><td>127.0</td><td>110.0</td><td>88.0</td><td>719.0</td><td>NULL</td><td>NULL</td><td>NULL</td><td>NULL</td><td>NULL</td><td>NULL</td></tr>\n",
       "<tr><td>2009-01-01</td><td>XE</td><td>1233</td><td>EWR</td><td>ORD</td><td>1000</td><td>1035.0</td><td>35.0</td><td>14.0</td><td>1049.0</td><td>1156.0</td><td>10.0</td><td>1139</td><td>1206.0</td><td>27.0</td><td>0.0</td><td>NULL</td><td>0.0</td><td>159.0</td><td>151.0</td><td>127.0</td><td>719.0</td><td>0.0</td><td>27.0</td><td>0.0</td><td>0.0</td><td>0.0</td><td>NULL</td></tr>\n",
       "<tr><td>2009-01-01</td><td>XE</td><td>1234</td><td>ORD</td><td>EWR</td><td>1230</td><td>1234.0</td><td>4.0</td><td>8.0</td><td>1242.0</td><td>1511.0</td><td>14.0</td><td>1559</td><td>1525.0</td><td>-34.0</td><td>0.0</td><td>NULL</td><td>0.0</td><td>149.0</td><td>111.0</td><td>89.0</td><td>719.0</td><td>NULL</td><td>NULL</td><td>NULL</td><td>NULL</td><td>NULL</td><td>NULL</td></tr>\n",
       "<tr><td>2009-01-01</td><td>XE</td><td>1235</td><td>EWR</td><td>ORD</td><td>1343</td><td>1406.0</td><td>23.0</td><td>13.0</td><td>1419.0</td><td>1523.0</td><td>7.0</td><td>1523</td><td>1530.0</td><td>7.0</td><td>0.0</td><td>NULL</td><td>0.0</td><td>160.0</td><td>144.0</td><td>124.0</td><td>719.0</td><td>NULL</td><td>NULL</td><td>NULL</td><td>NULL</td><td>NULL</td><td>NULL</td></tr>\n",
       "<tr><td>2009-01-01</td><td>XE</td><td>1236</td><td>ORD</td><td>EWR</td><td>1630</td><td>1619.0</td><td>-11.0</td><td>19.0</td><td>1638.0</td><td>1906.0</td><td>35.0</td><td>2002</td><td>1941.0</td><td>-21.0</td><td>0.0</td><td>NULL</td><td>0.0</td><td>152.0</td><td>142.0</td><td>88.0</td><td>719.0</td><td>NULL</td><td>NULL</td><td>NULL</td><td>NULL</td><td>NULL</td><td>NULL</td></tr>\n",
       "<tr><td>2009-01-01</td><td>XE</td><td>1237</td><td>EWR</td><td>ORD</td><td>1930</td><td>1927.0</td><td>-3.0</td><td>16.0</td><td>1943.0</td><td>2049.0</td><td>8.0</td><td>2123</td><td>2057.0</td><td>-26.0</td><td>0.0</td><td>NULL</td><td>0.0</td><td>173.0</td><td>150.0</td><td>126.0</td><td>719.0</td><td>NULL</td><td>NULL</td><td>NULL</td><td>NULL</td><td>NULL</td><td>NULL</td></tr>\n",
       "</table>\n",
       "only showing top 20 rows\n"
      ],
      "text/plain": [
       "+----------+----------+-----------------+------+----+------------+--------+---------+--------+----------+---------+-------+------------+--------+---------+---------+-----------------+--------+----------------+-------------------+--------+--------+-------------+-------------+---------+--------------+-------------------+-----------+\n",
       "|   FL_DATE|OP_CARRIER|OP_CARRIER_FL_NUM|ORIGIN|DEST|CRS_DEP_TIME|DEP_TIME|DEP_DELAY|TAXI_OUT|WHEELS_OFF|WHEELS_ON|TAXI_IN|CRS_ARR_TIME|ARR_TIME|ARR_DELAY|CANCELLED|CANCELLATION_CODE|DIVERTED|CRS_ELAPSED_TIME|ACTUAL_ELAPSED_TIME|AIR_TIME|DISTANCE|CARRIER_DELAY|WEATHER_DELAY|NAS_DELAY|SECURITY_DELAY|LATE_AIRCRAFT_DELAY|Unnamed: 27|\n",
       "+----------+----------+-----------------+------+----+------------+--------+---------+--------+----------+---------+-------+------------+--------+---------+---------+-----------------+--------+----------------+-------------------+--------+--------+-------------+-------------+---------+--------------+-------------------+-----------+\n",
       "|2009-01-01|        XE|             1204|   DCA| EWR|        1100|  1058.0|     -2.0|    18.0|    1116.0|   1158.0|    8.0|        1202|  1206.0|      4.0|      0.0|             NULL|     0.0|            62.0|               68.0|    42.0|   199.0|         NULL|         NULL|     NULL|          NULL|               NULL|       NULL|\n",
       "|2009-01-01|        XE|             1206|   EWR| IAD|        1510|  1509.0|     -1.0|    28.0|    1537.0|   1620.0|    4.0|        1632|  1624.0|     -8.0|      0.0|             NULL|     0.0|            82.0|               75.0|    43.0|   213.0|         NULL|         NULL|     NULL|          NULL|               NULL|       NULL|\n",
       "|2009-01-01|        XE|             1207|   EWR| DCA|        1100|  1059.0|     -1.0|    20.0|    1119.0|   1155.0|    6.0|        1210|  1201.0|     -9.0|      0.0|             NULL|     0.0|            70.0|               62.0|    36.0|   199.0|         NULL|         NULL|     NULL|          NULL|               NULL|       NULL|\n",
       "|2009-01-01|        XE|             1208|   DCA| EWR|        1240|  1249.0|      9.0|    10.0|    1259.0|   1336.0|    9.0|        1357|  1345.0|    -12.0|      0.0|             NULL|     0.0|            77.0|               56.0|    37.0|   199.0|         NULL|         NULL|     NULL|          NULL|               NULL|       NULL|\n",
       "|2009-01-01|        XE|             1209|   IAD| EWR|        1715|  1705.0|    -10.0|    24.0|    1729.0|   1809.0|   13.0|        1900|  1822.0|    -38.0|      0.0|             NULL|     0.0|           105.0|               77.0|    40.0|   213.0|         NULL|         NULL|     NULL|          NULL|               NULL|       NULL|\n",
       "|2009-01-01|        XE|             1212|   ATL| EWR|        1915|  1913.0|     -2.0|    19.0|    1932.0|   2108.0|   15.0|        2142|  2123.0|    -19.0|      0.0|             NULL|     0.0|           147.0|              130.0|    96.0|   745.0|         NULL|         NULL|     NULL|          NULL|               NULL|       NULL|\n",
       "|2009-01-01|        XE|             1212|   CLE| ATL|        1645|  1637.0|     -8.0|    12.0|    1649.0|   1820.0|    5.0|        1842|  1825.0|    -17.0|      0.0|             NULL|     0.0|           117.0|              108.0|    91.0|   554.0|         NULL|         NULL|     NULL|          NULL|               NULL|       NULL|\n",
       "|2009-01-01|        XE|             1214|   DCA| EWR|        1915|  1908.0|     -7.0|     9.0|    1917.0|   1953.0|   34.0|        2035|  2027.0|     -8.0|      0.0|             NULL|     0.0|            80.0|               79.0|    36.0|   199.0|         NULL|         NULL|     NULL|          NULL|               NULL|       NULL|\n",
       "|2009-01-01|        XE|             1215|   EWR| DCA|        1715|  1710.0|     -5.0|    28.0|    1738.0|   1819.0|    4.0|        1838|  1823.0|    -15.0|      0.0|             NULL|     0.0|            83.0|               73.0|    41.0|   199.0|         NULL|         NULL|     NULL|          NULL|               NULL|       NULL|\n",
       "|2009-01-01|        XE|             1217|   EWR| DCA|        1300|  1255.0|     -5.0|    15.0|    1310.0|   1349.0|    7.0|        1408|  1356.0|    -12.0|      0.0|             NULL|     0.0|            68.0|               61.0|    39.0|   199.0|         NULL|         NULL|     NULL|          NULL|               NULL|       NULL|\n",
       "|2009-01-01|        XE|             1218|   DCA| EWR|        1500|  1457.0|     -3.0|    14.0|    1511.0|   1552.0|    7.0|        1620|  1559.0|    -21.0|      0.0|             NULL|     0.0|            80.0|               62.0|    41.0|   199.0|         NULL|         NULL|     NULL|          NULL|               NULL|       NULL|\n",
       "|2009-01-01|        XE|             1219|   EWR| DCA|        2135|  2131.0|     -4.0|    21.0|    2152.0|   2232.0|    3.0|        2252|  2235.0|    -17.0|      0.0|             NULL|     0.0|            77.0|               64.0|    40.0|   199.0|         NULL|         NULL|     NULL|          NULL|               NULL|       NULL|\n",
       "|2009-01-01|        XE|             1220|   CLE| DCA|        1905|  1855.0|    -10.0|    10.0|    1905.0|   1956.0|    5.0|        2025|  2001.0|    -24.0|      0.0|             NULL|     0.0|            80.0|               66.0|    51.0|   310.0|         NULL|         NULL|     NULL|          NULL|               NULL|       NULL|\n",
       "|2009-01-01|        XE|             1220|   DCA| EWR|        2100|  2049.0|    -11.0|    10.0|    2059.0|   2133.0|   10.0|        2217|  2143.0|    -34.0|      0.0|             NULL|     0.0|            77.0|               54.0|    34.0|   199.0|         NULL|         NULL|     NULL|          NULL|               NULL|       NULL|\n",
       "|2009-01-01|        XE|             1232|   ORD| EWR|         905|   900.0|     -5.0|    16.0|     916.0|   1144.0|    6.0|        1212|  1150.0|    -22.0|      0.0|             NULL|     0.0|           127.0|              110.0|    88.0|   719.0|         NULL|         NULL|     NULL|          NULL|               NULL|       NULL|\n",
       "|2009-01-01|        XE|             1233|   EWR| ORD|        1000|  1035.0|     35.0|    14.0|    1049.0|   1156.0|   10.0|        1139|  1206.0|     27.0|      0.0|             NULL|     0.0|           159.0|              151.0|   127.0|   719.0|          0.0|         27.0|      0.0|           0.0|                0.0|       NULL|\n",
       "|2009-01-01|        XE|             1234|   ORD| EWR|        1230|  1234.0|      4.0|     8.0|    1242.0|   1511.0|   14.0|        1559|  1525.0|    -34.0|      0.0|             NULL|     0.0|           149.0|              111.0|    89.0|   719.0|         NULL|         NULL|     NULL|          NULL|               NULL|       NULL|\n",
       "|2009-01-01|        XE|             1235|   EWR| ORD|        1343|  1406.0|     23.0|    13.0|    1419.0|   1523.0|    7.0|        1523|  1530.0|      7.0|      0.0|             NULL|     0.0|           160.0|              144.0|   124.0|   719.0|         NULL|         NULL|     NULL|          NULL|               NULL|       NULL|\n",
       "|2009-01-01|        XE|             1236|   ORD| EWR|        1630|  1619.0|    -11.0|    19.0|    1638.0|   1906.0|   35.0|        2002|  1941.0|    -21.0|      0.0|             NULL|     0.0|           152.0|              142.0|    88.0|   719.0|         NULL|         NULL|     NULL|          NULL|               NULL|       NULL|\n",
       "|2009-01-01|        XE|             1237|   EWR| ORD|        1930|  1927.0|     -3.0|    16.0|    1943.0|   2049.0|    8.0|        2123|  2057.0|    -26.0|      0.0|             NULL|     0.0|           173.0|              150.0|   126.0|   719.0|         NULL|         NULL|     NULL|          NULL|               NULL|       NULL|\n",
       "+----------+----------+-----------------+------+----+------------+--------+---------+--------+----------+---------+-------+------------+--------+---------+---------+-----------------+--------+----------------+-------------------+--------+--------+-------------+-------------+---------+--------------+-------------------+-----------+\n",
       "only showing top 20 rows"
      ]
     },
     "metadata": {},
     "output_type": "display_data"
    }
   ],
   "source": [
    "flight_df = spark.read.csv(\"data/2009.csv\", header=True, inferSchema=True)\n",
    "display(flight_df)"
   ]
  },
  {
   "cell_type": "code",
   "execution_count": 7,
   "id": "ff970fe7-bd02-4289-9398-4e54f9aea3c3",
   "metadata": {
    "scrolled": true
   },
   "outputs": [
    {
     "name": "stdout",
     "output_type": "stream",
     "text": [
      "root\n",
      " |-- FL_DATE: date (nullable = true)\n",
      " |-- OP_CARRIER: string (nullable = true)\n",
      " |-- OP_CARRIER_FL_NUM: integer (nullable = true)\n",
      " |-- ORIGIN: string (nullable = true)\n",
      " |-- DEST: string (nullable = true)\n",
      " |-- CRS_DEP_TIME: integer (nullable = true)\n",
      " |-- DEP_TIME: double (nullable = true)\n",
      " |-- DEP_DELAY: double (nullable = true)\n",
      " |-- TAXI_OUT: double (nullable = true)\n",
      " |-- WHEELS_OFF: double (nullable = true)\n",
      " |-- WHEELS_ON: double (nullable = true)\n",
      " |-- TAXI_IN: double (nullable = true)\n",
      " |-- CRS_ARR_TIME: integer (nullable = true)\n",
      " |-- ARR_TIME: double (nullable = true)\n",
      " |-- ARR_DELAY: double (nullable = true)\n",
      " |-- CANCELLED: double (nullable = true)\n",
      " |-- CANCELLATION_CODE: string (nullable = true)\n",
      " |-- DIVERTED: double (nullable = true)\n",
      " |-- CRS_ELAPSED_TIME: double (nullable = true)\n",
      " |-- ACTUAL_ELAPSED_TIME: double (nullable = true)\n",
      " |-- AIR_TIME: double (nullable = true)\n",
      " |-- DISTANCE: double (nullable = true)\n",
      " |-- CARRIER_DELAY: double (nullable = true)\n",
      " |-- WEATHER_DELAY: double (nullable = true)\n",
      " |-- NAS_DELAY: double (nullable = true)\n",
      " |-- SECURITY_DELAY: double (nullable = true)\n",
      " |-- LATE_AIRCRAFT_DELAY: double (nullable = true)\n",
      " |-- Unnamed: 27: string (nullable = true)\n",
      "\n"
     ]
    }
   ],
   "source": [
    "flight_df.printSchema()"
   ]
  },
  {
   "cell_type": "markdown",
   "id": "98d51989-f6eb-45a9-95e3-07744859eb6a",
   "metadata": {},
   "source": [
    "## Filtering data"
   ]
  },
  {
   "cell_type": "markdown",
   "id": "dd56a62e-53d7-4dbf-a267-691de75f3603",
   "metadata": {},
   "source": [
    "### Edges"
   ]
  },
  {
   "cell_type": "code",
   "execution_count": 8,
   "id": "deec58b4-a299-4e55-97a1-334393460f0d",
   "metadata": {
    "collapsed": true,
    "jupyter": {
     "outputs_hidden": true
    },
    "scrolled": true
   },
   "outputs": [
    {
     "data": {
      "text/html": [
       "<table border='1'>\n",
       "<tr><th>src</th><th>dst</th><th>FL_DATE</th><th>CANCELLED</th><th>ARR_TIME</th><th>DISTANCE</th></tr>\n",
       "<tr><td>DCA</td><td>EWR</td><td>2009-01-01</td><td>0.0</td><td>1206.0</td><td>199.0</td></tr>\n",
       "<tr><td>EWR</td><td>IAD</td><td>2009-01-01</td><td>0.0</td><td>1624.0</td><td>213.0</td></tr>\n",
       "<tr><td>EWR</td><td>DCA</td><td>2009-01-01</td><td>0.0</td><td>1201.0</td><td>199.0</td></tr>\n",
       "<tr><td>DCA</td><td>EWR</td><td>2009-01-01</td><td>0.0</td><td>1345.0</td><td>199.0</td></tr>\n",
       "<tr><td>IAD</td><td>EWR</td><td>2009-01-01</td><td>0.0</td><td>1822.0</td><td>213.0</td></tr>\n",
       "<tr><td>ATL</td><td>EWR</td><td>2009-01-01</td><td>0.0</td><td>2123.0</td><td>745.0</td></tr>\n",
       "<tr><td>CLE</td><td>ATL</td><td>2009-01-01</td><td>0.0</td><td>1825.0</td><td>554.0</td></tr>\n",
       "<tr><td>DCA</td><td>EWR</td><td>2009-01-01</td><td>0.0</td><td>2027.0</td><td>199.0</td></tr>\n",
       "<tr><td>EWR</td><td>DCA</td><td>2009-01-01</td><td>0.0</td><td>1823.0</td><td>199.0</td></tr>\n",
       "<tr><td>EWR</td><td>DCA</td><td>2009-01-01</td><td>0.0</td><td>1356.0</td><td>199.0</td></tr>\n",
       "<tr><td>DCA</td><td>EWR</td><td>2009-01-01</td><td>0.0</td><td>1559.0</td><td>199.0</td></tr>\n",
       "<tr><td>EWR</td><td>DCA</td><td>2009-01-01</td><td>0.0</td><td>2235.0</td><td>199.0</td></tr>\n",
       "<tr><td>CLE</td><td>DCA</td><td>2009-01-01</td><td>0.0</td><td>2001.0</td><td>310.0</td></tr>\n",
       "<tr><td>DCA</td><td>EWR</td><td>2009-01-01</td><td>0.0</td><td>2143.0</td><td>199.0</td></tr>\n",
       "<tr><td>ORD</td><td>EWR</td><td>2009-01-01</td><td>0.0</td><td>1150.0</td><td>719.0</td></tr>\n",
       "<tr><td>EWR</td><td>ORD</td><td>2009-01-01</td><td>0.0</td><td>1206.0</td><td>719.0</td></tr>\n",
       "<tr><td>ORD</td><td>EWR</td><td>2009-01-01</td><td>0.0</td><td>1525.0</td><td>719.0</td></tr>\n",
       "<tr><td>EWR</td><td>ORD</td><td>2009-01-01</td><td>0.0</td><td>1530.0</td><td>719.0</td></tr>\n",
       "<tr><td>ORD</td><td>EWR</td><td>2009-01-01</td><td>0.0</td><td>1941.0</td><td>719.0</td></tr>\n",
       "<tr><td>EWR</td><td>ORD</td><td>2009-01-01</td><td>0.0</td><td>2057.0</td><td>719.0</td></tr>\n",
       "</table>\n",
       "only showing top 20 rows\n"
      ],
      "text/plain": [
       "+---+---+----------+---------+--------+--------+\n",
       "|src|dst|   FL_DATE|CANCELLED|ARR_TIME|DISTANCE|\n",
       "+---+---+----------+---------+--------+--------+\n",
       "|DCA|EWR|2009-01-01|      0.0|  1206.0|   199.0|\n",
       "|EWR|IAD|2009-01-01|      0.0|  1624.0|   213.0|\n",
       "|EWR|DCA|2009-01-01|      0.0|  1201.0|   199.0|\n",
       "|DCA|EWR|2009-01-01|      0.0|  1345.0|   199.0|\n",
       "|IAD|EWR|2009-01-01|      0.0|  1822.0|   213.0|\n",
       "|ATL|EWR|2009-01-01|      0.0|  2123.0|   745.0|\n",
       "|CLE|ATL|2009-01-01|      0.0|  1825.0|   554.0|\n",
       "|DCA|EWR|2009-01-01|      0.0|  2027.0|   199.0|\n",
       "|EWR|DCA|2009-01-01|      0.0|  1823.0|   199.0|\n",
       "|EWR|DCA|2009-01-01|      0.0|  1356.0|   199.0|\n",
       "|DCA|EWR|2009-01-01|      0.0|  1559.0|   199.0|\n",
       "|EWR|DCA|2009-01-01|      0.0|  2235.0|   199.0|\n",
       "|CLE|DCA|2009-01-01|      0.0|  2001.0|   310.0|\n",
       "|DCA|EWR|2009-01-01|      0.0|  2143.0|   199.0|\n",
       "|ORD|EWR|2009-01-01|      0.0|  1150.0|   719.0|\n",
       "|EWR|ORD|2009-01-01|      0.0|  1206.0|   719.0|\n",
       "|ORD|EWR|2009-01-01|      0.0|  1525.0|   719.0|\n",
       "|EWR|ORD|2009-01-01|      0.0|  1530.0|   719.0|\n",
       "|ORD|EWR|2009-01-01|      0.0|  1941.0|   719.0|\n",
       "|EWR|ORD|2009-01-01|      0.0|  2057.0|   719.0|\n",
       "+---+---+----------+---------+--------+--------+\n",
       "only showing top 20 rows"
      ]
     },
     "metadata": {},
     "output_type": "display_data"
    }
   ],
   "source": [
    "flight_edgs_df = (flight_df\n",
    "    .filter(\n",
    "        F.column(\"ORIGIN\").isNotNull() & F.column(\"DEST\").isNotNull()\n",
    "    )\n",
    "    .select(\n",
    "        F.column(\"ORIGIN\").alias(\"src\"), \n",
    "        F.column(\"DEST\").alias(\"dst\"), \n",
    "        F.column(\"FL_DATE\"), \n",
    "        F.column(\"CANCELLED\"), \n",
    "        F.column(\"ARR_TIME\"), \n",
    "        F.column(\"DISTANCE\"), \n",
    "    )\n",
    ")\n",
    "display(flight_edgs_df)"
   ]
  },
  {
   "cell_type": "markdown",
   "id": "57fa5517-b8e2-4eef-bb48-6b26d66830ca",
   "metadata": {},
   "source": [
    "### Vertex"
   ]
  },
  {
   "cell_type": "code",
   "execution_count": 9,
   "id": "a7cfa8b1-7168-4bd0-bcac-6901d4c32259",
   "metadata": {
    "collapsed": true,
    "jupyter": {
     "outputs_hidden": true
    },
    "scrolled": true
   },
   "outputs": [
    {
     "data": {
      "text/html": [
       "<table border='1'>\n",
       "<tr><th>id</th></tr>\n",
       "<tr><td>JAN</td></tr>\n",
       "<tr><td>JAX</td></tr>\n",
       "<tr><td>ABQ</td></tr>\n",
       "<tr><td>ORF</td></tr>\n",
       "<tr><td>TUL</td></tr>\n",
       "<tr><td>STL</td></tr>\n",
       "<tr><td>GPT</td></tr>\n",
       "<tr><td>SYR</td></tr>\n",
       "<tr><td>CID</td></tr>\n",
       "<tr><td>FAT</td></tr>\n",
       "<tr><td>LAX</td></tr>\n",
       "<tr><td>PSP</td></tr>\n",
       "<tr><td>PWM</td></tr>\n",
       "<tr><td>RKS</td></tr>\n",
       "<tr><td>SAN</td></tr>\n",
       "<tr><td>SPI</td></tr>\n",
       "<tr><td>PSC</td></tr>\n",
       "<tr><td>SEA</td></tr>\n",
       "<tr><td>IYK</td></tr>\n",
       "<tr><td>HOU</td></tr>\n",
       "</table>\n",
       "only showing top 20 rows\n"
      ],
      "text/plain": [
       "+---+\n",
       "| id|\n",
       "+---+\n",
       "|JAN|\n",
       "|JAX|\n",
       "|ABQ|\n",
       "|ORF|\n",
       "|TUL|\n",
       "|STL|\n",
       "|GPT|\n",
       "|SYR|\n",
       "|CID|\n",
       "|FAT|\n",
       "|LAX|\n",
       "|PSP|\n",
       "|PWM|\n",
       "|RKS|\n",
       "|SAN|\n",
       "|SPI|\n",
       "|PSC|\n",
       "|SEA|\n",
       "|IYK|\n",
       "|HOU|\n",
       "+---+\n",
       "only showing top 20 rows"
      ]
     },
     "metadata": {},
     "output_type": "display_data"
    }
   ],
   "source": [
    "flight_vertex_df = (flight_df\n",
    "    .filter(\n",
    "        F.column(\"ORIGIN\").isNotNull() & F.column(\"DEST\").isNotNull()\n",
    "    )\n",
    "    .select(\n",
    "        F.column(\"ORIGIN\").alias(\"id\"),\n",
    "    )\n",
    "    .union(flight_df\n",
    "        .select(\n",
    "            F.column(\"DEST\").alias(\"id\"),\n",
    "        )\n",
    "    )\n",
    "    .distinct()\n",
    ")\n",
    "display(flight_vertex_df)"
   ]
  },
  {
   "cell_type": "code",
   "execution_count": 11,
   "id": "a5bbe80e-434d-42fc-b8c6-203d9cdcc330",
   "metadata": {
    "scrolled": true
   },
   "outputs": [
    {
     "data": {
      "text/plain": [
       "GraphFrame(v:[id: string], e:[src: string, dst: string ... 4 more fields])"
      ]
     },
     "metadata": {},
     "output_type": "display_data"
    }
   ],
   "source": [
    "flight_graph = gf.GraphFrame(flight_vertex_df, flight_edgs_df)\n",
    "flight_vertex_df.cache()\n",
    "flight_edgs_df.cache()\n",
    "\n",
    "display(flight_graph)"
   ]
  },
  {
   "cell_type": "code",
   "execution_count": 13,
   "id": "80dd2326-00dd-4540-84cb-8cbf2642f903",
   "metadata": {
    "scrolled": true
   },
   "outputs": [
    {
     "data": {
      "text/html": [
       "<table border='1'>\n",
       "<tr><th>id</th></tr>\n",
       "<tr><td>JAN</td></tr>\n",
       "<tr><td>JAX</td></tr>\n",
       "<tr><td>ABQ</td></tr>\n",
       "<tr><td>ORF</td></tr>\n",
       "<tr><td>TUL</td></tr>\n",
       "<tr><td>STL</td></tr>\n",
       "<tr><td>GPT</td></tr>\n",
       "<tr><td>SYR</td></tr>\n",
       "<tr><td>CID</td></tr>\n",
       "<tr><td>FAT</td></tr>\n",
       "<tr><td>LAX</td></tr>\n",
       "<tr><td>PSP</td></tr>\n",
       "<tr><td>PWM</td></tr>\n",
       "<tr><td>RKS</td></tr>\n",
       "<tr><td>SAN</td></tr>\n",
       "<tr><td>SPI</td></tr>\n",
       "<tr><td>PSC</td></tr>\n",
       "<tr><td>SEA</td></tr>\n",
       "<tr><td>IYK</td></tr>\n",
       "<tr><td>HOU</td></tr>\n",
       "</table>\n",
       "only showing top 20 rows\n"
      ],
      "text/plain": [
       "DataFrame[id: string]"
      ]
     },
     "metadata": {},
     "output_type": "display_data"
    }
   ],
   "source": [
    "display(flight_graph.vertices)"
   ]
  },
  {
   "cell_type": "code",
   "execution_count": 17,
   "id": "9bdefdbd-738c-4f65-85d2-31a65e740fb4",
   "metadata": {
    "scrolled": true
   },
   "outputs": [
    {
     "data": {
      "text/html": [
       "<table border='1'>\n",
       "<tr><th>src</th><th>dst</th><th>FL_DATE</th><th>CANCELLED</th><th>ARR_TIME</th><th>DISTANCE</th></tr>\n",
       "<tr><td>DCA</td><td>EWR</td><td>2009-01-01</td><td>0.0</td><td>1206.0</td><td>199.0</td></tr>\n",
       "<tr><td>EWR</td><td>IAD</td><td>2009-01-01</td><td>0.0</td><td>1624.0</td><td>213.0</td></tr>\n",
       "<tr><td>EWR</td><td>DCA</td><td>2009-01-01</td><td>0.0</td><td>1201.0</td><td>199.0</td></tr>\n",
       "<tr><td>DCA</td><td>EWR</td><td>2009-01-01</td><td>0.0</td><td>1345.0</td><td>199.0</td></tr>\n",
       "<tr><td>IAD</td><td>EWR</td><td>2009-01-01</td><td>0.0</td><td>1822.0</td><td>213.0</td></tr>\n",
       "<tr><td>ATL</td><td>EWR</td><td>2009-01-01</td><td>0.0</td><td>2123.0</td><td>745.0</td></tr>\n",
       "<tr><td>CLE</td><td>ATL</td><td>2009-01-01</td><td>0.0</td><td>1825.0</td><td>554.0</td></tr>\n",
       "<tr><td>DCA</td><td>EWR</td><td>2009-01-01</td><td>0.0</td><td>2027.0</td><td>199.0</td></tr>\n",
       "<tr><td>EWR</td><td>DCA</td><td>2009-01-01</td><td>0.0</td><td>1823.0</td><td>199.0</td></tr>\n",
       "<tr><td>EWR</td><td>DCA</td><td>2009-01-01</td><td>0.0</td><td>1356.0</td><td>199.0</td></tr>\n",
       "<tr><td>DCA</td><td>EWR</td><td>2009-01-01</td><td>0.0</td><td>1559.0</td><td>199.0</td></tr>\n",
       "<tr><td>EWR</td><td>DCA</td><td>2009-01-01</td><td>0.0</td><td>2235.0</td><td>199.0</td></tr>\n",
       "<tr><td>CLE</td><td>DCA</td><td>2009-01-01</td><td>0.0</td><td>2001.0</td><td>310.0</td></tr>\n",
       "<tr><td>DCA</td><td>EWR</td><td>2009-01-01</td><td>0.0</td><td>2143.0</td><td>199.0</td></tr>\n",
       "<tr><td>ORD</td><td>EWR</td><td>2009-01-01</td><td>0.0</td><td>1150.0</td><td>719.0</td></tr>\n",
       "<tr><td>EWR</td><td>ORD</td><td>2009-01-01</td><td>0.0</td><td>1206.0</td><td>719.0</td></tr>\n",
       "<tr><td>ORD</td><td>EWR</td><td>2009-01-01</td><td>0.0</td><td>1525.0</td><td>719.0</td></tr>\n",
       "<tr><td>EWR</td><td>ORD</td><td>2009-01-01</td><td>0.0</td><td>1530.0</td><td>719.0</td></tr>\n",
       "<tr><td>ORD</td><td>EWR</td><td>2009-01-01</td><td>0.0</td><td>1941.0</td><td>719.0</td></tr>\n",
       "<tr><td>EWR</td><td>ORD</td><td>2009-01-01</td><td>0.0</td><td>2057.0</td><td>719.0</td></tr>\n",
       "</table>\n",
       "only showing top 20 rows\n"
      ],
      "text/plain": [
       "DataFrame[src: string, dst: string, FL_DATE: date, CANCELLED: double, ARR_TIME: double, DISTANCE: double]"
      ]
     },
     "metadata": {},
     "output_type": "display_data"
    }
   ],
   "source": [
    "display(flight_graph.edges)"
   ]
  },
  {
   "cell_type": "markdown",
   "id": "4c8ab7f9-dce9-4765-bc5f-f8ac609a36e1",
   "metadata": {},
   "source": [
    "# QUERY 1"
   ]
  },
  {
   "cell_type": "markdown",
   "id": "7d859383-cb73-47e7-aa4d-63987b55c7f5",
   "metadata": {},
   "source": [
    "## Expected results"
   ]
  },
  {
   "cell_type": "code",
   "execution_count": 21,
   "id": "9020b51b-d231-456e-8a43-faf5a0f73ab6",
   "metadata": {
    "scrolled": true
   },
   "outputs": [],
   "source": [
    "expected_degrees_df = flight_graph.degrees\n",
    "expected_inDegrees_df = flight_graph.inDegrees\n",
    "expected_outDegrees_df = flight_graph.outDegrees\n",
    "expected_triplets_df = flight_graph.triplets"
   ]
  },
  {
   "cell_type": "code",
   "execution_count": 43,
   "id": "5c0a8765-0f7f-427e-8407-19477b2365cd",
   "metadata": {},
   "outputs": [],
   "source": [
    "# Taken from https://stackoverflow.com/questions/31197353/dataframe-equality-in-apache-spark\n",
    "def are_dfs_equal(df1, df2):\n",
    "    if df1.schema != df2.schema:\n",
    "        print(\"schema is not the same\")\n",
    "        return False\n",
    "    if df1.collect() != df2.collect():\n",
    "        print(\"data is not the same\")\n",
    "        return False\n",
    "    return True"
   ]
  },
  {
   "cell_type": "code",
   "execution_count": 67,
   "id": "443ff775-0c7d-4fc9-ad71-1d3260a5c7f8",
   "metadata": {
    "scrolled": true
   },
   "outputs": [
    {
     "data": {
      "text/html": [
       "<table border='1'>\n",
       "<tr><th>id</th><th>degree</th></tr>\n",
       "<tr><td>JAN</td><td>25058</td></tr>\n",
       "<tr><td>JAX</td><td>57623</td></tr>\n",
       "<tr><td>ABQ</td><td>71159</td></tr>\n",
       "<tr><td>ORF</td><td>30483</td></tr>\n",
       "<tr><td>TUL</td><td>41466</td></tr>\n",
       "<tr><td>GPT</td><td>13176</td></tr>\n",
       "<tr><td>STL</td><td>117393</td></tr>\n",
       "<tr><td>SYR</td><td>18666</td></tr>\n",
       "<tr><td>CID</td><td>18096</td></tr>\n",
       "<tr><td>RKS</td><td>3531</td></tr>\n",
       "<tr><td>FAT</td><td>24636</td></tr>\n",
       "<tr><td>PWM</td><td>13018</td></tr>\n",
       "<tr><td>SAN</td><td>165480</td></tr>\n",
       "<tr><td>LAX</td><td>385795</td></tr>\n",
       "<tr><td>PSP</td><td>22554</td></tr>\n",
       "<tr><td>SPI</td><td>2886</td></tr>\n",
       "<tr><td>PSC</td><td>5741</td></tr>\n",
       "<tr><td>SEA</td><td>201870</td></tr>\n",
       "<tr><td>IYK</td><td>1893</td></tr>\n",
       "<tr><td>HOU</td><td>105664</td></tr>\n",
       "</table>\n",
       "only showing top 20 rows\n"
      ],
      "text/plain": [
       "DataFrame[id: string, degree: int]"
      ]
     },
     "metadata": {},
     "output_type": "display_data"
    }
   ],
   "source": [
    "display(expected_triplets_df)"
   ]
  },
  {
   "cell_type": "markdown",
   "id": "ab444433-6567-484e-87e3-2fd979096823",
   "metadata": {},
   "source": [
    "## inDegrees"
   ]
  },
  {
   "cell_type": "code",
   "execution_count": 56,
   "id": "71a1b0cb-e0ec-4e36-aa0f-586487fe0404",
   "metadata": {
    "scrolled": true
   },
   "outputs": [
    {
     "data": {
      "text/html": [
       "<table border='1'>\n",
       "<tr><th>id</th><th>inDegree</th></tr>\n",
       "<tr><td>JAX</td><td>28813</td></tr>\n",
       "<tr><td>ABQ</td><td>35577</td></tr>\n",
       "<tr><td>ORF</td><td>15245</td></tr>\n",
       "<tr><td>JAN</td><td>12528</td></tr>\n",
       "<tr><td>TUL</td><td>20731</td></tr>\n",
       "<tr><td>GPT</td><td>6588</td></tr>\n",
       "<tr><td>STL</td><td>58691</td></tr>\n",
       "<tr><td>SYR</td><td>9330</td></tr>\n",
       "<tr><td>RKS</td><td>1764</td></tr>\n",
       "<tr><td>PWM</td><td>6510</td></tr>\n",
       "<tr><td>FAT</td><td>12317</td></tr>\n",
       "<tr><td>SAN</td><td>82733</td></tr>\n",
       "<tr><td>CID</td><td>9047</td></tr>\n",
       "<tr><td>LAX</td><td>192916</td></tr>\n",
       "<tr><td>PSP</td><td>11278</td></tr>\n",
       "<tr><td>PSC</td><td>2871</td></tr>\n",
       "<tr><td>SEA</td><td>100922</td></tr>\n",
       "<tr><td>IYK</td><td>947</td></tr>\n",
       "<tr><td>HOU</td><td>52832</td></tr>\n",
       "<tr><td>TLH</td><td>5805</td></tr>\n",
       "</table>\n",
       "only showing top 20 rows\n"
      ],
      "text/plain": [
       "+---+--------+\n",
       "| id|inDegree|\n",
       "+---+--------+\n",
       "|JAX|   28813|\n",
       "|ABQ|   35577|\n",
       "|ORF|   15245|\n",
       "|JAN|   12528|\n",
       "|TUL|   20731|\n",
       "|GPT|    6588|\n",
       "|STL|   58691|\n",
       "|SYR|    9330|\n",
       "|RKS|    1764|\n",
       "|PWM|    6510|\n",
       "|FAT|   12317|\n",
       "|SAN|   82733|\n",
       "|CID|    9047|\n",
       "|LAX|  192916|\n",
       "|PSP|   11278|\n",
       "|PSC|    2871|\n",
       "|SEA|  100922|\n",
       "|IYK|     947|\n",
       "|HOU|   52832|\n",
       "|TLH|    5805|\n",
       "+---+--------+\n",
       "only showing top 20 rows"
      ]
     },
     "metadata": {},
     "output_type": "display_data"
    }
   ],
   "source": [
    "in_edges_df = (flight_graph\n",
    "    .find(\"()-[edge]->(a)\")\n",
    "    .groupBy(\"a.id\")\n",
    "    .count()\n",
    "    .withColumn(\"inDegree\", F.col(\"count\").cast(IntegerType()))\n",
    "    .select(F.col(\"id\"), F.col(\"inDegree\"))\n",
    "\n",
    ")\n",
    "\n",
    "display(in_edges_df)"
   ]
  },
  {
   "cell_type": "code",
   "execution_count": 57,
   "id": "cff1acfe-d1a0-412d-93ac-90eed78f4752",
   "metadata": {},
   "outputs": [
    {
     "data": {
      "text/plain": [
       "True"
      ]
     },
     "execution_count": 57,
     "metadata": {},
     "output_type": "execute_result"
    }
   ],
   "source": [
    "are_dfs_equal(in_edges_df, expected_inDegrees_df)"
   ]
  },
  {
   "cell_type": "markdown",
   "id": "77433f87-698c-4b67-8956-15657d681b98",
   "metadata": {},
   "source": [
    "## outDegrees"
   ]
  },
  {
   "cell_type": "code",
   "execution_count": 52,
   "id": "2bf57ba8-6980-4090-89c8-d6689fd2f3f2",
   "metadata": {
    "scrolled": true
   },
   "outputs": [
    {
     "data": {
      "text/html": [
       "<table border='1'>\n",
       "<tr><th>id</th><th>outDegree</th></tr>\n",
       "<tr><td>JAN</td><td>12530</td></tr>\n",
       "<tr><td>JAX</td><td>28810</td></tr>\n",
       "<tr><td>ABQ</td><td>35582</td></tr>\n",
       "<tr><td>ORF</td><td>15238</td></tr>\n",
       "<tr><td>TUL</td><td>20735</td></tr>\n",
       "<tr><td>STL</td><td>58702</td></tr>\n",
       "<tr><td>GPT</td><td>6588</td></tr>\n",
       "<tr><td>SYR</td><td>9336</td></tr>\n",
       "<tr><td>CID</td><td>9049</td></tr>\n",
       "<tr><td>FAT</td><td>12319</td></tr>\n",
       "<tr><td>LAX</td><td>192879</td></tr>\n",
       "<tr><td>PSP</td><td>11276</td></tr>\n",
       "<tr><td>PWM</td><td>6508</td></tr>\n",
       "<tr><td>RKS</td><td>1767</td></tr>\n",
       "<tr><td>SAN</td><td>82747</td></tr>\n",
       "<tr><td>SPI</td><td>1442</td></tr>\n",
       "<tr><td>PSC</td><td>2870</td></tr>\n",
       "<tr><td>SEA</td><td>100948</td></tr>\n",
       "<tr><td>IYK</td><td>946</td></tr>\n",
       "<tr><td>HOU</td><td>52832</td></tr>\n",
       "</table>\n",
       "only showing top 20 rows\n"
      ],
      "text/plain": [
       "+---+---------+\n",
       "| id|outDegree|\n",
       "+---+---------+\n",
       "|JAN|    12530|\n",
       "|JAX|    28810|\n",
       "|ABQ|    35582|\n",
       "|ORF|    15238|\n",
       "|TUL|    20735|\n",
       "|STL|    58702|\n",
       "|GPT|     6588|\n",
       "|SYR|     9336|\n",
       "|CID|     9049|\n",
       "|FAT|    12319|\n",
       "|LAX|   192879|\n",
       "|PSP|    11276|\n",
       "|PWM|     6508|\n",
       "|RKS|     1767|\n",
       "|SAN|    82747|\n",
       "|SPI|     1442|\n",
       "|PSC|     2870|\n",
       "|SEA|   100948|\n",
       "|IYK|      946|\n",
       "|HOU|    52832|\n",
       "+---+---------+\n",
       "only showing top 20 rows"
      ]
     },
     "metadata": {},
     "output_type": "display_data"
    }
   ],
   "source": [
    "outgoing_edges_df = (flight_graph\n",
    "    .find(\"(a)-[edge]->()\")\n",
    "    .groupBy(\"a.id\")\n",
    "    .count()\n",
    "    .withColumn(\"outDegree\", F.col(\"count\").cast(IntegerType()))\n",
    "    .select(F.col(\"id\"), F.col(\"outDegree\"))\n",
    "\n",
    ")\n",
    "\n",
    "display(outgoing_edges_df)"
   ]
  },
  {
   "cell_type": "code",
   "execution_count": 53,
   "id": "998fdb66-3cb3-4809-8e3a-fe1720dc90f5",
   "metadata": {},
   "outputs": [
    {
     "data": {
      "text/plain": [
       "True"
      ]
     },
     "execution_count": 53,
     "metadata": {},
     "output_type": "execute_result"
    }
   ],
   "source": [
    "are_dfs_equal(outgoing_edges_df, expected_outDegrees_df)"
   ]
  },
  {
   "cell_type": "markdown",
   "id": "59a5e93e-5d84-4360-941c-dd7c6ac035bb",
   "metadata": {},
   "source": [
    "## Degrees"
   ]
  },
  {
   "cell_type": "code",
   "execution_count": 69,
   "id": "46b20e6c-121f-403d-bf40-42b9bdf9acd7",
   "metadata": {
    "scrolled": true
   },
   "outputs": [
    {
     "data": {
      "text/html": [
       "<table border='1'>\n",
       "<tr><th>id</th><th>degree</th></tr>\n",
       "<tr><td>JAX</td><td>57623</td></tr>\n",
       "<tr><td>ABQ</td><td>71159</td></tr>\n",
       "<tr><td>ORF</td><td>30483</td></tr>\n",
       "<tr><td>JAN</td><td>25058</td></tr>\n",
       "<tr><td>TUL</td><td>41466</td></tr>\n",
       "<tr><td>GPT</td><td>13176</td></tr>\n",
       "<tr><td>STL</td><td>117393</td></tr>\n",
       "<tr><td>SYR</td><td>18666</td></tr>\n",
       "<tr><td>RKS</td><td>3531</td></tr>\n",
       "<tr><td>PWM</td><td>13018</td></tr>\n",
       "<tr><td>FAT</td><td>24636</td></tr>\n",
       "<tr><td>SAN</td><td>165480</td></tr>\n",
       "<tr><td>CID</td><td>18096</td></tr>\n",
       "<tr><td>LAX</td><td>385795</td></tr>\n",
       "<tr><td>PSP</td><td>22554</td></tr>\n",
       "<tr><td>PSC</td><td>5741</td></tr>\n",
       "<tr><td>SEA</td><td>201870</td></tr>\n",
       "<tr><td>IYK</td><td>1893</td></tr>\n",
       "<tr><td>HOU</td><td>105664</td></tr>\n",
       "<tr><td>TLH</td><td>11611</td></tr>\n",
       "</table>\n",
       "only showing top 20 rows\n"
      ],
      "text/plain": [
       "+---+------+\n",
       "| id|degree|\n",
       "+---+------+\n",
       "|JAN| 25058|\n",
       "|JAX| 57623|\n",
       "|ABQ| 71159|\n",
       "|ORF| 30483|\n",
       "|TUL| 41466|\n",
       "|STL|117393|\n",
       "|GPT| 13176|\n",
       "|SYR| 18666|\n",
       "|CID| 18096|\n",
       "|FAT| 24636|\n",
       "|LAX|385795|\n",
       "|PSP| 22554|\n",
       "|PWM| 13018|\n",
       "|RKS|  3531|\n",
       "|SAN|165480|\n",
       "|SPI|  2886|\n",
       "|PSC|  5741|\n",
       "|SEA|201870|\n",
       "|IYK|  1893|\n",
       "|HOU|105664|\n",
       "+---+------+\n",
       "only showing top 20 rows"
      ]
     },
     "metadata": {},
     "output_type": "display_data"
    }
   ],
   "source": [
    "degrees_df = (outgoing_edges_df\n",
    "    .join(in_edges_df, \"id\")\n",
    "    .withColumn(\"degree\", F.col(\"outDegree\")+ F.col(\"inDegree\"))\n",
    "    .select(F.col(\"id\"), F.col(\"degree\"))\n",
    ")\n",
    "display(degrees_df)"
   ]
  },
  {
   "cell_type": "code",
   "execution_count": 80,
   "id": "a36d7313-f709-4793-8f19-46bf598565d4",
   "metadata": {},
   "outputs": [
    {
     "data": {
      "text/plain": [
       "(296, 296)"
      ]
     },
     "execution_count": 80,
     "metadata": {},
     "output_type": "execute_result"
    }
   ],
   "source": [
    "expected_degrees_df.count(), degrees_df.count()"
   ]
  },
  {
   "cell_type": "code",
   "execution_count": 85,
   "id": "9e73bfb1-f7bf-4c13-919e-eb4ca5fc627a",
   "metadata": {},
   "outputs": [
    {
     "data": {
      "text/html": [
       "<table border='1'>\n",
       "<tr><th>id</th><th>diff</th><th>expected_degree</th><th>degree</th></tr>\n",
       "</table>\n"
      ],
      "text/plain": [
       "+---+----+---------------+------+\n",
       "| id|diff|expected_degree|degree|\n",
       "+---+----+---------------+------+\n",
       "+---+----+---------------+------+"
      ]
     },
     "metadata": {},
     "output_type": "display_data"
    }
   ],
   "source": [
    "letsCheck_df = (expected_degrees_df\n",
    "    .withColumnRenamed(\"degree\", \"expected_degree\")\n",
    "    .join(degrees_df, \"id\")\n",
    "    .withColumn(\"diff\", F.col(\"expected_degree\") -  F.col(\"degree\"))\n",
    "    .filter(F.col(\"diff\")!= 0)\n",
    "    .select(F.col(\"id\"), F.col(\"diff\"), F.col(\"expected_degree\"), F.col(\"degree\"))\n",
    ")\n",
    "display(letsCheck_df)"
   ]
  },
  {
   "cell_type": "markdown",
   "id": "55b75944-553d-4249-b200-f3bf34c3d6d3",
   "metadata": {},
   "source": [
    "## Triples"
   ]
  },
  {
   "cell_type": "code",
   "execution_count": null,
   "id": "cff56e06-a4c4-430e-a97c-1271bb926f30",
   "metadata": {},
   "outputs": [],
   "source": []
  }
 ],
 "metadata": {
  "kernelspec": {
   "display_name": "Python 3 (ipykernel)",
   "language": "python",
   "name": "python3"
  },
  "language_info": {
   "codemirror_mode": {
    "name": "ipython",
    "version": 3
   },
   "file_extension": ".py",
   "mimetype": "text/x-python",
   "name": "python",
   "nbconvert_exporter": "python",
   "pygments_lexer": "ipython3",
   "version": "3.11.10"
  }
 },
 "nbformat": 4,
 "nbformat_minor": 5
}
