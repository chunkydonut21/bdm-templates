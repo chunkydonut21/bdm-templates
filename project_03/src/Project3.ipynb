{
 "cells": [
  {
   "cell_type": "code",
   "execution_count": 1,
   "id": "75a2bfd4-9462-455e-9513-0ff9c9549866",
   "metadata": {},
   "outputs": [],
   "source": [
    "from pyspark.sql.types import StructType, StructField, StringType, IntegerType, TimestampType\n",
    "from pyspark.sql import SparkSession\n",
    "from delta import *\n",
    "\n",
    "import pyspark.sql.functions as F\n",
    "import os\n",
    "import time"
   ]
  },
  {
   "cell_type": "markdown",
   "id": "e837059c-6bf5-4432-a42d-1dfcac9a0f61",
   "metadata": {},
   "source": [
    "## Spark Session"
   ]
  },
  {
   "cell_type": "code",
   "execution_count": 2,
   "id": "12fefb3f-d891-4ade-935d-054cb9712651",
   "metadata": {},
   "outputs": [],
   "source": [
    "# Create SparkSession with Delta Lake support\n",
    "# Prepare the Spark builder\n",
    "builder = SparkSession.builder.appName(\"project_3\") \\\n",
    "    .config(\"spark.sql.extensions\", \"io.delta.sql.DeltaSparkSessionExtension\") \\\n",
    "    .config(\"spark.sql.catalog.spark_catalog\", \"org.apache.spark.sql.delta.catalog.DeltaCatalog\") \\\n",
    "    .config(\"spark.executor.memory\", \"6gb\") \\\n",
    "    .config(\"spark.driver.memory\", \"12g\") \n",
    "\n",
    "spark = configure_spark_with_delta_pip(builder,extra_packages=[\"graphframes:graphframes:0.8.4-spark3.5-s_2.12\"]).getOrCreate()\n",
    "spark.conf.set(\"spark.sql.shuffle.partitions\", spark._sc.defaultParallelism)\n",
    "\n",
    "spark.conf.set(\"spark.sql.repl.eagerEval.enabled\",True) # OK for exploration, not great for performance\n",
    "spark.conf.set(\"spark.sql.repl.eagerEval.truncate\", 500)\n",
    "\n",
    "import graphframes as gf\n"
   ]
  },
  {
   "cell_type": "markdown",
   "id": "257ef56f-97e4-4e9c-aac8-1a80eba7f012",
   "metadata": {},
   "source": [
    "## Dataset read"
   ]
  },
  {
   "cell_type": "code",
   "execution_count": 3,
   "id": "765e401d-e8e9-418d-955e-db3ed258048d",
   "metadata": {
    "scrolled": true
   },
   "outputs": [
    {
     "data": {
      "text/html": [
       "<table border='1'>\n",
       "<tr><th>FL_DATE</th><th>OP_CARRIER</th><th>OP_CARRIER_FL_NUM</th><th>ORIGIN</th><th>DEST</th><th>CRS_DEP_TIME</th><th>DEP_TIME</th><th>DEP_DELAY</th><th>TAXI_OUT</th><th>WHEELS_OFF</th><th>WHEELS_ON</th><th>TAXI_IN</th><th>CRS_ARR_TIME</th><th>ARR_TIME</th><th>ARR_DELAY</th><th>CANCELLED</th><th>CANCELLATION_CODE</th><th>DIVERTED</th><th>CRS_ELAPSED_TIME</th><th>ACTUAL_ELAPSED_TIME</th><th>AIR_TIME</th><th>DISTANCE</th><th>CARRIER_DELAY</th><th>WEATHER_DELAY</th><th>NAS_DELAY</th><th>SECURITY_DELAY</th><th>LATE_AIRCRAFT_DELAY</th><th>Unnamed: 27</th></tr>\n",
       "<tr><td>2009-01-01</td><td>XE</td><td>1204</td><td>DCA</td><td>EWR</td><td>1100</td><td>1058.0</td><td>-2.0</td><td>18.0</td><td>1116.0</td><td>1158.0</td><td>8.0</td><td>1202</td><td>1206.0</td><td>4.0</td><td>0.0</td><td>NULL</td><td>0.0</td><td>62.0</td><td>68.0</td><td>42.0</td><td>199.0</td><td>NULL</td><td>NULL</td><td>NULL</td><td>NULL</td><td>NULL</td><td>NULL</td></tr>\n",
       "<tr><td>2009-01-01</td><td>XE</td><td>1206</td><td>EWR</td><td>IAD</td><td>1510</td><td>1509.0</td><td>-1.0</td><td>28.0</td><td>1537.0</td><td>1620.0</td><td>4.0</td><td>1632</td><td>1624.0</td><td>-8.0</td><td>0.0</td><td>NULL</td><td>0.0</td><td>82.0</td><td>75.0</td><td>43.0</td><td>213.0</td><td>NULL</td><td>NULL</td><td>NULL</td><td>NULL</td><td>NULL</td><td>NULL</td></tr>\n",
       "<tr><td>2009-01-01</td><td>XE</td><td>1207</td><td>EWR</td><td>DCA</td><td>1100</td><td>1059.0</td><td>-1.0</td><td>20.0</td><td>1119.0</td><td>1155.0</td><td>6.0</td><td>1210</td><td>1201.0</td><td>-9.0</td><td>0.0</td><td>NULL</td><td>0.0</td><td>70.0</td><td>62.0</td><td>36.0</td><td>199.0</td><td>NULL</td><td>NULL</td><td>NULL</td><td>NULL</td><td>NULL</td><td>NULL</td></tr>\n",
       "<tr><td>2009-01-01</td><td>XE</td><td>1208</td><td>DCA</td><td>EWR</td><td>1240</td><td>1249.0</td><td>9.0</td><td>10.0</td><td>1259.0</td><td>1336.0</td><td>9.0</td><td>1357</td><td>1345.0</td><td>-12.0</td><td>0.0</td><td>NULL</td><td>0.0</td><td>77.0</td><td>56.0</td><td>37.0</td><td>199.0</td><td>NULL</td><td>NULL</td><td>NULL</td><td>NULL</td><td>NULL</td><td>NULL</td></tr>\n",
       "<tr><td>2009-01-01</td><td>XE</td><td>1209</td><td>IAD</td><td>EWR</td><td>1715</td><td>1705.0</td><td>-10.0</td><td>24.0</td><td>1729.0</td><td>1809.0</td><td>13.0</td><td>1900</td><td>1822.0</td><td>-38.0</td><td>0.0</td><td>NULL</td><td>0.0</td><td>105.0</td><td>77.0</td><td>40.0</td><td>213.0</td><td>NULL</td><td>NULL</td><td>NULL</td><td>NULL</td><td>NULL</td><td>NULL</td></tr>\n",
       "<tr><td>2009-01-01</td><td>XE</td><td>1212</td><td>ATL</td><td>EWR</td><td>1915</td><td>1913.0</td><td>-2.0</td><td>19.0</td><td>1932.0</td><td>2108.0</td><td>15.0</td><td>2142</td><td>2123.0</td><td>-19.0</td><td>0.0</td><td>NULL</td><td>0.0</td><td>147.0</td><td>130.0</td><td>96.0</td><td>745.0</td><td>NULL</td><td>NULL</td><td>NULL</td><td>NULL</td><td>NULL</td><td>NULL</td></tr>\n",
       "<tr><td>2009-01-01</td><td>XE</td><td>1212</td><td>CLE</td><td>ATL</td><td>1645</td><td>1637.0</td><td>-8.0</td><td>12.0</td><td>1649.0</td><td>1820.0</td><td>5.0</td><td>1842</td><td>1825.0</td><td>-17.0</td><td>0.0</td><td>NULL</td><td>0.0</td><td>117.0</td><td>108.0</td><td>91.0</td><td>554.0</td><td>NULL</td><td>NULL</td><td>NULL</td><td>NULL</td><td>NULL</td><td>NULL</td></tr>\n",
       "<tr><td>2009-01-01</td><td>XE</td><td>1214</td><td>DCA</td><td>EWR</td><td>1915</td><td>1908.0</td><td>-7.0</td><td>9.0</td><td>1917.0</td><td>1953.0</td><td>34.0</td><td>2035</td><td>2027.0</td><td>-8.0</td><td>0.0</td><td>NULL</td><td>0.0</td><td>80.0</td><td>79.0</td><td>36.0</td><td>199.0</td><td>NULL</td><td>NULL</td><td>NULL</td><td>NULL</td><td>NULL</td><td>NULL</td></tr>\n",
       "<tr><td>2009-01-01</td><td>XE</td><td>1215</td><td>EWR</td><td>DCA</td><td>1715</td><td>1710.0</td><td>-5.0</td><td>28.0</td><td>1738.0</td><td>1819.0</td><td>4.0</td><td>1838</td><td>1823.0</td><td>-15.0</td><td>0.0</td><td>NULL</td><td>0.0</td><td>83.0</td><td>73.0</td><td>41.0</td><td>199.0</td><td>NULL</td><td>NULL</td><td>NULL</td><td>NULL</td><td>NULL</td><td>NULL</td></tr>\n",
       "<tr><td>2009-01-01</td><td>XE</td><td>1217</td><td>EWR</td><td>DCA</td><td>1300</td><td>1255.0</td><td>-5.0</td><td>15.0</td><td>1310.0</td><td>1349.0</td><td>7.0</td><td>1408</td><td>1356.0</td><td>-12.0</td><td>0.0</td><td>NULL</td><td>0.0</td><td>68.0</td><td>61.0</td><td>39.0</td><td>199.0</td><td>NULL</td><td>NULL</td><td>NULL</td><td>NULL</td><td>NULL</td><td>NULL</td></tr>\n",
       "<tr><td>2009-01-01</td><td>XE</td><td>1218</td><td>DCA</td><td>EWR</td><td>1500</td><td>1457.0</td><td>-3.0</td><td>14.0</td><td>1511.0</td><td>1552.0</td><td>7.0</td><td>1620</td><td>1559.0</td><td>-21.0</td><td>0.0</td><td>NULL</td><td>0.0</td><td>80.0</td><td>62.0</td><td>41.0</td><td>199.0</td><td>NULL</td><td>NULL</td><td>NULL</td><td>NULL</td><td>NULL</td><td>NULL</td></tr>\n",
       "<tr><td>2009-01-01</td><td>XE</td><td>1219</td><td>EWR</td><td>DCA</td><td>2135</td><td>2131.0</td><td>-4.0</td><td>21.0</td><td>2152.0</td><td>2232.0</td><td>3.0</td><td>2252</td><td>2235.0</td><td>-17.0</td><td>0.0</td><td>NULL</td><td>0.0</td><td>77.0</td><td>64.0</td><td>40.0</td><td>199.0</td><td>NULL</td><td>NULL</td><td>NULL</td><td>NULL</td><td>NULL</td><td>NULL</td></tr>\n",
       "<tr><td>2009-01-01</td><td>XE</td><td>1220</td><td>CLE</td><td>DCA</td><td>1905</td><td>1855.0</td><td>-10.0</td><td>10.0</td><td>1905.0</td><td>1956.0</td><td>5.0</td><td>2025</td><td>2001.0</td><td>-24.0</td><td>0.0</td><td>NULL</td><td>0.0</td><td>80.0</td><td>66.0</td><td>51.0</td><td>310.0</td><td>NULL</td><td>NULL</td><td>NULL</td><td>NULL</td><td>NULL</td><td>NULL</td></tr>\n",
       "<tr><td>2009-01-01</td><td>XE</td><td>1220</td><td>DCA</td><td>EWR</td><td>2100</td><td>2049.0</td><td>-11.0</td><td>10.0</td><td>2059.0</td><td>2133.0</td><td>10.0</td><td>2217</td><td>2143.0</td><td>-34.0</td><td>0.0</td><td>NULL</td><td>0.0</td><td>77.0</td><td>54.0</td><td>34.0</td><td>199.0</td><td>NULL</td><td>NULL</td><td>NULL</td><td>NULL</td><td>NULL</td><td>NULL</td></tr>\n",
       "<tr><td>2009-01-01</td><td>XE</td><td>1232</td><td>ORD</td><td>EWR</td><td>905</td><td>900.0</td><td>-5.0</td><td>16.0</td><td>916.0</td><td>1144.0</td><td>6.0</td><td>1212</td><td>1150.0</td><td>-22.0</td><td>0.0</td><td>NULL</td><td>0.0</td><td>127.0</td><td>110.0</td><td>88.0</td><td>719.0</td><td>NULL</td><td>NULL</td><td>NULL</td><td>NULL</td><td>NULL</td><td>NULL</td></tr>\n",
       "<tr><td>2009-01-01</td><td>XE</td><td>1233</td><td>EWR</td><td>ORD</td><td>1000</td><td>1035.0</td><td>35.0</td><td>14.0</td><td>1049.0</td><td>1156.0</td><td>10.0</td><td>1139</td><td>1206.0</td><td>27.0</td><td>0.0</td><td>NULL</td><td>0.0</td><td>159.0</td><td>151.0</td><td>127.0</td><td>719.0</td><td>0.0</td><td>27.0</td><td>0.0</td><td>0.0</td><td>0.0</td><td>NULL</td></tr>\n",
       "<tr><td>2009-01-01</td><td>XE</td><td>1234</td><td>ORD</td><td>EWR</td><td>1230</td><td>1234.0</td><td>4.0</td><td>8.0</td><td>1242.0</td><td>1511.0</td><td>14.0</td><td>1559</td><td>1525.0</td><td>-34.0</td><td>0.0</td><td>NULL</td><td>0.0</td><td>149.0</td><td>111.0</td><td>89.0</td><td>719.0</td><td>NULL</td><td>NULL</td><td>NULL</td><td>NULL</td><td>NULL</td><td>NULL</td></tr>\n",
       "<tr><td>2009-01-01</td><td>XE</td><td>1235</td><td>EWR</td><td>ORD</td><td>1343</td><td>1406.0</td><td>23.0</td><td>13.0</td><td>1419.0</td><td>1523.0</td><td>7.0</td><td>1523</td><td>1530.0</td><td>7.0</td><td>0.0</td><td>NULL</td><td>0.0</td><td>160.0</td><td>144.0</td><td>124.0</td><td>719.0</td><td>NULL</td><td>NULL</td><td>NULL</td><td>NULL</td><td>NULL</td><td>NULL</td></tr>\n",
       "<tr><td>2009-01-01</td><td>XE</td><td>1236</td><td>ORD</td><td>EWR</td><td>1630</td><td>1619.0</td><td>-11.0</td><td>19.0</td><td>1638.0</td><td>1906.0</td><td>35.0</td><td>2002</td><td>1941.0</td><td>-21.0</td><td>0.0</td><td>NULL</td><td>0.0</td><td>152.0</td><td>142.0</td><td>88.0</td><td>719.0</td><td>NULL</td><td>NULL</td><td>NULL</td><td>NULL</td><td>NULL</td><td>NULL</td></tr>\n",
       "<tr><td>2009-01-01</td><td>XE</td><td>1237</td><td>EWR</td><td>ORD</td><td>1930</td><td>1927.0</td><td>-3.0</td><td>16.0</td><td>1943.0</td><td>2049.0</td><td>8.0</td><td>2123</td><td>2057.0</td><td>-26.0</td><td>0.0</td><td>NULL</td><td>0.0</td><td>173.0</td><td>150.0</td><td>126.0</td><td>719.0</td><td>NULL</td><td>NULL</td><td>NULL</td><td>NULL</td><td>NULL</td><td>NULL</td></tr>\n",
       "</table>\n",
       "only showing top 20 rows\n"
      ],
      "text/plain": [
       "+----------+----------+-----------------+------+----+------------+--------+---------+--------+----------+---------+-------+------------+--------+---------+---------+-----------------+--------+----------------+-------------------+--------+--------+-------------+-------------+---------+--------------+-------------------+-----------+\n",
       "|   FL_DATE|OP_CARRIER|OP_CARRIER_FL_NUM|ORIGIN|DEST|CRS_DEP_TIME|DEP_TIME|DEP_DELAY|TAXI_OUT|WHEELS_OFF|WHEELS_ON|TAXI_IN|CRS_ARR_TIME|ARR_TIME|ARR_DELAY|CANCELLED|CANCELLATION_CODE|DIVERTED|CRS_ELAPSED_TIME|ACTUAL_ELAPSED_TIME|AIR_TIME|DISTANCE|CARRIER_DELAY|WEATHER_DELAY|NAS_DELAY|SECURITY_DELAY|LATE_AIRCRAFT_DELAY|Unnamed: 27|\n",
       "+----------+----------+-----------------+------+----+------------+--------+---------+--------+----------+---------+-------+------------+--------+---------+---------+-----------------+--------+----------------+-------------------+--------+--------+-------------+-------------+---------+--------------+-------------------+-----------+\n",
       "|2009-01-01|        XE|             1204|   DCA| EWR|        1100|  1058.0|     -2.0|    18.0|    1116.0|   1158.0|    8.0|        1202|  1206.0|      4.0|      0.0|             NULL|     0.0|            62.0|               68.0|    42.0|   199.0|         NULL|         NULL|     NULL|          NULL|               NULL|       NULL|\n",
       "|2009-01-01|        XE|             1206|   EWR| IAD|        1510|  1509.0|     -1.0|    28.0|    1537.0|   1620.0|    4.0|        1632|  1624.0|     -8.0|      0.0|             NULL|     0.0|            82.0|               75.0|    43.0|   213.0|         NULL|         NULL|     NULL|          NULL|               NULL|       NULL|\n",
       "|2009-01-01|        XE|             1207|   EWR| DCA|        1100|  1059.0|     -1.0|    20.0|    1119.0|   1155.0|    6.0|        1210|  1201.0|     -9.0|      0.0|             NULL|     0.0|            70.0|               62.0|    36.0|   199.0|         NULL|         NULL|     NULL|          NULL|               NULL|       NULL|\n",
       "|2009-01-01|        XE|             1208|   DCA| EWR|        1240|  1249.0|      9.0|    10.0|    1259.0|   1336.0|    9.0|        1357|  1345.0|    -12.0|      0.0|             NULL|     0.0|            77.0|               56.0|    37.0|   199.0|         NULL|         NULL|     NULL|          NULL|               NULL|       NULL|\n",
       "|2009-01-01|        XE|             1209|   IAD| EWR|        1715|  1705.0|    -10.0|    24.0|    1729.0|   1809.0|   13.0|        1900|  1822.0|    -38.0|      0.0|             NULL|     0.0|           105.0|               77.0|    40.0|   213.0|         NULL|         NULL|     NULL|          NULL|               NULL|       NULL|\n",
       "|2009-01-01|        XE|             1212|   ATL| EWR|        1915|  1913.0|     -2.0|    19.0|    1932.0|   2108.0|   15.0|        2142|  2123.0|    -19.0|      0.0|             NULL|     0.0|           147.0|              130.0|    96.0|   745.0|         NULL|         NULL|     NULL|          NULL|               NULL|       NULL|\n",
       "|2009-01-01|        XE|             1212|   CLE| ATL|        1645|  1637.0|     -8.0|    12.0|    1649.0|   1820.0|    5.0|        1842|  1825.0|    -17.0|      0.0|             NULL|     0.0|           117.0|              108.0|    91.0|   554.0|         NULL|         NULL|     NULL|          NULL|               NULL|       NULL|\n",
       "|2009-01-01|        XE|             1214|   DCA| EWR|        1915|  1908.0|     -7.0|     9.0|    1917.0|   1953.0|   34.0|        2035|  2027.0|     -8.0|      0.0|             NULL|     0.0|            80.0|               79.0|    36.0|   199.0|         NULL|         NULL|     NULL|          NULL|               NULL|       NULL|\n",
       "|2009-01-01|        XE|             1215|   EWR| DCA|        1715|  1710.0|     -5.0|    28.0|    1738.0|   1819.0|    4.0|        1838|  1823.0|    -15.0|      0.0|             NULL|     0.0|            83.0|               73.0|    41.0|   199.0|         NULL|         NULL|     NULL|          NULL|               NULL|       NULL|\n",
       "|2009-01-01|        XE|             1217|   EWR| DCA|        1300|  1255.0|     -5.0|    15.0|    1310.0|   1349.0|    7.0|        1408|  1356.0|    -12.0|      0.0|             NULL|     0.0|            68.0|               61.0|    39.0|   199.0|         NULL|         NULL|     NULL|          NULL|               NULL|       NULL|\n",
       "|2009-01-01|        XE|             1218|   DCA| EWR|        1500|  1457.0|     -3.0|    14.0|    1511.0|   1552.0|    7.0|        1620|  1559.0|    -21.0|      0.0|             NULL|     0.0|            80.0|               62.0|    41.0|   199.0|         NULL|         NULL|     NULL|          NULL|               NULL|       NULL|\n",
       "|2009-01-01|        XE|             1219|   EWR| DCA|        2135|  2131.0|     -4.0|    21.0|    2152.0|   2232.0|    3.0|        2252|  2235.0|    -17.0|      0.0|             NULL|     0.0|            77.0|               64.0|    40.0|   199.0|         NULL|         NULL|     NULL|          NULL|               NULL|       NULL|\n",
       "|2009-01-01|        XE|             1220|   CLE| DCA|        1905|  1855.0|    -10.0|    10.0|    1905.0|   1956.0|    5.0|        2025|  2001.0|    -24.0|      0.0|             NULL|     0.0|            80.0|               66.0|    51.0|   310.0|         NULL|         NULL|     NULL|          NULL|               NULL|       NULL|\n",
       "|2009-01-01|        XE|             1220|   DCA| EWR|        2100|  2049.0|    -11.0|    10.0|    2059.0|   2133.0|   10.0|        2217|  2143.0|    -34.0|      0.0|             NULL|     0.0|            77.0|               54.0|    34.0|   199.0|         NULL|         NULL|     NULL|          NULL|               NULL|       NULL|\n",
       "|2009-01-01|        XE|             1232|   ORD| EWR|         905|   900.0|     -5.0|    16.0|     916.0|   1144.0|    6.0|        1212|  1150.0|    -22.0|      0.0|             NULL|     0.0|           127.0|              110.0|    88.0|   719.0|         NULL|         NULL|     NULL|          NULL|               NULL|       NULL|\n",
       "|2009-01-01|        XE|             1233|   EWR| ORD|        1000|  1035.0|     35.0|    14.0|    1049.0|   1156.0|   10.0|        1139|  1206.0|     27.0|      0.0|             NULL|     0.0|           159.0|              151.0|   127.0|   719.0|          0.0|         27.0|      0.0|           0.0|                0.0|       NULL|\n",
       "|2009-01-01|        XE|             1234|   ORD| EWR|        1230|  1234.0|      4.0|     8.0|    1242.0|   1511.0|   14.0|        1559|  1525.0|    -34.0|      0.0|             NULL|     0.0|           149.0|              111.0|    89.0|   719.0|         NULL|         NULL|     NULL|          NULL|               NULL|       NULL|\n",
       "|2009-01-01|        XE|             1235|   EWR| ORD|        1343|  1406.0|     23.0|    13.0|    1419.0|   1523.0|    7.0|        1523|  1530.0|      7.0|      0.0|             NULL|     0.0|           160.0|              144.0|   124.0|   719.0|         NULL|         NULL|     NULL|          NULL|               NULL|       NULL|\n",
       "|2009-01-01|        XE|             1236|   ORD| EWR|        1630|  1619.0|    -11.0|    19.0|    1638.0|   1906.0|   35.0|        2002|  1941.0|    -21.0|      0.0|             NULL|     0.0|           152.0|              142.0|    88.0|   719.0|         NULL|         NULL|     NULL|          NULL|               NULL|       NULL|\n",
       "|2009-01-01|        XE|             1237|   EWR| ORD|        1930|  1927.0|     -3.0|    16.0|    1943.0|   2049.0|    8.0|        2123|  2057.0|    -26.0|      0.0|             NULL|     0.0|           173.0|              150.0|   126.0|   719.0|         NULL|         NULL|     NULL|          NULL|               NULL|       NULL|\n",
       "+----------+----------+-----------------+------+----+------------+--------+---------+--------+----------+---------+-------+------------+--------+---------+---------+-----------------+--------+----------------+-------------------+--------+--------+-------------+-------------+---------+--------------+-------------------+-----------+\n",
       "only showing top 20 rows"
      ]
     },
     "metadata": {},
     "output_type": "display_data"
    }
   ],
   "source": [
    "flight_df = spark.read.csv(\"data/2009.csv\", header=True, inferSchema=True)\n",
    "display(flight_df)"
   ]
  },
  {
   "cell_type": "code",
   "execution_count": 4,
   "id": "ff970fe7-bd02-4289-9398-4e54f9aea3c3",
   "metadata": {
    "scrolled": true
   },
   "outputs": [
    {
     "name": "stdout",
     "output_type": "stream",
     "text": [
      "root\n",
      " |-- FL_DATE: date (nullable = true)\n",
      " |-- OP_CARRIER: string (nullable = true)\n",
      " |-- OP_CARRIER_FL_NUM: integer (nullable = true)\n",
      " |-- ORIGIN: string (nullable = true)\n",
      " |-- DEST: string (nullable = true)\n",
      " |-- CRS_DEP_TIME: integer (nullable = true)\n",
      " |-- DEP_TIME: double (nullable = true)\n",
      " |-- DEP_DELAY: double (nullable = true)\n",
      " |-- TAXI_OUT: double (nullable = true)\n",
      " |-- WHEELS_OFF: double (nullable = true)\n",
      " |-- WHEELS_ON: double (nullable = true)\n",
      " |-- TAXI_IN: double (nullable = true)\n",
      " |-- CRS_ARR_TIME: integer (nullable = true)\n",
      " |-- ARR_TIME: double (nullable = true)\n",
      " |-- ARR_DELAY: double (nullable = true)\n",
      " |-- CANCELLED: double (nullable = true)\n",
      " |-- CANCELLATION_CODE: string (nullable = true)\n",
      " |-- DIVERTED: double (nullable = true)\n",
      " |-- CRS_ELAPSED_TIME: double (nullable = true)\n",
      " |-- ACTUAL_ELAPSED_TIME: double (nullable = true)\n",
      " |-- AIR_TIME: double (nullable = true)\n",
      " |-- DISTANCE: double (nullable = true)\n",
      " |-- CARRIER_DELAY: double (nullable = true)\n",
      " |-- WEATHER_DELAY: double (nullable = true)\n",
      " |-- NAS_DELAY: double (nullable = true)\n",
      " |-- SECURITY_DELAY: double (nullable = true)\n",
      " |-- LATE_AIRCRAFT_DELAY: double (nullable = true)\n",
      " |-- Unnamed: 27: string (nullable = true)\n",
      "\n"
     ]
    }
   ],
   "source": [
    "flight_df.printSchema()"
   ]
  },
  {
   "cell_type": "markdown",
   "id": "98d51989-f6eb-45a9-95e3-07744859eb6a",
   "metadata": {},
   "source": [
    "## Filtering data"
   ]
  },
  {
   "cell_type": "markdown",
   "id": "dd56a62e-53d7-4dbf-a267-691de75f3603",
   "metadata": {},
   "source": [
    "### Edges"
   ]
  },
  {
   "cell_type": "code",
   "execution_count": 5,
   "id": "deec58b4-a299-4e55-97a1-334393460f0d",
   "metadata": {
    "scrolled": true
   },
   "outputs": [
    {
     "data": {
      "text/html": [
       "<table border='1'>\n",
       "<tr><th>src</th><th>dst</th><th>FL_DATE</th><th>CANCELLED</th><th>ARR_TIME</th><th>DISTANCE</th></tr>\n",
       "<tr><td>DCA</td><td>EWR</td><td>2009-01-01</td><td>0.0</td><td>1206.0</td><td>199.0</td></tr>\n",
       "<tr><td>EWR</td><td>IAD</td><td>2009-01-01</td><td>0.0</td><td>1624.0</td><td>213.0</td></tr>\n",
       "<tr><td>EWR</td><td>DCA</td><td>2009-01-01</td><td>0.0</td><td>1201.0</td><td>199.0</td></tr>\n",
       "<tr><td>DCA</td><td>EWR</td><td>2009-01-01</td><td>0.0</td><td>1345.0</td><td>199.0</td></tr>\n",
       "<tr><td>IAD</td><td>EWR</td><td>2009-01-01</td><td>0.0</td><td>1822.0</td><td>213.0</td></tr>\n",
       "<tr><td>ATL</td><td>EWR</td><td>2009-01-01</td><td>0.0</td><td>2123.0</td><td>745.0</td></tr>\n",
       "<tr><td>CLE</td><td>ATL</td><td>2009-01-01</td><td>0.0</td><td>1825.0</td><td>554.0</td></tr>\n",
       "<tr><td>DCA</td><td>EWR</td><td>2009-01-01</td><td>0.0</td><td>2027.0</td><td>199.0</td></tr>\n",
       "<tr><td>EWR</td><td>DCA</td><td>2009-01-01</td><td>0.0</td><td>1823.0</td><td>199.0</td></tr>\n",
       "<tr><td>EWR</td><td>DCA</td><td>2009-01-01</td><td>0.0</td><td>1356.0</td><td>199.0</td></tr>\n",
       "<tr><td>DCA</td><td>EWR</td><td>2009-01-01</td><td>0.0</td><td>1559.0</td><td>199.0</td></tr>\n",
       "<tr><td>EWR</td><td>DCA</td><td>2009-01-01</td><td>0.0</td><td>2235.0</td><td>199.0</td></tr>\n",
       "<tr><td>CLE</td><td>DCA</td><td>2009-01-01</td><td>0.0</td><td>2001.0</td><td>310.0</td></tr>\n",
       "<tr><td>DCA</td><td>EWR</td><td>2009-01-01</td><td>0.0</td><td>2143.0</td><td>199.0</td></tr>\n",
       "<tr><td>ORD</td><td>EWR</td><td>2009-01-01</td><td>0.0</td><td>1150.0</td><td>719.0</td></tr>\n",
       "<tr><td>EWR</td><td>ORD</td><td>2009-01-01</td><td>0.0</td><td>1206.0</td><td>719.0</td></tr>\n",
       "<tr><td>ORD</td><td>EWR</td><td>2009-01-01</td><td>0.0</td><td>1525.0</td><td>719.0</td></tr>\n",
       "<tr><td>EWR</td><td>ORD</td><td>2009-01-01</td><td>0.0</td><td>1530.0</td><td>719.0</td></tr>\n",
       "<tr><td>ORD</td><td>EWR</td><td>2009-01-01</td><td>0.0</td><td>1941.0</td><td>719.0</td></tr>\n",
       "<tr><td>EWR</td><td>ORD</td><td>2009-01-01</td><td>0.0</td><td>2057.0</td><td>719.0</td></tr>\n",
       "</table>\n",
       "only showing top 20 rows\n"
      ],
      "text/plain": [
       "+---+---+----------+---------+--------+--------+\n",
       "|src|dst|   FL_DATE|CANCELLED|ARR_TIME|DISTANCE|\n",
       "+---+---+----------+---------+--------+--------+\n",
       "|DCA|EWR|2009-01-01|      0.0|  1206.0|   199.0|\n",
       "|EWR|IAD|2009-01-01|      0.0|  1624.0|   213.0|\n",
       "|EWR|DCA|2009-01-01|      0.0|  1201.0|   199.0|\n",
       "|DCA|EWR|2009-01-01|      0.0|  1345.0|   199.0|\n",
       "|IAD|EWR|2009-01-01|      0.0|  1822.0|   213.0|\n",
       "|ATL|EWR|2009-01-01|      0.0|  2123.0|   745.0|\n",
       "|CLE|ATL|2009-01-01|      0.0|  1825.0|   554.0|\n",
       "|DCA|EWR|2009-01-01|      0.0|  2027.0|   199.0|\n",
       "|EWR|DCA|2009-01-01|      0.0|  1823.0|   199.0|\n",
       "|EWR|DCA|2009-01-01|      0.0|  1356.0|   199.0|\n",
       "|DCA|EWR|2009-01-01|      0.0|  1559.0|   199.0|\n",
       "|EWR|DCA|2009-01-01|      0.0|  2235.0|   199.0|\n",
       "|CLE|DCA|2009-01-01|      0.0|  2001.0|   310.0|\n",
       "|DCA|EWR|2009-01-01|      0.0|  2143.0|   199.0|\n",
       "|ORD|EWR|2009-01-01|      0.0|  1150.0|   719.0|\n",
       "|EWR|ORD|2009-01-01|      0.0|  1206.0|   719.0|\n",
       "|ORD|EWR|2009-01-01|      0.0|  1525.0|   719.0|\n",
       "|EWR|ORD|2009-01-01|      0.0|  1530.0|   719.0|\n",
       "|ORD|EWR|2009-01-01|      0.0|  1941.0|   719.0|\n",
       "|EWR|ORD|2009-01-01|      0.0|  2057.0|   719.0|\n",
       "+---+---+----------+---------+--------+--------+\n",
       "only showing top 20 rows"
      ]
     },
     "metadata": {},
     "output_type": "display_data"
    }
   ],
   "source": [
    "flight_edgs_df = (flight_df\n",
    "    .filter(\n",
    "        F.column(\"ORIGIN\").isNotNull() & F.column(\"DEST\").isNotNull()\n",
    "    )\n",
    "    .select(\n",
    "        F.column(\"ORIGIN\").alias(\"src\"), \n",
    "        F.column(\"DEST\").alias(\"dst\"), \n",
    "        F.column(\"FL_DATE\"), \n",
    "        F.column(\"CANCELLED\"), \n",
    "        F.column(\"ARR_TIME\"), \n",
    "        F.column(\"DISTANCE\"), \n",
    "    )\n",
    ")\n",
    "display(flight_edgs_df)"
   ]
  },
  {
   "cell_type": "markdown",
   "id": "57fa5517-b8e2-4eef-bb48-6b26d66830ca",
   "metadata": {},
   "source": [
    "### Vertex"
   ]
  },
  {
   "cell_type": "code",
   "execution_count": 6,
   "id": "a7cfa8b1-7168-4bd0-bcac-6901d4c32259",
   "metadata": {
    "scrolled": true
   },
   "outputs": [
    {
     "data": {
      "text/html": [
       "<table border='1'>\n",
       "<tr><th>id</th></tr>\n",
       "<tr><td>JAN</td></tr>\n",
       "<tr><td>JAX</td></tr>\n",
       "<tr><td>ABQ</td></tr>\n",
       "<tr><td>ORF</td></tr>\n",
       "<tr><td>TUL</td></tr>\n",
       "<tr><td>STL</td></tr>\n",
       "<tr><td>GPT</td></tr>\n",
       "<tr><td>SYR</td></tr>\n",
       "<tr><td>CID</td></tr>\n",
       "<tr><td>FAT</td></tr>\n",
       "<tr><td>LAX</td></tr>\n",
       "<tr><td>PSP</td></tr>\n",
       "<tr><td>PWM</td></tr>\n",
       "<tr><td>RKS</td></tr>\n",
       "<tr><td>SAN</td></tr>\n",
       "<tr><td>SPI</td></tr>\n",
       "<tr><td>PSC</td></tr>\n",
       "<tr><td>SEA</td></tr>\n",
       "<tr><td>IYK</td></tr>\n",
       "<tr><td>HOU</td></tr>\n",
       "</table>\n",
       "only showing top 20 rows\n"
      ],
      "text/plain": [
       "+---+\n",
       "| id|\n",
       "+---+\n",
       "|JAN|\n",
       "|JAX|\n",
       "|ABQ|\n",
       "|ORF|\n",
       "|TUL|\n",
       "|STL|\n",
       "|GPT|\n",
       "|SYR|\n",
       "|CID|\n",
       "|FAT|\n",
       "|LAX|\n",
       "|PSP|\n",
       "|PWM|\n",
       "|RKS|\n",
       "|SAN|\n",
       "|SPI|\n",
       "|PSC|\n",
       "|SEA|\n",
       "|IYK|\n",
       "|HOU|\n",
       "+---+\n",
       "only showing top 20 rows"
      ]
     },
     "metadata": {},
     "output_type": "display_data"
    }
   ],
   "source": [
    "flight_vertex_df = (flight_df\n",
    "    .filter(\n",
    "        F.column(\"ORIGIN\").isNotNull() & F.column(\"DEST\").isNotNull()\n",
    "    )\n",
    "    .select(\n",
    "        F.column(\"ORIGIN\").alias(\"id\"),\n",
    "    )\n",
    "    .union(flight_df\n",
    "        .select(\n",
    "            F.column(\"DEST\").alias(\"id\"),\n",
    "        )\n",
    "    )\n",
    "    .distinct()\n",
    ")\n",
    "display(flight_vertex_df)"
   ]
  },
  {
   "cell_type": "code",
   "execution_count": 7,
   "id": "a5bbe80e-434d-42fc-b8c6-203d9cdcc330",
   "metadata": {
    "scrolled": true
   },
   "outputs": [
    {
     "data": {
      "text/plain": [
       "GraphFrame(v:[id: string], e:[src: string, dst: string ... 4 more fields])"
      ]
     },
     "metadata": {},
     "output_type": "display_data"
    }
   ],
   "source": [
    "flight_graph = gf.GraphFrame(flight_vertex_df, flight_edgs_df)\n",
    "flight_vertex_df.cache()\n",
    "flight_edgs_df.cache()\n",
    "\n",
    "display(flight_graph)"
   ]
  },
  {
   "cell_type": "code",
   "execution_count": 8,
   "id": "80dd2326-00dd-4540-84cb-8cbf2642f903",
   "metadata": {
    "scrolled": true
   },
   "outputs": [
    {
     "data": {
      "text/html": [
       "<table border='1'>\n",
       "<tr><th>id</th></tr>\n",
       "<tr><td>JAN</td></tr>\n",
       "<tr><td>JAX</td></tr>\n",
       "<tr><td>ABQ</td></tr>\n",
       "<tr><td>ORF</td></tr>\n",
       "<tr><td>TUL</td></tr>\n",
       "<tr><td>STL</td></tr>\n",
       "<tr><td>GPT</td></tr>\n",
       "<tr><td>SYR</td></tr>\n",
       "<tr><td>CID</td></tr>\n",
       "<tr><td>FAT</td></tr>\n",
       "<tr><td>LAX</td></tr>\n",
       "<tr><td>PSP</td></tr>\n",
       "<tr><td>PWM</td></tr>\n",
       "<tr><td>RKS</td></tr>\n",
       "<tr><td>SAN</td></tr>\n",
       "<tr><td>SPI</td></tr>\n",
       "<tr><td>PSC</td></tr>\n",
       "<tr><td>SEA</td></tr>\n",
       "<tr><td>IYK</td></tr>\n",
       "<tr><td>HOU</td></tr>\n",
       "</table>\n",
       "only showing top 20 rows\n"
      ],
      "text/plain": [
       "DataFrame[id: string]"
      ]
     },
     "metadata": {},
     "output_type": "display_data"
    }
   ],
   "source": [
    "display(flight_graph.vertices)"
   ]
  },
  {
   "cell_type": "code",
   "execution_count": 9,
   "id": "9bdefdbd-738c-4f65-85d2-31a65e740fb4",
   "metadata": {
    "scrolled": true
   },
   "outputs": [
    {
     "data": {
      "text/html": [
       "<table border='1'>\n",
       "<tr><th>src</th><th>dst</th><th>FL_DATE</th><th>CANCELLED</th><th>ARR_TIME</th><th>DISTANCE</th></tr>\n",
       "<tr><td>DCA</td><td>EWR</td><td>2009-01-01</td><td>0.0</td><td>1206.0</td><td>199.0</td></tr>\n",
       "<tr><td>EWR</td><td>IAD</td><td>2009-01-01</td><td>0.0</td><td>1624.0</td><td>213.0</td></tr>\n",
       "<tr><td>EWR</td><td>DCA</td><td>2009-01-01</td><td>0.0</td><td>1201.0</td><td>199.0</td></tr>\n",
       "<tr><td>DCA</td><td>EWR</td><td>2009-01-01</td><td>0.0</td><td>1345.0</td><td>199.0</td></tr>\n",
       "<tr><td>IAD</td><td>EWR</td><td>2009-01-01</td><td>0.0</td><td>1822.0</td><td>213.0</td></tr>\n",
       "<tr><td>ATL</td><td>EWR</td><td>2009-01-01</td><td>0.0</td><td>2123.0</td><td>745.0</td></tr>\n",
       "<tr><td>CLE</td><td>ATL</td><td>2009-01-01</td><td>0.0</td><td>1825.0</td><td>554.0</td></tr>\n",
       "<tr><td>DCA</td><td>EWR</td><td>2009-01-01</td><td>0.0</td><td>2027.0</td><td>199.0</td></tr>\n",
       "<tr><td>EWR</td><td>DCA</td><td>2009-01-01</td><td>0.0</td><td>1823.0</td><td>199.0</td></tr>\n",
       "<tr><td>EWR</td><td>DCA</td><td>2009-01-01</td><td>0.0</td><td>1356.0</td><td>199.0</td></tr>\n",
       "<tr><td>DCA</td><td>EWR</td><td>2009-01-01</td><td>0.0</td><td>1559.0</td><td>199.0</td></tr>\n",
       "<tr><td>EWR</td><td>DCA</td><td>2009-01-01</td><td>0.0</td><td>2235.0</td><td>199.0</td></tr>\n",
       "<tr><td>CLE</td><td>DCA</td><td>2009-01-01</td><td>0.0</td><td>2001.0</td><td>310.0</td></tr>\n",
       "<tr><td>DCA</td><td>EWR</td><td>2009-01-01</td><td>0.0</td><td>2143.0</td><td>199.0</td></tr>\n",
       "<tr><td>ORD</td><td>EWR</td><td>2009-01-01</td><td>0.0</td><td>1150.0</td><td>719.0</td></tr>\n",
       "<tr><td>EWR</td><td>ORD</td><td>2009-01-01</td><td>0.0</td><td>1206.0</td><td>719.0</td></tr>\n",
       "<tr><td>ORD</td><td>EWR</td><td>2009-01-01</td><td>0.0</td><td>1525.0</td><td>719.0</td></tr>\n",
       "<tr><td>EWR</td><td>ORD</td><td>2009-01-01</td><td>0.0</td><td>1530.0</td><td>719.0</td></tr>\n",
       "<tr><td>ORD</td><td>EWR</td><td>2009-01-01</td><td>0.0</td><td>1941.0</td><td>719.0</td></tr>\n",
       "<tr><td>EWR</td><td>ORD</td><td>2009-01-01</td><td>0.0</td><td>2057.0</td><td>719.0</td></tr>\n",
       "</table>\n",
       "only showing top 20 rows\n"
      ],
      "text/plain": [
       "DataFrame[src: string, dst: string, FL_DATE: date, CANCELLED: double, ARR_TIME: double, DISTANCE: double]"
      ]
     },
     "metadata": {},
     "output_type": "display_data"
    }
   ],
   "source": [
    "display(flight_graph.edges)"
   ]
  },
  {
   "cell_type": "markdown",
   "id": "4c8ab7f9-dce9-4765-bc5f-f8ac609a36e1",
   "metadata": {},
   "source": [
    "# QUERY 1"
   ]
  },
  {
   "cell_type": "markdown",
   "id": "7d859383-cb73-47e7-aa4d-63987b55c7f5",
   "metadata": {},
   "source": [
    "## Expected results"
   ]
  },
  {
   "cell_type": "code",
   "execution_count": 11,
   "id": "9020b51b-d231-456e-8a43-faf5a0f73ab6",
   "metadata": {
    "scrolled": true
   },
   "outputs": [],
   "source": [
    "expected_degrees_df = flight_graph.degrees\n",
    "expected_inDegrees_df = flight_graph.inDegrees\n",
    "expected_outDegrees_df = flight_graph.outDegrees\n",
    "expected_triangles_count_df = flight_graph.triangleCount()"
   ]
  },
  {
   "cell_type": "code",
   "execution_count": 12,
   "id": "5c0a8765-0f7f-427e-8407-19477b2365cd",
   "metadata": {},
   "outputs": [],
   "source": [
    "# Taken from https://stackoverflow.com/questions/31197353/dataframe-equality-in-apache-spark\n",
    "def are_dfs_equal(df1, df2):\n",
    "    if df1.schema != df2.schema:\n",
    "        print(\"schema is not the same\")\n",
    "        return False\n",
    "    if df1.collect() != df2.collect():\n",
    "        print(\"data is not the same\")\n",
    "        return False\n",
    "    return True"
   ]
  },
  {
   "cell_type": "markdown",
   "id": "ab444433-6567-484e-87e3-2fd979096823",
   "metadata": {},
   "source": [
    "## inDegrees"
   ]
  },
  {
   "cell_type": "code",
   "execution_count": 14,
   "id": "71a1b0cb-e0ec-4e36-aa0f-586487fe0404",
   "metadata": {
    "scrolled": true
   },
   "outputs": [
    {
     "data": {
      "text/html": [
       "<table border='1'>\n",
       "<tr><th>id</th><th>inDegree</th></tr>\n",
       "<tr><td>JAX</td><td>28813</td></tr>\n",
       "<tr><td>ABQ</td><td>35577</td></tr>\n",
       "<tr><td>ORF</td><td>15245</td></tr>\n",
       "<tr><td>JAN</td><td>12528</td></tr>\n",
       "<tr><td>TUL</td><td>20731</td></tr>\n",
       "<tr><td>GPT</td><td>6588</td></tr>\n",
       "<tr><td>STL</td><td>58691</td></tr>\n",
       "<tr><td>SYR</td><td>9330</td></tr>\n",
       "<tr><td>RKS</td><td>1764</td></tr>\n",
       "<tr><td>PWM</td><td>6510</td></tr>\n",
       "<tr><td>FAT</td><td>12317</td></tr>\n",
       "<tr><td>SAN</td><td>82733</td></tr>\n",
       "<tr><td>CID</td><td>9047</td></tr>\n",
       "<tr><td>LAX</td><td>192916</td></tr>\n",
       "<tr><td>PSP</td><td>11278</td></tr>\n",
       "<tr><td>PSC</td><td>2871</td></tr>\n",
       "<tr><td>SEA</td><td>100922</td></tr>\n",
       "<tr><td>IYK</td><td>947</td></tr>\n",
       "<tr><td>HOU</td><td>52832</td></tr>\n",
       "<tr><td>TLH</td><td>5805</td></tr>\n",
       "</table>\n",
       "only showing top 20 rows\n"
      ],
      "text/plain": [
       "+---+--------+\n",
       "| id|inDegree|\n",
       "+---+--------+\n",
       "|JAX|   28813|\n",
       "|ABQ|   35577|\n",
       "|ORF|   15245|\n",
       "|JAN|   12528|\n",
       "|TUL|   20731|\n",
       "|GPT|    6588|\n",
       "|STL|   58691|\n",
       "|SYR|    9330|\n",
       "|RKS|    1764|\n",
       "|PWM|    6510|\n",
       "|FAT|   12317|\n",
       "|SAN|   82733|\n",
       "|CID|    9047|\n",
       "|LAX|  192916|\n",
       "|PSP|   11278|\n",
       "|PSC|    2871|\n",
       "|SEA|  100922|\n",
       "|IYK|     947|\n",
       "|HOU|   52832|\n",
       "|TLH|    5805|\n",
       "+---+--------+\n",
       "only showing top 20 rows"
      ]
     },
     "metadata": {},
     "output_type": "display_data"
    }
   ],
   "source": [
    "in_edges_df = (flight_graph\n",
    "    .find(\"()-[edge]->(a)\")\n",
    "    .groupBy(\"a.id\")\n",
    "    .count()\n",
    "    .withColumn(\"inDegree\", F.col(\"count\").cast(IntegerType()))\n",
    "    .select(F.col(\"id\"), F.col(\"inDegree\"))\n",
    "\n",
    ")\n",
    "\n",
    "display(in_edges_df)"
   ]
  },
  {
   "cell_type": "code",
   "execution_count": 16,
   "id": "cff1acfe-d1a0-412d-93ac-90eed78f4752",
   "metadata": {},
   "outputs": [
    {
     "data": {
      "text/plain": [
       "True"
      ]
     },
     "execution_count": 16,
     "metadata": {},
     "output_type": "execute_result"
    }
   ],
   "source": [
    "are_dfs_equal(in_edges_df, expected_inDegrees_df)"
   ]
  },
  {
   "cell_type": "markdown",
   "id": "77433f87-698c-4b67-8956-15657d681b98",
   "metadata": {},
   "source": [
    "## outDegrees"
   ]
  },
  {
   "cell_type": "code",
   "execution_count": 17,
   "id": "2bf57ba8-6980-4090-89c8-d6689fd2f3f2",
   "metadata": {
    "scrolled": true
   },
   "outputs": [
    {
     "data": {
      "text/html": [
       "<table border='1'>\n",
       "<tr><th>id</th><th>outDegree</th></tr>\n",
       "<tr><td>JAN</td><td>12530</td></tr>\n",
       "<tr><td>JAX</td><td>28810</td></tr>\n",
       "<tr><td>ABQ</td><td>35582</td></tr>\n",
       "<tr><td>ORF</td><td>15238</td></tr>\n",
       "<tr><td>TUL</td><td>20735</td></tr>\n",
       "<tr><td>STL</td><td>58702</td></tr>\n",
       "<tr><td>GPT</td><td>6588</td></tr>\n",
       "<tr><td>SYR</td><td>9336</td></tr>\n",
       "<tr><td>CID</td><td>9049</td></tr>\n",
       "<tr><td>FAT</td><td>12319</td></tr>\n",
       "<tr><td>LAX</td><td>192879</td></tr>\n",
       "<tr><td>PSP</td><td>11276</td></tr>\n",
       "<tr><td>PWM</td><td>6508</td></tr>\n",
       "<tr><td>RKS</td><td>1767</td></tr>\n",
       "<tr><td>SAN</td><td>82747</td></tr>\n",
       "<tr><td>SPI</td><td>1442</td></tr>\n",
       "<tr><td>PSC</td><td>2870</td></tr>\n",
       "<tr><td>SEA</td><td>100948</td></tr>\n",
       "<tr><td>IYK</td><td>946</td></tr>\n",
       "<tr><td>HOU</td><td>52832</td></tr>\n",
       "</table>\n",
       "only showing top 20 rows\n"
      ],
      "text/plain": [
       "+---+---------+\n",
       "| id|outDegree|\n",
       "+---+---------+\n",
       "|JAN|    12530|\n",
       "|JAX|    28810|\n",
       "|ABQ|    35582|\n",
       "|ORF|    15238|\n",
       "|TUL|    20735|\n",
       "|STL|    58702|\n",
       "|GPT|     6588|\n",
       "|SYR|     9336|\n",
       "|CID|     9049|\n",
       "|FAT|    12319|\n",
       "|LAX|   192879|\n",
       "|PSP|    11276|\n",
       "|PWM|     6508|\n",
       "|RKS|     1767|\n",
       "|SAN|    82747|\n",
       "|SPI|     1442|\n",
       "|PSC|     2870|\n",
       "|SEA|   100948|\n",
       "|IYK|      946|\n",
       "|HOU|    52832|\n",
       "+---+---------+\n",
       "only showing top 20 rows"
      ]
     },
     "metadata": {},
     "output_type": "display_data"
    }
   ],
   "source": [
    "outgoing_edges_df = (flight_graph\n",
    "    .find(\"(a)-[edge]->()\")\n",
    "    .groupBy(\"a.id\")\n",
    "    .count()\n",
    "    .withColumn(\"outDegree\", F.col(\"count\").cast(IntegerType()))\n",
    "    .select(F.col(\"id\"), F.col(\"outDegree\"))\n",
    "\n",
    ")\n",
    "\n",
    "display(outgoing_edges_df)"
   ]
  },
  {
   "cell_type": "code",
   "execution_count": 19,
   "id": "998fdb66-3cb3-4809-8e3a-fe1720dc90f5",
   "metadata": {},
   "outputs": [
    {
     "data": {
      "text/plain": [
       "True"
      ]
     },
     "execution_count": 19,
     "metadata": {},
     "output_type": "execute_result"
    }
   ],
   "source": [
    "are_dfs_equal(outgoing_edges_df, expected_outDegrees_df)"
   ]
  },
  {
   "cell_type": "markdown",
   "id": "59a5e93e-5d84-4360-941c-dd7c6ac035bb",
   "metadata": {},
   "source": [
    "## Degrees"
   ]
  },
  {
   "cell_type": "code",
   "execution_count": 20,
   "id": "46b20e6c-121f-403d-bf40-42b9bdf9acd7",
   "metadata": {
    "scrolled": true
   },
   "outputs": [
    {
     "data": {
      "text/html": [
       "<table border='1'>\n",
       "<tr><th>id</th><th>degree</th></tr>\n",
       "<tr><td>JAN</td><td>25058</td></tr>\n",
       "<tr><td>JAX</td><td>57623</td></tr>\n",
       "<tr><td>ABQ</td><td>71159</td></tr>\n",
       "<tr><td>ORF</td><td>30483</td></tr>\n",
       "<tr><td>TUL</td><td>41466</td></tr>\n",
       "<tr><td>STL</td><td>117393</td></tr>\n",
       "<tr><td>GPT</td><td>13176</td></tr>\n",
       "<tr><td>SYR</td><td>18666</td></tr>\n",
       "<tr><td>CID</td><td>18096</td></tr>\n",
       "<tr><td>FAT</td><td>24636</td></tr>\n",
       "<tr><td>LAX</td><td>385795</td></tr>\n",
       "<tr><td>PSP</td><td>22554</td></tr>\n",
       "<tr><td>PWM</td><td>13018</td></tr>\n",
       "<tr><td>RKS</td><td>3531</td></tr>\n",
       "<tr><td>SAN</td><td>165480</td></tr>\n",
       "<tr><td>SPI</td><td>2886</td></tr>\n",
       "<tr><td>PSC</td><td>5741</td></tr>\n",
       "<tr><td>SEA</td><td>201870</td></tr>\n",
       "<tr><td>IYK</td><td>1893</td></tr>\n",
       "<tr><td>HOU</td><td>105664</td></tr>\n",
       "</table>\n",
       "only showing top 20 rows\n"
      ],
      "text/plain": [
       "+---+------+\n",
       "| id|degree|\n",
       "+---+------+\n",
       "|JAX| 57623|\n",
       "|ABQ| 71159|\n",
       "|ORF| 30483|\n",
       "|JAN| 25058|\n",
       "|TUL| 41466|\n",
       "|GPT| 13176|\n",
       "|STL|117393|\n",
       "|SYR| 18666|\n",
       "|RKS|  3531|\n",
       "|PWM| 13018|\n",
       "|FAT| 24636|\n",
       "|SAN|165480|\n",
       "|CID| 18096|\n",
       "|LAX|385795|\n",
       "|PSP| 22554|\n",
       "|PSC|  5741|\n",
       "|SEA|201870|\n",
       "|IYK|  1893|\n",
       "|HOU|105664|\n",
       "|TLH| 11611|\n",
       "+---+------+\n",
       "only showing top 20 rows"
      ]
     },
     "metadata": {},
     "output_type": "display_data"
    }
   ],
   "source": [
    "degrees_df = (outgoing_edges_df\n",
    "    .join(in_edges_df, \"id\")\n",
    "    .withColumn(\"degree\", F.col(\"outDegree\")+ F.col(\"inDegree\"))\n",
    "    .select(F.col(\"id\"), F.col(\"degree\"))\n",
    ")\n",
    "display(degrees_df)"
   ]
  },
  {
   "cell_type": "code",
   "execution_count": 21,
   "id": "a36d7313-f709-4793-8f19-46bf598565d4",
   "metadata": {},
   "outputs": [
    {
     "data": {
      "text/plain": [
       "(296, 296)"
      ]
     },
     "execution_count": 21,
     "metadata": {},
     "output_type": "execute_result"
    }
   ],
   "source": [
    "expected_degrees_df.count(), degrees_df.count()"
   ]
  },
  {
   "cell_type": "code",
   "execution_count": 22,
   "id": "9e73bfb1-f7bf-4c13-919e-eb4ca5fc627a",
   "metadata": {},
   "outputs": [
    {
     "data": {
      "text/html": [
       "<table border='1'>\n",
       "<tr><th>id</th><th>diff</th><th>expected_degree</th><th>degree</th></tr>\n",
       "</table>\n"
      ],
      "text/plain": [
       "+---+----+---------------+------+\n",
       "| id|diff|expected_degree|degree|\n",
       "+---+----+---------------+------+\n",
       "+---+----+---------------+------+"
      ]
     },
     "metadata": {},
     "output_type": "display_data"
    }
   ],
   "source": [
    "letsCheck_df = (expected_degrees_df\n",
    "    .withColumnRenamed(\"degree\", \"expected_degree\")\n",
    "    .join(degrees_df, \"id\")\n",
    "    .withColumn(\"diff\", F.col(\"expected_degree\") -  F.col(\"degree\"))\n",
    "    .filter(F.col(\"diff\")!= 0)\n",
    "    .select(F.col(\"id\"), F.col(\"diff\"), F.col(\"expected_degree\"), F.col(\"degree\"))\n",
    ")\n",
    "display(letsCheck_df)"
   ]
  },
  {
   "cell_type": "markdown",
   "id": "55b75944-553d-4249-b200-f3bf34c3d6d3",
   "metadata": {},
   "source": [
    "## Triangles count"
   ]
  },
  {
   "cell_type": "markdown",
   "id": "35942acd-f7c4-49ee-83b6-1b72e1d7e7c1",
   "metadata": {},
   "source": [
    "## mofits -> It takes more than an hour to compute"
   ]
  },
  {
   "cell_type": "code",
   "execution_count": null,
   "id": "e6ddfe87-0050-4ac9-8563-9444b2917e36",
   "metadata": {
    "scrolled": true
   },
   "outputs": [],
   "source": [
    "triangles_count_df = (flight_graph\n",
    "    .find(\"(a)-[ab]->(b);(b)-[bc]->(c);(c)-[ca]->(a)\")\n",
    "    .where(\"a.id < b.id AND b.id < c.id\")\n",
    "    .groupBy(\"a.id\")\n",
    "    .count()\n",
    "    .select(F.col(\"id\"), F.col(\"count\"))\n",
    "\n",
    ")\n",
    "\n",
    "display(triangles_count_df)"
   ]
  },
  {
   "cell_type": "markdown",
   "id": "5dc2f61c-b058-44a6-8be8-b095ee83d4f3",
   "metadata": {},
   "source": [
    "## Joins"
   ]
  },
  {
   "cell_type": "code",
   "execution_count": 12,
   "id": "1c146ff6-d88a-44b3-bb78-b042e6bff5d6",
   "metadata": {},
   "outputs": [],
   "source": [
    "undirected_edges = (flight_edgs_df\n",
    "                    .select(\n",
    "                        F.when(F.col(\"src\") < F.col(\"dst\"), F.col(\"src\")).otherwise(F.col(\"dst\")).alias(\"v1\"),\n",
    "                        F.when(F.col(\"src\") < F.col(\"dst\"), F.col(\"dst\")).otherwise(F.col(\"src\")).alias(\"v2\")\n",
    "                    )\n",
    "                    .dropDuplicates())"
   ]
  },
  {
   "cell_type": "code",
   "execution_count": 13,
   "id": "d3a5505c-9971-44c7-9e4d-be22077b78f4",
   "metadata": {},
   "outputs": [],
   "source": [
    "# Alias the undirected edges for the self-join.\n",
    "e1 = undirected_edges.alias(\"e1\")\n",
    "e2 = undirected_edges.alias(\"e2\")\n",
    "e3 = undirected_edges.alias(\"e3\")\n",
    "\n",
    "# Join e1 and e2 to form potential chains: v1 - v2 - v3\n",
    "triangle_candidates = e1.join(e2, F.col(\"e1.v2\") == F.col(\"e2.v1\"))\n",
    "\n",
    "# Now join with e3 to check if an edge exists between v1 and v3 to close the triangle.\n",
    "triangles = triangle_candidates.join(\n",
    "    e3,\n",
    "    (F.col(\"e1.v1\") == F.col(\"e3.v1\")) & (F.col(\"e2.v2\") == F.col(\"e3.v2\"))\n",
    ")\n",
    "\n",
    "# Filter triangles to remove duplicates (v1 < v2 < v3)\n",
    "triangles = triangles.filter(\n",
    "    (F.col(\"e1.v1\") < F.col(\"e1.v2\")) &\n",
    "    (F.col(\"e1.v2\") < F.col(\"e2.v2\"))\n",
    ")"
   ]
  },
  {
   "cell_type": "code",
   "execution_count": 15,
   "id": "e2097e04-a9e2-42a3-b76e-da8a31e3924d",
   "metadata": {},
   "outputs": [
    {
     "data": {
      "text/html": [
       "<table border='1'>\n",
       "<tr><th>id</th><th>triangle_count</th></tr>\n",
       "<tr><td>HOU</td><td>262</td></tr>\n",
       "<tr><td>ABQ</td><td>311</td></tr>\n",
       "<tr><td>CID</td><td>36</td></tr>\n",
       "<tr><td>LAX</td><td>1020</td></tr>\n",
       "<tr><td>SEA</td><td>728</td></tr>\n",
       "<tr><td>SAN</td><td>565</td></tr>\n",
       "<tr><td>FAT</td><td>31</td></tr>\n",
       "<tr><td>GPT</td><td>21</td></tr>\n",
       "<tr><td>JAN</td><td>36</td></tr>\n",
       "<tr><td>JAX</td><td>342</td></tr>\n",
       "<tr><td>ACY</td><td>1</td></tr>\n",
       "<tr><td>PSC</td><td>10</td></tr>\n",
       "<tr><td>PSP</td><td>55</td></tr>\n",
       "<tr><td>CMI</td><td>3</td></tr>\n",
       "<tr><td>LSE</td><td>3</td></tr>\n",
       "<tr><td>BKG</td><td>3</td></tr>\n",
       "<tr><td>ORF</td><td>194</td></tr>\n",
       "<tr><td>FAI</td><td>6</td></tr>\n",
       "<tr><td>CVG</td><td>1261</td></tr>\n",
       "<tr><td>BWI</td><td>1003</td></tr>\n",
       "</table>\n",
       "only showing top 20 rows\n"
      ],
      "text/plain": [
       "+---+--------------+\n",
       "| id|triangle_count|\n",
       "+---+--------------+\n",
       "|HOU|           262|\n",
       "|ABQ|           311|\n",
       "|CID|            36|\n",
       "|LAX|          1020|\n",
       "|SEA|           728|\n",
       "|SAN|           565|\n",
       "|FAT|            31|\n",
       "|GPT|            21|\n",
       "|JAN|            36|\n",
       "|JAX|           342|\n",
       "|ACY|             1|\n",
       "|PSC|            10|\n",
       "|PSP|            55|\n",
       "|CMI|             3|\n",
       "|LSE|             3|\n",
       "|BKG|             3|\n",
       "|ORF|           194|\n",
       "|FAI|             6|\n",
       "|CVG|          1261|\n",
       "|BWI|          1003|\n",
       "+---+--------------+\n",
       "only showing top 20 rows"
      ]
     },
     "metadata": {},
     "output_type": "display_data"
    }
   ],
   "source": [
    "# Compute per-vertex triangle counts: each triangle involves three airports.\n",
    "# Union the vertices from each triangle and then count how many times each airport appears.\n",
    "triangle_vertices = (triangles.select(F.col(\"e1.v1\").alias(\"id\"))\n",
    "                     .union(triangles.select(F.col(\"e1.v2\").alias(\"id\")))\n",
    "                     .union(triangles.select(F.col(\"e2.v2\").alias(\"id\"))))\n",
    "\n",
    "vertex_triangle_counts = triangle_vertices.groupBy(\"id\").agg(F.count(\"*\").alias(\"triangle_count\"))\n",
    "display(vertex_triangle_counts)"
   ]
  },
  {
   "cell_type": "markdown",
   "id": "99fedfc3-af4f-40a7-9399-dbc1ce5a3a08",
   "metadata": {},
   "source": [
    "# Query 2. Total Number of Triangles in the Graph"
   ]
  },
  {
   "cell_type": "code",
   "execution_count": 16,
   "id": "9390dacb-82a7-4788-b2df-76e913588fbe",
   "metadata": {},
   "outputs": [
    {
     "name": "stdout",
     "output_type": "stream",
     "text": [
      "Total number of triangles (overall): 16015\n"
     ]
    }
   ],
   "source": [
    "triangle_total_count = triangles.count()\n",
    "print(\"Total number of triangles (overall):\", triangle_total_count)"
   ]
  },
  {
   "cell_type": "markdown",
   "id": "0948072e-2908-4ac7-8e55-2c0b3c7a91ec",
   "metadata": {},
   "source": [
    "# Query 3. Total Number of Triangles in the Graph"
   ]
  },
  {
   "cell_type": "code",
   "execution_count": 20,
   "id": "32a306ad-5b64-4f43-94fb-b10244b21d28",
   "metadata": {},
   "outputs": [
    {
     "name": "stdout",
     "output_type": "stream",
     "text": [
      "Iteration 0 max change: 0.9999995333889741\n",
      "Iteration 1 max change: 0.033631523333202455\n",
      "Iteration 2 max change: 0.008680665250810814\n",
      "Iteration 3 max change: 0.0031526869477974603\n",
      "Iteration 4 max change: 0.0009518548397060012\n",
      "Iteration 5 max change: 0.00034457981182840075\n",
      "Iteration 6 max change: 0.00010000117639264589\n",
      "Iteration 7 max change: 3.908776374717676e-05\n",
      "Eigenvector Centrality Scores:\n",
      "+---+--------------------+\n",
      "| id|                rank|\n",
      "+---+--------------------+\n",
      "|ATL| 0.03753374418630729|\n",
      "|ORD| 0.03420041245905938|\n",
      "|DFW|0.029195453879788374|\n",
      "|DEN| 0.02846066233421956|\n",
      "|LAX|0.027571457107331145|\n",
      "|PHX| 0.02469136002748945|\n",
      "|LAS|0.023324443940525116|\n",
      "|IAH|0.020739376543623195|\n",
      "|SFO| 0.01988898809777415|\n",
      "|BOS| 0.01879929142273175|\n",
      "+---+--------------------+\n",
      "only showing top 10 rows\n",
      "\n"
     ]
    }
   ],
   "source": [
    "# Initialize each vertex with a rank (centrality) of 1.0.\n",
    "ranks = flight_vertex_df.select(\"id\").withColumn(\"rank\", F.lit(1.0))\n",
    "\n",
    "# Set parameters for the power iteration.\n",
    "max_iter = 10\n",
    "epsilon = 1e-4\n",
    "\n",
    "for i in range(max_iter):\n",
    "    # Each vertex's rank is distributed to its destination neighbors.\n",
    "    contribs = flight_edgs_df.join(ranks, flight_edgs_df.src == ranks.id) \\\n",
    "                    .groupBy(\"dst\") \\\n",
    "                    .agg(F.sum(\"rank\").alias(\"contrib\"))\n",
    "    \n",
    "    # Create new ranks by joining these contributions to the vertices.\n",
    "    new_ranks = flight_vertex_df.join(contribs, flight_vertex_df.id == contribs.dst, \"left\") \\\n",
    "                        .select(flight_vertex_df.id,\n",
    "                                F.coalesce(F.col(\"contrib\"), F.lit(0.0)).alias(\"new_rank\"))\n",
    "    \n",
    "    # Normalize the new ranks so that the sum of ranks equals 1.\n",
    "    total_rank = new_ranks.agg(F.sum(\"new_rank\")).first()[0]\n",
    "    new_ranks = new_ranks.withColumn(\"new_rank\", F.col(\"new_rank\") / total_rank)\n",
    "    \n",
    "    # Check convergence.\n",
    "    joined = ranks.join(new_ranks, \"id\")\n",
    "    diff = joined.withColumn(\"diff\", F.abs(F.col(\"rank\") - F.col(\"new_rank\")))\n",
    "    max_diff_value = diff.agg(F.max(\"diff\")).first()[0]\n",
    "    print(\"Iteration\", i, \"max change:\", max_diff_value)\n",
    "    \n",
    "    if max_diff_value < epsilon:\n",
    "        break\n",
    "    \n",
    "    # Update the ranks for the next iteration.\n",
    "    ranks = new_ranks.withColumnRenamed(\"new_rank\", \"rank\")\n",
    "\n",
    "# Display the computed eigenvector centrality scores.\n",
    "print(\"Eigenvector Centrality Scores:\")\n",
    "ranks.orderBy(F.col(\"rank\").desc()).show(10)"
   ]
  },
  {
   "cell_type": "markdown",
   "id": "af54722d-5599-417f-ab79-fd5b6813d26f",
   "metadata": {},
   "source": [
    "# Query 4. Implement the PageRank algorithm natively on Spark using Graphframes"
   ]
  },
  {
   "cell_type": "code",
   "execution_count": 21,
   "id": "9a80ca5a-c526-4257-9438-44a311228d5e",
   "metadata": {},
   "outputs": [
    {
     "name": "stdout",
     "output_type": "stream",
     "text": [
      "Iteration 0 max change: 37.87100076226611\n",
      "Iteration 1 max change: 26.09260776330634\n",
      "Iteration 2 max change: 9.466411593977632\n",
      "Iteration 3 max change: 4.944223546568683\n",
      "Iteration 4 max change: 2.2046881069997575\n",
      "Iteration 5 max change: 0.9986999029300101\n",
      "Iteration 6 max change: 0.5108192893470793\n",
      "Iteration 7 max change: 0.19801791533137703\n",
      "Iteration 8 max change: 0.12155779308209702\n",
      "Iteration 9 max change: 0.035918004299670514\n",
      "PageRank Scores:\n",
      "+---+------------------+\n",
      "| id|              rank|\n",
      "+---+------------------+\n",
      "|ATL|18.905010413236592|\n",
      "|ORD| 12.92711042270102|\n",
      "|DFW|11.735613068886858|\n",
      "|DEN| 9.998483451765958|\n",
      "|LAX| 7.726101869874977|\n",
      "|IAH| 7.159305038125105|\n",
      "|PHX|7.0653715625994264|\n",
      "|SLC| 7.038754134167003|\n",
      "|DTW| 7.019968536748528|\n",
      "|SFO| 5.904248175402836|\n",
      "+---+------------------+\n",
      "only showing top 10 rows\n",
      "\n"
     ]
    }
   ],
   "source": [
    "damping = 0.85\n",
    "max_iter = 10\n",
    "epsilon = 1e-4\n",
    "\n",
    "# Pre-compute out-degrees for normalization.\n",
    "out_degrees = flight_edgs_df.groupBy(\"src\").agg(F.count(\"dst\").alias(\"out_degree\"))\n",
    "\n",
    "# Initialize PageRank values.\n",
    "pranks = flight_vertex_df.select(\"id\").withColumn(\"rank\", F.lit(1.0))\n",
    "\n",
    "for i in range(max_iter):\n",
    "    # Calculate contributions from each vertex to its neighbors.\n",
    "    edge_contribs = (flight_edgs_df\n",
    "                     .join(pranks, flight_edgs_df.src == pranks.id)\n",
    "                     .join(out_degrees, flight_edgs_df.src == out_degrees.src)\n",
    "                     .select(flight_edgs_df.dst,\n",
    "                             (F.col(\"rank\") / F.col(\"out_degree\")).alias(\"contrib\")))\n",
    "    \n",
    "    # Sum contributions by destination vertex.\n",
    "    summed_contribs = edge_contribs.groupBy(\"dst\") \\\n",
    "                                   .agg(F.sum(\"contrib\").alias(\"total_contrib\"))\n",
    "    \n",
    "    # Apply the PageRank update rule.\n",
    "    new_pranks = (flight_vertex_df\n",
    "                  .join(summed_contribs, flight_vertex_df.id == summed_contribs.dst, \"left\")\n",
    "                  .select(flight_vertex_df.id,\n",
    "                          ((1 - damping) + damping * F.coalesce(F.col(\"total_contrib\"), F.lit(0.0)))\n",
    "                           .alias(\"new_rank\")))\n",
    "    \n",
    "    # Check convergence.\n",
    "    joined_ranks = pranks.join(new_pranks, \"id\")\n",
    "    diff = joined_ranks.withColumn(\"diff\", F.abs(F.col(\"rank\") - F.col(\"new_rank\")))\n",
    "    max_diff_value = diff.agg(F.max(\"diff\")).first()[0]\n",
    "    print(\"Iteration\", i, \"max change:\", max_diff_value)\n",
    "    \n",
    "    if max_diff_value < epsilon:\n",
    "        break\n",
    "        \n",
    "    pranks = new_pranks.withColumnRenamed(\"new_rank\", \"rank\")\n",
    "\n",
    "print(\"PageRank Scores:\")\n",
    "pranks.orderBy(F.col(\"rank\").desc()).show(10)"
   ]
  },
  {
   "cell_type": "markdown",
   "id": "65fb055e-8cbd-4436-9650-4fe45f829144",
   "metadata": {},
   "source": [
    "# Query 5. Finding the Group of the Most Connected Airports"
   ]
  },
  {
   "cell_type": "code",
   "execution_count": 22,
   "id": "a47fb9c4-08d4-48a7-ae9e-d90d3abd8602",
   "metadata": {},
   "outputs": [
    {
     "name": "stdout",
     "output_type": "stream",
     "text": [
      "Undirected edges sample:\n",
      "+---+---+\n",
      "|src|dst|\n",
      "+---+---+\n",
      "|IAH|MKE|\n",
      "|CLE|BOS|\n",
      "|GRR|CLE|\n",
      "|MKE|IAH|\n",
      "|OMA|IAH|\n",
      "+---+---+\n",
      "only showing top 5 rows\n",
      "\n"
     ]
    }
   ],
   "source": [
    "# Create an Undirected Edges DataFrame \n",
    "# For connectivity, treat the graph as undirected by unioning edges with their reverse.\n",
    "undirected_edges = (flight_edgs_df.select(\"src\", \"dst\")\n",
    "                    .union(flight_edgs_df.select(F.col(\"dst\").alias(\"src\"), F.col(\"src\").alias(\"dst\")))\n",
    "                    .dropDuplicates())\n",
    "\n",
    "print(\"Undirected edges sample:\")\n",
    "undirected_edges.show(5)"
   ]
  },
  {
   "cell_type": "code",
   "execution_count": 23,
   "id": "f348eda1-c84a-4d52-a3a1-9a4d04493324",
   "metadata": {},
   "outputs": [
    {
     "name": "stdout",
     "output_type": "stream",
     "text": [
      "Initial vertices with component labels:\n",
      "+---+---------+\n",
      "| id|component|\n",
      "+---+---------+\n",
      "|JAN|      JAN|\n",
      "|JAX|      JAX|\n",
      "|ABQ|      ABQ|\n",
      "|ORF|      ORF|\n",
      "|TUL|      TUL|\n",
      "+---+---------+\n",
      "only showing top 5 rows\n",
      "\n"
     ]
    }
   ],
   "source": [
    "# Initialize Vertices with Component Labels\n",
    "# Initially, each vertex is its own component.\n",
    "vertices_df = flight_vertex_df.withColumn(\"component\", F.col(\"id\"))\n",
    "\n",
    "print(\"Initial vertices with component labels:\")\n",
    "vertices_df.show(5)\n"
   ]
  },
  {
   "cell_type": "code",
   "execution_count": 24,
   "id": "1440b8ac-a6b1-4162-b05c-ae1530bd2303",
   "metadata": {},
   "outputs": [
    {
     "name": "stdout",
     "output_type": "stream",
     "text": [
      "Iteration 0 number of component updates: 246\n",
      "Iteration 1 number of component updates: 283\n",
      "Iteration 2 number of component updates: 96\n",
      "Iteration 3 number of component updates: 4\n",
      "Iteration 4 number of component updates: 0\n",
      "Final vertices with computed connected component labels (using custom union-find):\n",
      "+---+---------+\n",
      "|id |component|\n",
      "+---+---------+\n",
      "|BHM|ABE      |\n",
      "|GSO|ABE      |\n",
      "|MAF|ABE      |\n",
      "|GSP|ABE      |\n",
      "|ORD|ABE      |\n",
      "|PVD|ABE      |\n",
      "|GRR|ABE      |\n",
      "|VPS|ABE      |\n",
      "|CLE|ABE      |\n",
      "|AMA|ABE      |\n",
      "|RDU|ABE      |\n",
      "|DEN|ABE      |\n",
      "|IND|ABE      |\n",
      "|DRO|ABE      |\n",
      "|MHT|ABE      |\n",
      "|KOA|ABE      |\n",
      "|IAD|ABE      |\n",
      "|RAP|ABE      |\n",
      "|BDL|ABE      |\n",
      "|SAT|ABE      |\n",
      "+---+---------+\n",
      "only showing top 20 rows\n",
      "\n"
     ]
    }
   ],
   "source": [
    "# Iterative Union-Find (Label Propagation)\n",
    "max_iter = 10  \n",
    "iteration = 0\n",
    "converged = False\n",
    "\n",
    "while not converged and iteration < max_iter:\n",
    "    # For each vertex, get the minimum component label among its neighbors.\n",
    "    # Join undirected_edges with vertices_df so we can retrieve neighbor's current component.\n",
    "    neighbor_components = undirected_edges.join(\n",
    "        vertices_df, undirected_edges.dst == vertices_df.id, \"left\"\n",
    "    ).groupBy(\"src\") \\\n",
    "     .agg(F.min(\"component\").alias(\"min_neighbor_component\"))\n",
    "    \n",
    "    # Now, for each vertex, update its component to the minimum of its current value and the minimum found among neighbors.\n",
    "    updated_vertices = vertices_df.join(\n",
    "        neighbor_components, vertices_df.id == neighbor_components.src, \"left\"\n",
    "    ).withColumn(\n",
    "        \"new_component\",\n",
    "        F.when(F.col(\"min_neighbor_component\").isNotNull(),\n",
    "               F.least(F.col(\"component\"), F.col(\"min_neighbor_component\"))\n",
    "              ).otherwise(F.col(\"component\"))\n",
    "    ).select(\"id\", \"new_component\")\n",
    "    \n",
    "    # Check for convergence: count how many vertices change their component label.\n",
    "    diff_count = updated_vertices.filter(F.col(\"new_component\") != vertices_df.component).count()\n",
    "    print(\"Iteration\", iteration, \"number of component updates:\", diff_count)\n",
    "    \n",
    "    if diff_count == 0:\n",
    "        converged = True\n",
    "    else:\n",
    "        # Prepare for next iteration: rename new_component to component.\n",
    "        vertices_df = updated_vertices.withColumnRenamed(\"new_component\", \"component\")\n",
    "        iteration += 1\n",
    "\n",
    "# Show the Connected Components\n",
    "\n",
    "print(\"Final vertices with computed connected component labels (using custom union-find):\")\n",
    "vertices_df.orderBy(\"component\").show(20, truncate=False)\n"
   ]
  },
  {
   "cell_type": "code",
   "execution_count": 25,
   "id": "2c1a2d28-12cd-43f8-ae1a-61c23fdb0648",
   "metadata": {},
   "outputs": [
    {
     "name": "stdout",
     "output_type": "stream",
     "text": [
      "Connected component groups:\n",
      "+---------+-----+\n",
      "|component|count|\n",
      "+---------+-----+\n",
      "|ABE      |296  |\n",
      "+---------+-----+\n",
      "\n"
     ]
    }
   ],
   "source": [
    "# Group vertices by component and count the number of vertices in each component.\n",
    "components_group = vertices_df.groupBy(\"component\").count().orderBy(\"count\", ascending=False)\n",
    "print(\"Connected component groups:\")\n",
    "components_group.show(truncate=False)"
   ]
  },
  {
   "cell_type": "code",
   "execution_count": null,
   "id": "b4669e5d-f6ae-424d-b8aa-fd8642e0cfa3",
   "metadata": {},
   "outputs": [],
   "source": []
  }
 ],
 "metadata": {
  "kernelspec": {
   "display_name": "Python 3 (ipykernel)",
   "language": "python",
   "name": "python3"
  },
  "language_info": {
   "codemirror_mode": {
    "name": "ipython",
    "version": 3
   },
   "file_extension": ".py",
   "mimetype": "text/x-python",
   "name": "python",
   "nbconvert_exporter": "python",
   "pygments_lexer": "ipython3",
   "version": "3.11.10"
  }
 },
 "nbformat": 4,
 "nbformat_minor": 5
}
