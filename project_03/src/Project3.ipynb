{
 "cells": [
  {
   "cell_type": "code",
   "execution_count": 8,
   "id": "41baebb0-8ae6-462a-81ea-d794b4f6f23d",
   "metadata": {
    "collapsed": true,
    "jupyter": {
     "outputs_hidden": true
    }
   },
   "outputs": [
    {
     "name": "stdout",
     "output_type": "stream",
     "text": [
      "Collecting graphframes\n",
      "  Downloading graphframes-0.6-py2.py3-none-any.whl.metadata (934 bytes)\n",
      "Requirement already satisfied: numpy in /opt/conda/lib/python3.11/site-packages (from graphframes) (1.26.4)\n",
      "Collecting nose (from graphframes)\n",
      "  Downloading nose-1.3.7-py3-none-any.whl.metadata (1.7 kB)\n",
      "Downloading graphframes-0.6-py2.py3-none-any.whl (18 kB)\n",
      "Downloading nose-1.3.7-py3-none-any.whl (154 kB)\n",
      "Installing collected packages: nose, graphframes\n",
      "Successfully installed graphframes-0.6 nose-1.3.7\n"
     ]
    }
   ],
   "source": [
    "!pip3 install graphframes"
   ]
  },
  {
   "cell_type": "code",
   "execution_count": 10,
   "id": "75a2bfd4-9462-455e-9513-0ff9c9549866",
   "metadata": {},
   "outputs": [],
   "source": [
    "from pyspark.sql.types import StructType, StructField, StringType, IntegerType, TimestampType\n",
    "from pyspark.sql import SparkSession\n",
    "from delta import *\n",
    "\n",
    "import pyspark.sql.functions as F\n",
    "import graphframes as gf\n",
    "import os\n",
    "import time"
   ]
  },
  {
   "cell_type": "markdown",
   "id": "e837059c-6bf5-4432-a42d-1dfcac9a0f61",
   "metadata": {},
   "source": [
    "## Spark Session"
   ]
  },
  {
   "cell_type": "code",
   "execution_count": 6,
   "id": "12fefb3f-d891-4ade-935d-054cb9712651",
   "metadata": {},
   "outputs": [],
   "source": [
    "# Create SparkSession with Delta Lake support\n",
    "# Prepare the Spark builder\n",
    "builder = SparkSession.builder.appName(\"project_3\") \\\n",
    "    .config(\"spark.sql.extensions\", \"io.delta.sql.DeltaSparkSessionExtension\") \\\n",
    "    .config(\"spark.sql.catalog.spark_catalog\", \"org.apache.spark.sql.delta.catalog.DeltaCatalog\")\n",
    "\n",
    "spark = configure_spark_with_delta_pip(builder,extra_packages=[\"graphframes:graphframes:0.8.4-spark3.5-s_2.12\"]).getOrCreate()\n",
    "spark.conf.set(\"spark.sql.shuffle.partitions\", spark._sc.defaultParallelism)\n",
    "\n",
    "spark.conf.set(\"spark.sql.repl.eagerEval.enabled\",True) # OK for exploration, not great for performance\n",
    "spark.conf.set(\"spark.sql.repl.eagerEval.truncate\", 500)\n"
   ]
  },
  {
   "cell_type": "markdown",
   "id": "257ef56f-97e4-4e9c-aac8-1a80eba7f012",
   "metadata": {},
   "source": [
    "## Dataset read"
   ]
  },
  {
   "cell_type": "code",
   "execution_count": 14,
   "id": "765e401d-e8e9-418d-955e-db3ed258048d",
   "metadata": {
    "scrolled": true
   },
   "outputs": [
    {
     "data": {
      "text/html": [
       "<table border='1'>\n",
       "<tr><th>FL_DATE</th><th>OP_CARRIER</th><th>OP_CARRIER_FL_NUM</th><th>ORIGIN</th><th>DEST</th><th>CRS_DEP_TIME</th><th>DEP_TIME</th><th>DEP_DELAY</th><th>TAXI_OUT</th><th>WHEELS_OFF</th><th>WHEELS_ON</th><th>TAXI_IN</th><th>CRS_ARR_TIME</th><th>ARR_TIME</th><th>ARR_DELAY</th><th>CANCELLED</th><th>CANCELLATION_CODE</th><th>DIVERTED</th><th>CRS_ELAPSED_TIME</th><th>ACTUAL_ELAPSED_TIME</th><th>AIR_TIME</th><th>DISTANCE</th><th>CARRIER_DELAY</th><th>WEATHER_DELAY</th><th>NAS_DELAY</th><th>SECURITY_DELAY</th><th>LATE_AIRCRAFT_DELAY</th><th>Unnamed: 27</th></tr>\n",
       "<tr><td>2009-01-01</td><td>XE</td><td>1204</td><td>DCA</td><td>EWR</td><td>1100</td><td>1058.0</td><td>-2.0</td><td>18.0</td><td>1116.0</td><td>1158.0</td><td>8.0</td><td>1202</td><td>1206.0</td><td>4.0</td><td>0.0</td><td>NULL</td><td>0.0</td><td>62.0</td><td>68.0</td><td>42.0</td><td>199.0</td><td>NULL</td><td>NULL</td><td>NULL</td><td>NULL</td><td>NULL</td><td>NULL</td></tr>\n",
       "<tr><td>2009-01-01</td><td>XE</td><td>1206</td><td>EWR</td><td>IAD</td><td>1510</td><td>1509.0</td><td>-1.0</td><td>28.0</td><td>1537.0</td><td>1620.0</td><td>4.0</td><td>1632</td><td>1624.0</td><td>-8.0</td><td>0.0</td><td>NULL</td><td>0.0</td><td>82.0</td><td>75.0</td><td>43.0</td><td>213.0</td><td>NULL</td><td>NULL</td><td>NULL</td><td>NULL</td><td>NULL</td><td>NULL</td></tr>\n",
       "<tr><td>2009-01-01</td><td>XE</td><td>1207</td><td>EWR</td><td>DCA</td><td>1100</td><td>1059.0</td><td>-1.0</td><td>20.0</td><td>1119.0</td><td>1155.0</td><td>6.0</td><td>1210</td><td>1201.0</td><td>-9.0</td><td>0.0</td><td>NULL</td><td>0.0</td><td>70.0</td><td>62.0</td><td>36.0</td><td>199.0</td><td>NULL</td><td>NULL</td><td>NULL</td><td>NULL</td><td>NULL</td><td>NULL</td></tr>\n",
       "<tr><td>2009-01-01</td><td>XE</td><td>1208</td><td>DCA</td><td>EWR</td><td>1240</td><td>1249.0</td><td>9.0</td><td>10.0</td><td>1259.0</td><td>1336.0</td><td>9.0</td><td>1357</td><td>1345.0</td><td>-12.0</td><td>0.0</td><td>NULL</td><td>0.0</td><td>77.0</td><td>56.0</td><td>37.0</td><td>199.0</td><td>NULL</td><td>NULL</td><td>NULL</td><td>NULL</td><td>NULL</td><td>NULL</td></tr>\n",
       "<tr><td>2009-01-01</td><td>XE</td><td>1209</td><td>IAD</td><td>EWR</td><td>1715</td><td>1705.0</td><td>-10.0</td><td>24.0</td><td>1729.0</td><td>1809.0</td><td>13.0</td><td>1900</td><td>1822.0</td><td>-38.0</td><td>0.0</td><td>NULL</td><td>0.0</td><td>105.0</td><td>77.0</td><td>40.0</td><td>213.0</td><td>NULL</td><td>NULL</td><td>NULL</td><td>NULL</td><td>NULL</td><td>NULL</td></tr>\n",
       "<tr><td>2009-01-01</td><td>XE</td><td>1212</td><td>ATL</td><td>EWR</td><td>1915</td><td>1913.0</td><td>-2.0</td><td>19.0</td><td>1932.0</td><td>2108.0</td><td>15.0</td><td>2142</td><td>2123.0</td><td>-19.0</td><td>0.0</td><td>NULL</td><td>0.0</td><td>147.0</td><td>130.0</td><td>96.0</td><td>745.0</td><td>NULL</td><td>NULL</td><td>NULL</td><td>NULL</td><td>NULL</td><td>NULL</td></tr>\n",
       "<tr><td>2009-01-01</td><td>XE</td><td>1212</td><td>CLE</td><td>ATL</td><td>1645</td><td>1637.0</td><td>-8.0</td><td>12.0</td><td>1649.0</td><td>1820.0</td><td>5.0</td><td>1842</td><td>1825.0</td><td>-17.0</td><td>0.0</td><td>NULL</td><td>0.0</td><td>117.0</td><td>108.0</td><td>91.0</td><td>554.0</td><td>NULL</td><td>NULL</td><td>NULL</td><td>NULL</td><td>NULL</td><td>NULL</td></tr>\n",
       "<tr><td>2009-01-01</td><td>XE</td><td>1214</td><td>DCA</td><td>EWR</td><td>1915</td><td>1908.0</td><td>-7.0</td><td>9.0</td><td>1917.0</td><td>1953.0</td><td>34.0</td><td>2035</td><td>2027.0</td><td>-8.0</td><td>0.0</td><td>NULL</td><td>0.0</td><td>80.0</td><td>79.0</td><td>36.0</td><td>199.0</td><td>NULL</td><td>NULL</td><td>NULL</td><td>NULL</td><td>NULL</td><td>NULL</td></tr>\n",
       "<tr><td>2009-01-01</td><td>XE</td><td>1215</td><td>EWR</td><td>DCA</td><td>1715</td><td>1710.0</td><td>-5.0</td><td>28.0</td><td>1738.0</td><td>1819.0</td><td>4.0</td><td>1838</td><td>1823.0</td><td>-15.0</td><td>0.0</td><td>NULL</td><td>0.0</td><td>83.0</td><td>73.0</td><td>41.0</td><td>199.0</td><td>NULL</td><td>NULL</td><td>NULL</td><td>NULL</td><td>NULL</td><td>NULL</td></tr>\n",
       "<tr><td>2009-01-01</td><td>XE</td><td>1217</td><td>EWR</td><td>DCA</td><td>1300</td><td>1255.0</td><td>-5.0</td><td>15.0</td><td>1310.0</td><td>1349.0</td><td>7.0</td><td>1408</td><td>1356.0</td><td>-12.0</td><td>0.0</td><td>NULL</td><td>0.0</td><td>68.0</td><td>61.0</td><td>39.0</td><td>199.0</td><td>NULL</td><td>NULL</td><td>NULL</td><td>NULL</td><td>NULL</td><td>NULL</td></tr>\n",
       "<tr><td>2009-01-01</td><td>XE</td><td>1218</td><td>DCA</td><td>EWR</td><td>1500</td><td>1457.0</td><td>-3.0</td><td>14.0</td><td>1511.0</td><td>1552.0</td><td>7.0</td><td>1620</td><td>1559.0</td><td>-21.0</td><td>0.0</td><td>NULL</td><td>0.0</td><td>80.0</td><td>62.0</td><td>41.0</td><td>199.0</td><td>NULL</td><td>NULL</td><td>NULL</td><td>NULL</td><td>NULL</td><td>NULL</td></tr>\n",
       "<tr><td>2009-01-01</td><td>XE</td><td>1219</td><td>EWR</td><td>DCA</td><td>2135</td><td>2131.0</td><td>-4.0</td><td>21.0</td><td>2152.0</td><td>2232.0</td><td>3.0</td><td>2252</td><td>2235.0</td><td>-17.0</td><td>0.0</td><td>NULL</td><td>0.0</td><td>77.0</td><td>64.0</td><td>40.0</td><td>199.0</td><td>NULL</td><td>NULL</td><td>NULL</td><td>NULL</td><td>NULL</td><td>NULL</td></tr>\n",
       "<tr><td>2009-01-01</td><td>XE</td><td>1220</td><td>CLE</td><td>DCA</td><td>1905</td><td>1855.0</td><td>-10.0</td><td>10.0</td><td>1905.0</td><td>1956.0</td><td>5.0</td><td>2025</td><td>2001.0</td><td>-24.0</td><td>0.0</td><td>NULL</td><td>0.0</td><td>80.0</td><td>66.0</td><td>51.0</td><td>310.0</td><td>NULL</td><td>NULL</td><td>NULL</td><td>NULL</td><td>NULL</td><td>NULL</td></tr>\n",
       "<tr><td>2009-01-01</td><td>XE</td><td>1220</td><td>DCA</td><td>EWR</td><td>2100</td><td>2049.0</td><td>-11.0</td><td>10.0</td><td>2059.0</td><td>2133.0</td><td>10.0</td><td>2217</td><td>2143.0</td><td>-34.0</td><td>0.0</td><td>NULL</td><td>0.0</td><td>77.0</td><td>54.0</td><td>34.0</td><td>199.0</td><td>NULL</td><td>NULL</td><td>NULL</td><td>NULL</td><td>NULL</td><td>NULL</td></tr>\n",
       "<tr><td>2009-01-01</td><td>XE</td><td>1232</td><td>ORD</td><td>EWR</td><td>905</td><td>900.0</td><td>-5.0</td><td>16.0</td><td>916.0</td><td>1144.0</td><td>6.0</td><td>1212</td><td>1150.0</td><td>-22.0</td><td>0.0</td><td>NULL</td><td>0.0</td><td>127.0</td><td>110.0</td><td>88.0</td><td>719.0</td><td>NULL</td><td>NULL</td><td>NULL</td><td>NULL</td><td>NULL</td><td>NULL</td></tr>\n",
       "<tr><td>2009-01-01</td><td>XE</td><td>1233</td><td>EWR</td><td>ORD</td><td>1000</td><td>1035.0</td><td>35.0</td><td>14.0</td><td>1049.0</td><td>1156.0</td><td>10.0</td><td>1139</td><td>1206.0</td><td>27.0</td><td>0.0</td><td>NULL</td><td>0.0</td><td>159.0</td><td>151.0</td><td>127.0</td><td>719.0</td><td>0.0</td><td>27.0</td><td>0.0</td><td>0.0</td><td>0.0</td><td>NULL</td></tr>\n",
       "<tr><td>2009-01-01</td><td>XE</td><td>1234</td><td>ORD</td><td>EWR</td><td>1230</td><td>1234.0</td><td>4.0</td><td>8.0</td><td>1242.0</td><td>1511.0</td><td>14.0</td><td>1559</td><td>1525.0</td><td>-34.0</td><td>0.0</td><td>NULL</td><td>0.0</td><td>149.0</td><td>111.0</td><td>89.0</td><td>719.0</td><td>NULL</td><td>NULL</td><td>NULL</td><td>NULL</td><td>NULL</td><td>NULL</td></tr>\n",
       "<tr><td>2009-01-01</td><td>XE</td><td>1235</td><td>EWR</td><td>ORD</td><td>1343</td><td>1406.0</td><td>23.0</td><td>13.0</td><td>1419.0</td><td>1523.0</td><td>7.0</td><td>1523</td><td>1530.0</td><td>7.0</td><td>0.0</td><td>NULL</td><td>0.0</td><td>160.0</td><td>144.0</td><td>124.0</td><td>719.0</td><td>NULL</td><td>NULL</td><td>NULL</td><td>NULL</td><td>NULL</td><td>NULL</td></tr>\n",
       "<tr><td>2009-01-01</td><td>XE</td><td>1236</td><td>ORD</td><td>EWR</td><td>1630</td><td>1619.0</td><td>-11.0</td><td>19.0</td><td>1638.0</td><td>1906.0</td><td>35.0</td><td>2002</td><td>1941.0</td><td>-21.0</td><td>0.0</td><td>NULL</td><td>0.0</td><td>152.0</td><td>142.0</td><td>88.0</td><td>719.0</td><td>NULL</td><td>NULL</td><td>NULL</td><td>NULL</td><td>NULL</td><td>NULL</td></tr>\n",
       "<tr><td>2009-01-01</td><td>XE</td><td>1237</td><td>EWR</td><td>ORD</td><td>1930</td><td>1927.0</td><td>-3.0</td><td>16.0</td><td>1943.0</td><td>2049.0</td><td>8.0</td><td>2123</td><td>2057.0</td><td>-26.0</td><td>0.0</td><td>NULL</td><td>0.0</td><td>173.0</td><td>150.0</td><td>126.0</td><td>719.0</td><td>NULL</td><td>NULL</td><td>NULL</td><td>NULL</td><td>NULL</td><td>NULL</td></tr>\n",
       "</table>\n",
       "only showing top 20 rows\n"
      ],
      "text/plain": [
       "+----------+----------+-----------------+------+----+------------+--------+---------+--------+----------+---------+-------+------------+--------+---------+---------+-----------------+--------+----------------+-------------------+--------+--------+-------------+-------------+---------+--------------+-------------------+-----------+\n",
       "|   FL_DATE|OP_CARRIER|OP_CARRIER_FL_NUM|ORIGIN|DEST|CRS_DEP_TIME|DEP_TIME|DEP_DELAY|TAXI_OUT|WHEELS_OFF|WHEELS_ON|TAXI_IN|CRS_ARR_TIME|ARR_TIME|ARR_DELAY|CANCELLED|CANCELLATION_CODE|DIVERTED|CRS_ELAPSED_TIME|ACTUAL_ELAPSED_TIME|AIR_TIME|DISTANCE|CARRIER_DELAY|WEATHER_DELAY|NAS_DELAY|SECURITY_DELAY|LATE_AIRCRAFT_DELAY|Unnamed: 27|\n",
       "+----------+----------+-----------------+------+----+------------+--------+---------+--------+----------+---------+-------+------------+--------+---------+---------+-----------------+--------+----------------+-------------------+--------+--------+-------------+-------------+---------+--------------+-------------------+-----------+\n",
       "|2009-01-01|        XE|             1204|   DCA| EWR|        1100|  1058.0|     -2.0|    18.0|    1116.0|   1158.0|    8.0|        1202|  1206.0|      4.0|      0.0|             NULL|     0.0|            62.0|               68.0|    42.0|   199.0|         NULL|         NULL|     NULL|          NULL|               NULL|       NULL|\n",
       "|2009-01-01|        XE|             1206|   EWR| IAD|        1510|  1509.0|     -1.0|    28.0|    1537.0|   1620.0|    4.0|        1632|  1624.0|     -8.0|      0.0|             NULL|     0.0|            82.0|               75.0|    43.0|   213.0|         NULL|         NULL|     NULL|          NULL|               NULL|       NULL|\n",
       "|2009-01-01|        XE|             1207|   EWR| DCA|        1100|  1059.0|     -1.0|    20.0|    1119.0|   1155.0|    6.0|        1210|  1201.0|     -9.0|      0.0|             NULL|     0.0|            70.0|               62.0|    36.0|   199.0|         NULL|         NULL|     NULL|          NULL|               NULL|       NULL|\n",
       "|2009-01-01|        XE|             1208|   DCA| EWR|        1240|  1249.0|      9.0|    10.0|    1259.0|   1336.0|    9.0|        1357|  1345.0|    -12.0|      0.0|             NULL|     0.0|            77.0|               56.0|    37.0|   199.0|         NULL|         NULL|     NULL|          NULL|               NULL|       NULL|\n",
       "|2009-01-01|        XE|             1209|   IAD| EWR|        1715|  1705.0|    -10.0|    24.0|    1729.0|   1809.0|   13.0|        1900|  1822.0|    -38.0|      0.0|             NULL|     0.0|           105.0|               77.0|    40.0|   213.0|         NULL|         NULL|     NULL|          NULL|               NULL|       NULL|\n",
       "|2009-01-01|        XE|             1212|   ATL| EWR|        1915|  1913.0|     -2.0|    19.0|    1932.0|   2108.0|   15.0|        2142|  2123.0|    -19.0|      0.0|             NULL|     0.0|           147.0|              130.0|    96.0|   745.0|         NULL|         NULL|     NULL|          NULL|               NULL|       NULL|\n",
       "|2009-01-01|        XE|             1212|   CLE| ATL|        1645|  1637.0|     -8.0|    12.0|    1649.0|   1820.0|    5.0|        1842|  1825.0|    -17.0|      0.0|             NULL|     0.0|           117.0|              108.0|    91.0|   554.0|         NULL|         NULL|     NULL|          NULL|               NULL|       NULL|\n",
       "|2009-01-01|        XE|             1214|   DCA| EWR|        1915|  1908.0|     -7.0|     9.0|    1917.0|   1953.0|   34.0|        2035|  2027.0|     -8.0|      0.0|             NULL|     0.0|            80.0|               79.0|    36.0|   199.0|         NULL|         NULL|     NULL|          NULL|               NULL|       NULL|\n",
       "|2009-01-01|        XE|             1215|   EWR| DCA|        1715|  1710.0|     -5.0|    28.0|    1738.0|   1819.0|    4.0|        1838|  1823.0|    -15.0|      0.0|             NULL|     0.0|            83.0|               73.0|    41.0|   199.0|         NULL|         NULL|     NULL|          NULL|               NULL|       NULL|\n",
       "|2009-01-01|        XE|             1217|   EWR| DCA|        1300|  1255.0|     -5.0|    15.0|    1310.0|   1349.0|    7.0|        1408|  1356.0|    -12.0|      0.0|             NULL|     0.0|            68.0|               61.0|    39.0|   199.0|         NULL|         NULL|     NULL|          NULL|               NULL|       NULL|\n",
       "|2009-01-01|        XE|             1218|   DCA| EWR|        1500|  1457.0|     -3.0|    14.0|    1511.0|   1552.0|    7.0|        1620|  1559.0|    -21.0|      0.0|             NULL|     0.0|            80.0|               62.0|    41.0|   199.0|         NULL|         NULL|     NULL|          NULL|               NULL|       NULL|\n",
       "|2009-01-01|        XE|             1219|   EWR| DCA|        2135|  2131.0|     -4.0|    21.0|    2152.0|   2232.0|    3.0|        2252|  2235.0|    -17.0|      0.0|             NULL|     0.0|            77.0|               64.0|    40.0|   199.0|         NULL|         NULL|     NULL|          NULL|               NULL|       NULL|\n",
       "|2009-01-01|        XE|             1220|   CLE| DCA|        1905|  1855.0|    -10.0|    10.0|    1905.0|   1956.0|    5.0|        2025|  2001.0|    -24.0|      0.0|             NULL|     0.0|            80.0|               66.0|    51.0|   310.0|         NULL|         NULL|     NULL|          NULL|               NULL|       NULL|\n",
       "|2009-01-01|        XE|             1220|   DCA| EWR|        2100|  2049.0|    -11.0|    10.0|    2059.0|   2133.0|   10.0|        2217|  2143.0|    -34.0|      0.0|             NULL|     0.0|            77.0|               54.0|    34.0|   199.0|         NULL|         NULL|     NULL|          NULL|               NULL|       NULL|\n",
       "|2009-01-01|        XE|             1232|   ORD| EWR|         905|   900.0|     -5.0|    16.0|     916.0|   1144.0|    6.0|        1212|  1150.0|    -22.0|      0.0|             NULL|     0.0|           127.0|              110.0|    88.0|   719.0|         NULL|         NULL|     NULL|          NULL|               NULL|       NULL|\n",
       "|2009-01-01|        XE|             1233|   EWR| ORD|        1000|  1035.0|     35.0|    14.0|    1049.0|   1156.0|   10.0|        1139|  1206.0|     27.0|      0.0|             NULL|     0.0|           159.0|              151.0|   127.0|   719.0|          0.0|         27.0|      0.0|           0.0|                0.0|       NULL|\n",
       "|2009-01-01|        XE|             1234|   ORD| EWR|        1230|  1234.0|      4.0|     8.0|    1242.0|   1511.0|   14.0|        1559|  1525.0|    -34.0|      0.0|             NULL|     0.0|           149.0|              111.0|    89.0|   719.0|         NULL|         NULL|     NULL|          NULL|               NULL|       NULL|\n",
       "|2009-01-01|        XE|             1235|   EWR| ORD|        1343|  1406.0|     23.0|    13.0|    1419.0|   1523.0|    7.0|        1523|  1530.0|      7.0|      0.0|             NULL|     0.0|           160.0|              144.0|   124.0|   719.0|         NULL|         NULL|     NULL|          NULL|               NULL|       NULL|\n",
       "|2009-01-01|        XE|             1236|   ORD| EWR|        1630|  1619.0|    -11.0|    19.0|    1638.0|   1906.0|   35.0|        2002|  1941.0|    -21.0|      0.0|             NULL|     0.0|           152.0|              142.0|    88.0|   719.0|         NULL|         NULL|     NULL|          NULL|               NULL|       NULL|\n",
       "|2009-01-01|        XE|             1237|   EWR| ORD|        1930|  1927.0|     -3.0|    16.0|    1943.0|   2049.0|    8.0|        2123|  2057.0|    -26.0|      0.0|             NULL|     0.0|           173.0|              150.0|   126.0|   719.0|         NULL|         NULL|     NULL|          NULL|               NULL|       NULL|\n",
       "+----------+----------+-----------------+------+----+------------+--------+---------+--------+----------+---------+-------+------------+--------+---------+---------+-----------------+--------+----------------+-------------------+--------+--------+-------------+-------------+---------+--------------+-------------------+-----------+\n",
       "only showing top 20 rows"
      ]
     },
     "metadata": {},
     "output_type": "display_data"
    }
   ],
   "source": [
    "flight_df = spark.read.csv(\"data/2009.csv\", header=True, inferSchema=True)\n",
    "display(flight_df)"
   ]
  },
  {
   "cell_type": "code",
   "execution_count": 17,
   "id": "ff970fe7-bd02-4289-9398-4e54f9aea3c3",
   "metadata": {
    "scrolled": true
   },
   "outputs": [
    {
     "name": "stdout",
     "output_type": "stream",
     "text": [
      "root\n",
      " |-- FL_DATE: date (nullable = true)\n",
      " |-- OP_CARRIER: string (nullable = true)\n",
      " |-- OP_CARRIER_FL_NUM: integer (nullable = true)\n",
      " |-- ORIGIN: string (nullable = true)\n",
      " |-- DEST: string (nullable = true)\n",
      " |-- CRS_DEP_TIME: integer (nullable = true)\n",
      " |-- DEP_TIME: double (nullable = true)\n",
      " |-- DEP_DELAY: double (nullable = true)\n",
      " |-- TAXI_OUT: double (nullable = true)\n",
      " |-- WHEELS_OFF: double (nullable = true)\n",
      " |-- WHEELS_ON: double (nullable = true)\n",
      " |-- TAXI_IN: double (nullable = true)\n",
      " |-- CRS_ARR_TIME: integer (nullable = true)\n",
      " |-- ARR_TIME: double (nullable = true)\n",
      " |-- ARR_DELAY: double (nullable = true)\n",
      " |-- CANCELLED: double (nullable = true)\n",
      " |-- CANCELLATION_CODE: string (nullable = true)\n",
      " |-- DIVERTED: double (nullable = true)\n",
      " |-- CRS_ELAPSED_TIME: double (nullable = true)\n",
      " |-- ACTUAL_ELAPSED_TIME: double (nullable = true)\n",
      " |-- AIR_TIME: double (nullable = true)\n",
      " |-- DISTANCE: double (nullable = true)\n",
      " |-- CARRIER_DELAY: double (nullable = true)\n",
      " |-- WEATHER_DELAY: double (nullable = true)\n",
      " |-- NAS_DELAY: double (nullable = true)\n",
      " |-- SECURITY_DELAY: double (nullable = true)\n",
      " |-- LATE_AIRCRAFT_DELAY: double (nullable = true)\n",
      " |-- Unnamed: 27: string (nullable = true)\n",
      "\n"
     ]
    }
   ],
   "source": [
    "flight_df.printSchema()"
   ]
  },
  {
   "cell_type": "markdown",
   "id": "98d51989-f6eb-45a9-95e3-07744859eb6a",
   "metadata": {},
   "source": [
    "## Filtering data"
   ]
  },
  {
   "cell_type": "markdown",
   "id": "dd56a62e-53d7-4dbf-a267-691de75f3603",
   "metadata": {},
   "source": [
    "### Edges"
   ]
  },
  {
   "cell_type": "code",
   "execution_count": 19,
   "id": "deec58b4-a299-4e55-97a1-334393460f0d",
   "metadata": {},
   "outputs": [],
   "source": [
    "flight_edgs_df = (flight_df\n",
    "    .filter(\n",
    "        F.column(\"ORIGIN\").isNotNull() & F.column(\"DEST\").isNotNull()\n",
    "    )\n",
    "    .select(\n",
    "        F.column(\"ORIGIN\").alias(\"src\"), \n",
    "        F.column(\"DEST\").alias(\"dst\"), \n",
    "        F.column(\"FL_DATE\"), \n",
    "        F.column(\"CANCELLED\"), \n",
    "        F.column(\"ARR_TIME\"), \n",
    "        F.column(\"DISTANCE\"), \n",
    "    )\n",
    ")"
   ]
  },
  {
   "cell_type": "markdown",
   "id": "57fa5517-b8e2-4eef-bb48-6b26d66830ca",
   "metadata": {},
   "source": [
    "### Vertex"
   ]
  },
  {
   "cell_type": "code",
   "execution_count": 22,
   "id": "a7cfa8b1-7168-4bd0-bcac-6901d4c32259",
   "metadata": {},
   "outputs": [
    {
     "ename": "SyntaxError",
     "evalue": "invalid syntax (772672183.py, line 9)",
     "output_type": "error",
     "traceback": [
      "\u001b[0;36m  Cell \u001b[0;32mIn[22], line 9\u001b[0;36m\u001b[0m\n\u001b[0;31m    .select(\u001b[0m\n\u001b[0m    ^\u001b[0m\n\u001b[0;31mSyntaxError\u001b[0m\u001b[0;31m:\u001b[0m invalid syntax\n"
     ]
    }
   ],
   "source": [
    "flight_vertex_df = (flight_df\n",
    "    .filter(\n",
    "        F.column(\"ORIGIN\").isNotNull() & F.column(\"DEST\").isNotNull()\n",
    "    )\n",
    "    .select(\n",
    "        F.column(\"ORIGIN\").alias(\"id\") \n",
    "    )\n",
    "    .union(flight_df\n",
    "        .select(\n",
    "            F.column(\"DEST\").alias(\"id\")\n",
    "        )\n",
    "    )\n",
    "    .distinct()\n",
    ")"
   ]
  },
  {
   "cell_type": "code",
   "execution_count": null,
   "id": "a5bbe80e-434d-42fc-b8c6-203d9cdcc330",
   "metadata": {},
   "outputs": [],
   "source": []
  }
 ],
 "metadata": {
  "kernelspec": {
   "display_name": "Python 3 (ipykernel)",
   "language": "python",
   "name": "python3"
  },
  "language_info": {
   "codemirror_mode": {
    "name": "ipython",
    "version": 3
   },
   "file_extension": ".py",
   "mimetype": "text/x-python",
   "name": "python",
   "nbconvert_exporter": "python",
   "pygments_lexer": "ipython3",
   "version": "3.11.10"
  }
 },
 "nbformat": 4,
 "nbformat_minor": 5
}
